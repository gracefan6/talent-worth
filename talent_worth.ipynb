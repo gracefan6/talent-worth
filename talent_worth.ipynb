{
  "nbformat": 4,
  "nbformat_minor": 0,
  "metadata": {
    "colab": {
      "name": "talent-worth.ipynb",
      "provenance": [],
      "collapsed_sections": []
    },
    "kernelspec": {
      "name": "python3",
      "display_name": "Python 3"
    }
  },
  "cells": [
    {
      "cell_type": "code",
      "metadata": {
        "colab": {
          "base_uri": "https://localhost:8080/"
        },
        "id": "IhsOv_14X1x1",
        "outputId": "59d45d53-fe54-42a4-d46d-db4e56e4155d"
      },
      "source": [
        "from google.colab import drive\n",
        "drive.mount('/content/drive')"
      ],
      "execution_count": 8,
      "outputs": [
        {
          "output_type": "stream",
          "text": [
            "Mounted at /content/drive\n"
          ],
          "name": "stdout"
        }
      ]
    },
    {
      "cell_type": "code",
      "metadata": {
        "id": "MYZWrmrhYQHT"
      },
      "source": [
        "import plotly\n",
        "import plotly.express as px\n",
        "import pandas as pd\n",
        "import numpy as np\n",
        "import os\n",
        "import re"
      ],
      "execution_count": 1,
      "outputs": []
    },
    {
      "cell_type": "code",
      "metadata": {
        "colab": {
          "base_uri": "https://localhost:8080/"
        },
        "id": "SiKoqDFnsYub",
        "outputId": "a56992b2-1807-4b1c-f4c5-4205156444f0"
      },
      "source": [
        "%cd /content/drive/MyDrive/Colab Notebooks/data-analysis"
      ],
      "execution_count": 9,
      "outputs": [
        {
          "output_type": "stream",
          "text": [
            "/content/drive/MyDrive/Colab Notebooks/data-analysis\n"
          ],
          "name": "stdout"
        }
      ]
    },
    {
      "cell_type": "markdown",
      "metadata": {
        "id": "lgZR5oz7qp1C"
      },
      "source": [
        "## Dataset preprocessing"
      ]
    },
    {
      "cell_type": "markdown",
      "metadata": {
        "id": "iMuImfDDwtRz"
      },
      "source": [
        "### Kaggle"
      ]
    },
    {
      "cell_type": "code",
      "metadata": {
        "colab": {
          "base_uri": "https://localhost:8080/",
          "height": 678
        },
        "id": "t7ICpEV_xCda",
        "outputId": "10b095a2-181e-4ed8-8e0f-d6f0b0281515"
      },
      "source": [
        "kaggle_path = get_csv_from_gdrive(KAGGLE_URL)\n",
        "kaggle_multiple_choice = pd.read_csv(\"data/multiple_choice_responses.csv\", low_memory=False)\n",
        "kaggle_multiple_choice.head()"
      ],
      "execution_count": 10,
      "outputs": [
        {
          "output_type": "execute_result",
          "data": {
            "text/html": [
              "<div>\n",
              "<style scoped>\n",
              "    .dataframe tbody tr th:only-of-type {\n",
              "        vertical-align: middle;\n",
              "    }\n",
              "\n",
              "    .dataframe tbody tr th {\n",
              "        vertical-align: top;\n",
              "    }\n",
              "\n",
              "    .dataframe thead th {\n",
              "        text-align: right;\n",
              "    }\n",
              "</style>\n",
              "<table border=\"1\" class=\"dataframe\">\n",
              "  <thead>\n",
              "    <tr style=\"text-align: right;\">\n",
              "      <th></th>\n",
              "      <th>Time from Start to Finish (seconds)</th>\n",
              "      <th>Q1</th>\n",
              "      <th>Q2</th>\n",
              "      <th>Q2_OTHER_TEXT</th>\n",
              "      <th>Q3</th>\n",
              "      <th>Q4</th>\n",
              "      <th>Q5</th>\n",
              "      <th>Q5_OTHER_TEXT</th>\n",
              "      <th>Q6</th>\n",
              "      <th>Q7</th>\n",
              "      <th>Q8</th>\n",
              "      <th>Q9_Part_1</th>\n",
              "      <th>Q9_Part_2</th>\n",
              "      <th>Q9_Part_3</th>\n",
              "      <th>Q9_Part_4</th>\n",
              "      <th>Q9_Part_5</th>\n",
              "      <th>Q9_Part_6</th>\n",
              "      <th>Q9_Part_7</th>\n",
              "      <th>Q9_Part_8</th>\n",
              "      <th>Q9_OTHER_TEXT</th>\n",
              "      <th>Q10</th>\n",
              "      <th>Q11</th>\n",
              "      <th>Q12_Part_1</th>\n",
              "      <th>Q12_Part_2</th>\n",
              "      <th>Q12_Part_3</th>\n",
              "      <th>Q12_Part_4</th>\n",
              "      <th>Q12_Part_5</th>\n",
              "      <th>Q12_Part_6</th>\n",
              "      <th>Q12_Part_7</th>\n",
              "      <th>Q12_Part_8</th>\n",
              "      <th>Q12_Part_9</th>\n",
              "      <th>Q12_Part_10</th>\n",
              "      <th>Q12_Part_11</th>\n",
              "      <th>Q12_Part_12</th>\n",
              "      <th>Q12_OTHER_TEXT</th>\n",
              "      <th>Q13_Part_1</th>\n",
              "      <th>Q13_Part_2</th>\n",
              "      <th>Q13_Part_3</th>\n",
              "      <th>Q13_Part_4</th>\n",
              "      <th>Q13_Part_5</th>\n",
              "      <th>...</th>\n",
              "      <th>Q31_OTHER_TEXT</th>\n",
              "      <th>Q32_Part_1</th>\n",
              "      <th>Q32_Part_2</th>\n",
              "      <th>Q32_Part_3</th>\n",
              "      <th>Q32_Part_4</th>\n",
              "      <th>Q32_Part_5</th>\n",
              "      <th>Q32_Part_6</th>\n",
              "      <th>Q32_Part_7</th>\n",
              "      <th>Q32_Part_8</th>\n",
              "      <th>Q32_Part_9</th>\n",
              "      <th>Q32_Part_10</th>\n",
              "      <th>Q32_Part_11</th>\n",
              "      <th>Q32_Part_12</th>\n",
              "      <th>Q32_OTHER_TEXT</th>\n",
              "      <th>Q33_Part_1</th>\n",
              "      <th>Q33_Part_2</th>\n",
              "      <th>Q33_Part_3</th>\n",
              "      <th>Q33_Part_4</th>\n",
              "      <th>Q33_Part_5</th>\n",
              "      <th>Q33_Part_6</th>\n",
              "      <th>Q33_Part_7</th>\n",
              "      <th>Q33_Part_8</th>\n",
              "      <th>Q33_Part_9</th>\n",
              "      <th>Q33_Part_10</th>\n",
              "      <th>Q33_Part_11</th>\n",
              "      <th>Q33_Part_12</th>\n",
              "      <th>Q33_OTHER_TEXT</th>\n",
              "      <th>Q34_Part_1</th>\n",
              "      <th>Q34_Part_2</th>\n",
              "      <th>Q34_Part_3</th>\n",
              "      <th>Q34_Part_4</th>\n",
              "      <th>Q34_Part_5</th>\n",
              "      <th>Q34_Part_6</th>\n",
              "      <th>Q34_Part_7</th>\n",
              "      <th>Q34_Part_8</th>\n",
              "      <th>Q34_Part_9</th>\n",
              "      <th>Q34_Part_10</th>\n",
              "      <th>Q34_Part_11</th>\n",
              "      <th>Q34_Part_12</th>\n",
              "      <th>Q34_OTHER_TEXT</th>\n",
              "    </tr>\n",
              "  </thead>\n",
              "  <tbody>\n",
              "    <tr>\n",
              "      <th>0</th>\n",
              "      <td>Duration (in seconds)</td>\n",
              "      <td>What is your age (# years)?</td>\n",
              "      <td>What is your gender? - Selected Choice</td>\n",
              "      <td>What is your gender? - Prefer to self-describe...</td>\n",
              "      <td>In which country do you currently reside?</td>\n",
              "      <td>What is the highest level of formal education ...</td>\n",
              "      <td>Select the title most similar to your current ...</td>\n",
              "      <td>Select the title most similar to your current ...</td>\n",
              "      <td>What is the size of the company where you are ...</td>\n",
              "      <td>Approximately how many individuals are respons...</td>\n",
              "      <td>Does your current employer incorporate machine...</td>\n",
              "      <td>Select any activities that make up an importan...</td>\n",
              "      <td>Select any activities that make up an importan...</td>\n",
              "      <td>Select any activities that make up an importan...</td>\n",
              "      <td>Select any activities that make up an importan...</td>\n",
              "      <td>Select any activities that make up an importan...</td>\n",
              "      <td>Select any activities that make up an importan...</td>\n",
              "      <td>Select any activities that make up an importan...</td>\n",
              "      <td>Select any activities that make up an importan...</td>\n",
              "      <td>Select any activities that make up an importan...</td>\n",
              "      <td>What is your current yearly compensation (appr...</td>\n",
              "      <td>Approximately how much money have you spent on...</td>\n",
              "      <td>Who/what are your favorite media sources that ...</td>\n",
              "      <td>Who/what are your favorite media sources that ...</td>\n",
              "      <td>Who/what are your favorite media sources that ...</td>\n",
              "      <td>Who/what are your favorite media sources that ...</td>\n",
              "      <td>Who/what are your favorite media sources that ...</td>\n",
              "      <td>Who/what are your favorite media sources that ...</td>\n",
              "      <td>Who/what are your favorite media sources that ...</td>\n",
              "      <td>Who/what are your favorite media sources that ...</td>\n",
              "      <td>Who/what are your favorite media sources that ...</td>\n",
              "      <td>Who/what are your favorite media sources that ...</td>\n",
              "      <td>Who/what are your favorite media sources that ...</td>\n",
              "      <td>Who/what are your favorite media sources that ...</td>\n",
              "      <td>Who/what are your favorite media sources that ...</td>\n",
              "      <td>On which platforms have you begun or completed...</td>\n",
              "      <td>On which platforms have you begun or completed...</td>\n",
              "      <td>On which platforms have you begun or completed...</td>\n",
              "      <td>On which platforms have you begun or completed...</td>\n",
              "      <td>On which platforms have you begun or completed...</td>\n",
              "      <td>...</td>\n",
              "      <td>Which specific big data / analytics products d...</td>\n",
              "      <td>Which of the following machine learning produc...</td>\n",
              "      <td>Which of the following machine learning produc...</td>\n",
              "      <td>Which of the following machine learning produc...</td>\n",
              "      <td>Which of the following machine learning produc...</td>\n",
              "      <td>Which of the following machine learning produc...</td>\n",
              "      <td>Which of the following machine learning produc...</td>\n",
              "      <td>Which of the following machine learning produc...</td>\n",
              "      <td>Which of the following machine learning produc...</td>\n",
              "      <td>Which of the following machine learning produc...</td>\n",
              "      <td>Which of the following machine learning produc...</td>\n",
              "      <td>Which of the following machine learning produc...</td>\n",
              "      <td>Which of the following machine learning produc...</td>\n",
              "      <td>Which of the following machine learning produc...</td>\n",
              "      <td>Which automated machine learning tools (or par...</td>\n",
              "      <td>Which automated machine learning tools (or par...</td>\n",
              "      <td>Which automated machine learning tools (or par...</td>\n",
              "      <td>Which automated machine learning tools (or par...</td>\n",
              "      <td>Which automated machine learning tools (or par...</td>\n",
              "      <td>Which automated machine learning tools (or par...</td>\n",
              "      <td>Which automated machine learning tools (or par...</td>\n",
              "      <td>Which automated machine learning tools (or par...</td>\n",
              "      <td>Which automated machine learning tools (or par...</td>\n",
              "      <td>Which automated machine learning tools (or par...</td>\n",
              "      <td>Which automated machine learning tools (or par...</td>\n",
              "      <td>Which automated machine learning tools (or par...</td>\n",
              "      <td>Which automated machine learning tools (or par...</td>\n",
              "      <td>Which of the following relational database pro...</td>\n",
              "      <td>Which of the following relational database pro...</td>\n",
              "      <td>Which of the following relational database pro...</td>\n",
              "      <td>Which of the following relational database pro...</td>\n",
              "      <td>Which of the following relational database pro...</td>\n",
              "      <td>Which of the following relational database pro...</td>\n",
              "      <td>Which of the following relational database pro...</td>\n",
              "      <td>Which of the following relational database pro...</td>\n",
              "      <td>Which of the following relational database pro...</td>\n",
              "      <td>Which of the following relational database pro...</td>\n",
              "      <td>Which of the following relational database pro...</td>\n",
              "      <td>Which of the following relational database pro...</td>\n",
              "      <td>Which of the following relational database pro...</td>\n",
              "    </tr>\n",
              "    <tr>\n",
              "      <th>1</th>\n",
              "      <td>510</td>\n",
              "      <td>22-24</td>\n",
              "      <td>Male</td>\n",
              "      <td>-1</td>\n",
              "      <td>France</td>\n",
              "      <td>Master’s degree</td>\n",
              "      <td>Software Engineer</td>\n",
              "      <td>-1</td>\n",
              "      <td>1000-9,999 employees</td>\n",
              "      <td>0</td>\n",
              "      <td>I do not know</td>\n",
              "      <td>NaN</td>\n",
              "      <td>NaN</td>\n",
              "      <td>NaN</td>\n",
              "      <td>NaN</td>\n",
              "      <td>NaN</td>\n",
              "      <td>NaN</td>\n",
              "      <td>NaN</td>\n",
              "      <td>NaN</td>\n",
              "      <td>-1</td>\n",
              "      <td>30,000-39,999</td>\n",
              "      <td>$0 (USD)</td>\n",
              "      <td>Twitter (data science influencers)</td>\n",
              "      <td>NaN</td>\n",
              "      <td>NaN</td>\n",
              "      <td>Kaggle (forums, blog, social media, etc)</td>\n",
              "      <td>NaN</td>\n",
              "      <td>NaN</td>\n",
              "      <td>NaN</td>\n",
              "      <td>Blogs (Towards Data Science, Medium, Analytics...</td>\n",
              "      <td>Journal Publications (traditional publications...</td>\n",
              "      <td>NaN</td>\n",
              "      <td>NaN</td>\n",
              "      <td>NaN</td>\n",
              "      <td>-1</td>\n",
              "      <td>NaN</td>\n",
              "      <td>Coursera</td>\n",
              "      <td>NaN</td>\n",
              "      <td>DataCamp</td>\n",
              "      <td>NaN</td>\n",
              "      <td>...</td>\n",
              "      <td>-1</td>\n",
              "      <td>NaN</td>\n",
              "      <td>NaN</td>\n",
              "      <td>NaN</td>\n",
              "      <td>NaN</td>\n",
              "      <td>NaN</td>\n",
              "      <td>NaN</td>\n",
              "      <td>NaN</td>\n",
              "      <td>NaN</td>\n",
              "      <td>NaN</td>\n",
              "      <td>NaN</td>\n",
              "      <td>NaN</td>\n",
              "      <td>NaN</td>\n",
              "      <td>-1</td>\n",
              "      <td>NaN</td>\n",
              "      <td>NaN</td>\n",
              "      <td>NaN</td>\n",
              "      <td>NaN</td>\n",
              "      <td>NaN</td>\n",
              "      <td>NaN</td>\n",
              "      <td>NaN</td>\n",
              "      <td>NaN</td>\n",
              "      <td>NaN</td>\n",
              "      <td>NaN</td>\n",
              "      <td>NaN</td>\n",
              "      <td>NaN</td>\n",
              "      <td>-1</td>\n",
              "      <td>NaN</td>\n",
              "      <td>NaN</td>\n",
              "      <td>NaN</td>\n",
              "      <td>NaN</td>\n",
              "      <td>NaN</td>\n",
              "      <td>NaN</td>\n",
              "      <td>NaN</td>\n",
              "      <td>NaN</td>\n",
              "      <td>NaN</td>\n",
              "      <td>NaN</td>\n",
              "      <td>NaN</td>\n",
              "      <td>NaN</td>\n",
              "      <td>-1</td>\n",
              "    </tr>\n",
              "    <tr>\n",
              "      <th>2</th>\n",
              "      <td>423</td>\n",
              "      <td>40-44</td>\n",
              "      <td>Male</td>\n",
              "      <td>-1</td>\n",
              "      <td>India</td>\n",
              "      <td>Professional degree</td>\n",
              "      <td>Software Engineer</td>\n",
              "      <td>-1</td>\n",
              "      <td>&gt; 10,000 employees</td>\n",
              "      <td>20+</td>\n",
              "      <td>We have well established ML methods (i.e., mod...</td>\n",
              "      <td>Analyze and understand data to influence produ...</td>\n",
              "      <td>Build and/or run the data infrastructure that ...</td>\n",
              "      <td>Build prototypes to explore applying machine l...</td>\n",
              "      <td>Build and/or run a machine learning service th...</td>\n",
              "      <td>NaN</td>\n",
              "      <td>NaN</td>\n",
              "      <td>NaN</td>\n",
              "      <td>NaN</td>\n",
              "      <td>-1</td>\n",
              "      <td>5,000-7,499</td>\n",
              "      <td>&gt; $100,000 ($USD)</td>\n",
              "      <td>NaN</td>\n",
              "      <td>NaN</td>\n",
              "      <td>NaN</td>\n",
              "      <td>Kaggle (forums, blog, social media, etc)</td>\n",
              "      <td>NaN</td>\n",
              "      <td>YouTube (Cloud AI Adventures, Siraj Raval, etc)</td>\n",
              "      <td>Podcasts (Chai Time Data Science, Linear Digre...</td>\n",
              "      <td>Blogs (Towards Data Science, Medium, Analytics...</td>\n",
              "      <td>NaN</td>\n",
              "      <td>NaN</td>\n",
              "      <td>NaN</td>\n",
              "      <td>NaN</td>\n",
              "      <td>-1</td>\n",
              "      <td>NaN</td>\n",
              "      <td>Coursera</td>\n",
              "      <td>NaN</td>\n",
              "      <td>DataCamp</td>\n",
              "      <td>NaN</td>\n",
              "      <td>...</td>\n",
              "      <td>-1</td>\n",
              "      <td>NaN</td>\n",
              "      <td>NaN</td>\n",
              "      <td>NaN</td>\n",
              "      <td>NaN</td>\n",
              "      <td>NaN</td>\n",
              "      <td>NaN</td>\n",
              "      <td>NaN</td>\n",
              "      <td>NaN</td>\n",
              "      <td>NaN</td>\n",
              "      <td>NaN</td>\n",
              "      <td>NaN</td>\n",
              "      <td>NaN</td>\n",
              "      <td>-1</td>\n",
              "      <td>NaN</td>\n",
              "      <td>NaN</td>\n",
              "      <td>NaN</td>\n",
              "      <td>NaN</td>\n",
              "      <td>NaN</td>\n",
              "      <td>NaN</td>\n",
              "      <td>NaN</td>\n",
              "      <td>NaN</td>\n",
              "      <td>NaN</td>\n",
              "      <td>NaN</td>\n",
              "      <td>NaN</td>\n",
              "      <td>NaN</td>\n",
              "      <td>-1</td>\n",
              "      <td>NaN</td>\n",
              "      <td>NaN</td>\n",
              "      <td>NaN</td>\n",
              "      <td>NaN</td>\n",
              "      <td>NaN</td>\n",
              "      <td>NaN</td>\n",
              "      <td>NaN</td>\n",
              "      <td>NaN</td>\n",
              "      <td>NaN</td>\n",
              "      <td>NaN</td>\n",
              "      <td>NaN</td>\n",
              "      <td>NaN</td>\n",
              "      <td>-1</td>\n",
              "    </tr>\n",
              "    <tr>\n",
              "      <th>3</th>\n",
              "      <td>83</td>\n",
              "      <td>55-59</td>\n",
              "      <td>Female</td>\n",
              "      <td>-1</td>\n",
              "      <td>Germany</td>\n",
              "      <td>Professional degree</td>\n",
              "      <td>NaN</td>\n",
              "      <td>-1</td>\n",
              "      <td>NaN</td>\n",
              "      <td>NaN</td>\n",
              "      <td>NaN</td>\n",
              "      <td>NaN</td>\n",
              "      <td>NaN</td>\n",
              "      <td>NaN</td>\n",
              "      <td>NaN</td>\n",
              "      <td>NaN</td>\n",
              "      <td>NaN</td>\n",
              "      <td>NaN</td>\n",
              "      <td>NaN</td>\n",
              "      <td>-1</td>\n",
              "      <td>NaN</td>\n",
              "      <td>NaN</td>\n",
              "      <td>NaN</td>\n",
              "      <td>NaN</td>\n",
              "      <td>NaN</td>\n",
              "      <td>NaN</td>\n",
              "      <td>NaN</td>\n",
              "      <td>NaN</td>\n",
              "      <td>NaN</td>\n",
              "      <td>NaN</td>\n",
              "      <td>NaN</td>\n",
              "      <td>NaN</td>\n",
              "      <td>NaN</td>\n",
              "      <td>NaN</td>\n",
              "      <td>-1</td>\n",
              "      <td>NaN</td>\n",
              "      <td>NaN</td>\n",
              "      <td>NaN</td>\n",
              "      <td>NaN</td>\n",
              "      <td>NaN</td>\n",
              "      <td>...</td>\n",
              "      <td>-1</td>\n",
              "      <td>NaN</td>\n",
              "      <td>NaN</td>\n",
              "      <td>NaN</td>\n",
              "      <td>NaN</td>\n",
              "      <td>NaN</td>\n",
              "      <td>NaN</td>\n",
              "      <td>NaN</td>\n",
              "      <td>NaN</td>\n",
              "      <td>NaN</td>\n",
              "      <td>NaN</td>\n",
              "      <td>NaN</td>\n",
              "      <td>NaN</td>\n",
              "      <td>-1</td>\n",
              "      <td>NaN</td>\n",
              "      <td>NaN</td>\n",
              "      <td>NaN</td>\n",
              "      <td>NaN</td>\n",
              "      <td>NaN</td>\n",
              "      <td>NaN</td>\n",
              "      <td>NaN</td>\n",
              "      <td>NaN</td>\n",
              "      <td>NaN</td>\n",
              "      <td>NaN</td>\n",
              "      <td>NaN</td>\n",
              "      <td>NaN</td>\n",
              "      <td>-1</td>\n",
              "      <td>NaN</td>\n",
              "      <td>NaN</td>\n",
              "      <td>NaN</td>\n",
              "      <td>NaN</td>\n",
              "      <td>NaN</td>\n",
              "      <td>NaN</td>\n",
              "      <td>NaN</td>\n",
              "      <td>NaN</td>\n",
              "      <td>NaN</td>\n",
              "      <td>NaN</td>\n",
              "      <td>NaN</td>\n",
              "      <td>NaN</td>\n",
              "      <td>-1</td>\n",
              "    </tr>\n",
              "    <tr>\n",
              "      <th>4</th>\n",
              "      <td>391</td>\n",
              "      <td>40-44</td>\n",
              "      <td>Male</td>\n",
              "      <td>-1</td>\n",
              "      <td>Australia</td>\n",
              "      <td>Master’s degree</td>\n",
              "      <td>Other</td>\n",
              "      <td>0</td>\n",
              "      <td>&gt; 10,000 employees</td>\n",
              "      <td>20+</td>\n",
              "      <td>I do not know</td>\n",
              "      <td>NaN</td>\n",
              "      <td>NaN</td>\n",
              "      <td>NaN</td>\n",
              "      <td>NaN</td>\n",
              "      <td>NaN</td>\n",
              "      <td>NaN</td>\n",
              "      <td>NaN</td>\n",
              "      <td>NaN</td>\n",
              "      <td>-1</td>\n",
              "      <td>250,000-299,999</td>\n",
              "      <td>$10,000-$99,999</td>\n",
              "      <td>NaN</td>\n",
              "      <td>NaN</td>\n",
              "      <td>NaN</td>\n",
              "      <td>NaN</td>\n",
              "      <td>NaN</td>\n",
              "      <td>NaN</td>\n",
              "      <td>Podcasts (Chai Time Data Science, Linear Digre...</td>\n",
              "      <td>Blogs (Towards Data Science, Medium, Analytics...</td>\n",
              "      <td>Journal Publications (traditional publications...</td>\n",
              "      <td>Slack Communities (ods.ai, kagglenoobs, etc)</td>\n",
              "      <td>NaN</td>\n",
              "      <td>NaN</td>\n",
              "      <td>-1</td>\n",
              "      <td>NaN</td>\n",
              "      <td>Coursera</td>\n",
              "      <td>edX</td>\n",
              "      <td>DataCamp</td>\n",
              "      <td>NaN</td>\n",
              "      <td>...</td>\n",
              "      <td>-1</td>\n",
              "      <td>NaN</td>\n",
              "      <td>NaN</td>\n",
              "      <td>Azure Machine Learning Studio</td>\n",
              "      <td>NaN</td>\n",
              "      <td>NaN</td>\n",
              "      <td>NaN</td>\n",
              "      <td>NaN</td>\n",
              "      <td>NaN</td>\n",
              "      <td>NaN</td>\n",
              "      <td>NaN</td>\n",
              "      <td>NaN</td>\n",
              "      <td>NaN</td>\n",
              "      <td>-1</td>\n",
              "      <td>NaN</td>\n",
              "      <td>NaN</td>\n",
              "      <td>NaN</td>\n",
              "      <td>NaN</td>\n",
              "      <td>NaN</td>\n",
              "      <td>NaN</td>\n",
              "      <td>NaN</td>\n",
              "      <td>NaN</td>\n",
              "      <td>NaN</td>\n",
              "      <td>NaN</td>\n",
              "      <td>None</td>\n",
              "      <td>NaN</td>\n",
              "      <td>-1</td>\n",
              "      <td>NaN</td>\n",
              "      <td>NaN</td>\n",
              "      <td>NaN</td>\n",
              "      <td>NaN</td>\n",
              "      <td>NaN</td>\n",
              "      <td>NaN</td>\n",
              "      <td>NaN</td>\n",
              "      <td>NaN</td>\n",
              "      <td>Azure SQL Database</td>\n",
              "      <td>NaN</td>\n",
              "      <td>NaN</td>\n",
              "      <td>NaN</td>\n",
              "      <td>-1</td>\n",
              "    </tr>\n",
              "  </tbody>\n",
              "</table>\n",
              "<p>5 rows × 246 columns</p>\n",
              "</div>"
            ],
            "text/plain": [
              "  Time from Start to Finish (seconds)  ...                                     Q34_OTHER_TEXT\n",
              "0               Duration (in seconds)  ...  Which of the following relational database pro...\n",
              "1                                 510  ...                                                 -1\n",
              "2                                 423  ...                                                 -1\n",
              "3                                  83  ...                                                 -1\n",
              "4                                 391  ...                                                 -1\n",
              "\n",
              "[5 rows x 246 columns]"
            ]
          },
          "metadata": {
            "tags": []
          },
          "execution_count": 10
        }
      ]
    },
    {
      "cell_type": "code",
      "metadata": {
        "colab": {
          "base_uri": "https://localhost:8080/",
          "height": 661
        },
        "id": "yeQ2OgTixffL",
        "outputId": "010336e4-7670-4662-be4f-444cf7e7ce9c"
      },
      "source": [
        "kaggle = kaggle_multiple_choice.iloc[1:,:]\n",
        "kaggle.head()"
      ],
      "execution_count": 12,
      "outputs": [
        {
          "output_type": "execute_result",
          "data": {
            "text/html": [
              "<div>\n",
              "<style scoped>\n",
              "    .dataframe tbody tr th:only-of-type {\n",
              "        vertical-align: middle;\n",
              "    }\n",
              "\n",
              "    .dataframe tbody tr th {\n",
              "        vertical-align: top;\n",
              "    }\n",
              "\n",
              "    .dataframe thead th {\n",
              "        text-align: right;\n",
              "    }\n",
              "</style>\n",
              "<table border=\"1\" class=\"dataframe\">\n",
              "  <thead>\n",
              "    <tr style=\"text-align: right;\">\n",
              "      <th></th>\n",
              "      <th>Time from Start to Finish (seconds)</th>\n",
              "      <th>Q1</th>\n",
              "      <th>Q2</th>\n",
              "      <th>Q2_OTHER_TEXT</th>\n",
              "      <th>Q3</th>\n",
              "      <th>Q4</th>\n",
              "      <th>Q5</th>\n",
              "      <th>Q5_OTHER_TEXT</th>\n",
              "      <th>Q6</th>\n",
              "      <th>Q7</th>\n",
              "      <th>Q8</th>\n",
              "      <th>Q9_Part_1</th>\n",
              "      <th>Q9_Part_2</th>\n",
              "      <th>Q9_Part_3</th>\n",
              "      <th>Q9_Part_4</th>\n",
              "      <th>Q9_Part_5</th>\n",
              "      <th>Q9_Part_6</th>\n",
              "      <th>Q9_Part_7</th>\n",
              "      <th>Q9_Part_8</th>\n",
              "      <th>Q9_OTHER_TEXT</th>\n",
              "      <th>Q10</th>\n",
              "      <th>Q11</th>\n",
              "      <th>Q12_Part_1</th>\n",
              "      <th>Q12_Part_2</th>\n",
              "      <th>Q12_Part_3</th>\n",
              "      <th>Q12_Part_4</th>\n",
              "      <th>Q12_Part_5</th>\n",
              "      <th>Q12_Part_6</th>\n",
              "      <th>Q12_Part_7</th>\n",
              "      <th>Q12_Part_8</th>\n",
              "      <th>Q12_Part_9</th>\n",
              "      <th>Q12_Part_10</th>\n",
              "      <th>Q12_Part_11</th>\n",
              "      <th>Q12_Part_12</th>\n",
              "      <th>Q12_OTHER_TEXT</th>\n",
              "      <th>Q13_Part_1</th>\n",
              "      <th>Q13_Part_2</th>\n",
              "      <th>Q13_Part_3</th>\n",
              "      <th>Q13_Part_4</th>\n",
              "      <th>Q13_Part_5</th>\n",
              "      <th>...</th>\n",
              "      <th>Q31_OTHER_TEXT</th>\n",
              "      <th>Q32_Part_1</th>\n",
              "      <th>Q32_Part_2</th>\n",
              "      <th>Q32_Part_3</th>\n",
              "      <th>Q32_Part_4</th>\n",
              "      <th>Q32_Part_5</th>\n",
              "      <th>Q32_Part_6</th>\n",
              "      <th>Q32_Part_7</th>\n",
              "      <th>Q32_Part_8</th>\n",
              "      <th>Q32_Part_9</th>\n",
              "      <th>Q32_Part_10</th>\n",
              "      <th>Q32_Part_11</th>\n",
              "      <th>Q32_Part_12</th>\n",
              "      <th>Q32_OTHER_TEXT</th>\n",
              "      <th>Q33_Part_1</th>\n",
              "      <th>Q33_Part_2</th>\n",
              "      <th>Q33_Part_3</th>\n",
              "      <th>Q33_Part_4</th>\n",
              "      <th>Q33_Part_5</th>\n",
              "      <th>Q33_Part_6</th>\n",
              "      <th>Q33_Part_7</th>\n",
              "      <th>Q33_Part_8</th>\n",
              "      <th>Q33_Part_9</th>\n",
              "      <th>Q33_Part_10</th>\n",
              "      <th>Q33_Part_11</th>\n",
              "      <th>Q33_Part_12</th>\n",
              "      <th>Q33_OTHER_TEXT</th>\n",
              "      <th>Q34_Part_1</th>\n",
              "      <th>Q34_Part_2</th>\n",
              "      <th>Q34_Part_3</th>\n",
              "      <th>Q34_Part_4</th>\n",
              "      <th>Q34_Part_5</th>\n",
              "      <th>Q34_Part_6</th>\n",
              "      <th>Q34_Part_7</th>\n",
              "      <th>Q34_Part_8</th>\n",
              "      <th>Q34_Part_9</th>\n",
              "      <th>Q34_Part_10</th>\n",
              "      <th>Q34_Part_11</th>\n",
              "      <th>Q34_Part_12</th>\n",
              "      <th>Q34_OTHER_TEXT</th>\n",
              "    </tr>\n",
              "  </thead>\n",
              "  <tbody>\n",
              "    <tr>\n",
              "      <th>1</th>\n",
              "      <td>510</td>\n",
              "      <td>22-24</td>\n",
              "      <td>Male</td>\n",
              "      <td>-1</td>\n",
              "      <td>France</td>\n",
              "      <td>Master’s degree</td>\n",
              "      <td>Software Engineer</td>\n",
              "      <td>-1</td>\n",
              "      <td>1000-9,999 employees</td>\n",
              "      <td>0</td>\n",
              "      <td>I do not know</td>\n",
              "      <td>NaN</td>\n",
              "      <td>NaN</td>\n",
              "      <td>NaN</td>\n",
              "      <td>NaN</td>\n",
              "      <td>NaN</td>\n",
              "      <td>NaN</td>\n",
              "      <td>NaN</td>\n",
              "      <td>NaN</td>\n",
              "      <td>-1</td>\n",
              "      <td>30,000-39,999</td>\n",
              "      <td>$0 (USD)</td>\n",
              "      <td>Twitter (data science influencers)</td>\n",
              "      <td>NaN</td>\n",
              "      <td>NaN</td>\n",
              "      <td>Kaggle (forums, blog, social media, etc)</td>\n",
              "      <td>NaN</td>\n",
              "      <td>NaN</td>\n",
              "      <td>NaN</td>\n",
              "      <td>Blogs (Towards Data Science, Medium, Analytics...</td>\n",
              "      <td>Journal Publications (traditional publications...</td>\n",
              "      <td>NaN</td>\n",
              "      <td>NaN</td>\n",
              "      <td>NaN</td>\n",
              "      <td>-1</td>\n",
              "      <td>NaN</td>\n",
              "      <td>Coursera</td>\n",
              "      <td>NaN</td>\n",
              "      <td>DataCamp</td>\n",
              "      <td>NaN</td>\n",
              "      <td>...</td>\n",
              "      <td>-1</td>\n",
              "      <td>NaN</td>\n",
              "      <td>NaN</td>\n",
              "      <td>NaN</td>\n",
              "      <td>NaN</td>\n",
              "      <td>NaN</td>\n",
              "      <td>NaN</td>\n",
              "      <td>NaN</td>\n",
              "      <td>NaN</td>\n",
              "      <td>NaN</td>\n",
              "      <td>NaN</td>\n",
              "      <td>NaN</td>\n",
              "      <td>NaN</td>\n",
              "      <td>-1</td>\n",
              "      <td>NaN</td>\n",
              "      <td>NaN</td>\n",
              "      <td>NaN</td>\n",
              "      <td>NaN</td>\n",
              "      <td>NaN</td>\n",
              "      <td>NaN</td>\n",
              "      <td>NaN</td>\n",
              "      <td>NaN</td>\n",
              "      <td>NaN</td>\n",
              "      <td>NaN</td>\n",
              "      <td>NaN</td>\n",
              "      <td>NaN</td>\n",
              "      <td>-1</td>\n",
              "      <td>NaN</td>\n",
              "      <td>NaN</td>\n",
              "      <td>NaN</td>\n",
              "      <td>NaN</td>\n",
              "      <td>NaN</td>\n",
              "      <td>NaN</td>\n",
              "      <td>NaN</td>\n",
              "      <td>NaN</td>\n",
              "      <td>NaN</td>\n",
              "      <td>NaN</td>\n",
              "      <td>NaN</td>\n",
              "      <td>NaN</td>\n",
              "      <td>-1</td>\n",
              "    </tr>\n",
              "    <tr>\n",
              "      <th>2</th>\n",
              "      <td>423</td>\n",
              "      <td>40-44</td>\n",
              "      <td>Male</td>\n",
              "      <td>-1</td>\n",
              "      <td>India</td>\n",
              "      <td>Professional degree</td>\n",
              "      <td>Software Engineer</td>\n",
              "      <td>-1</td>\n",
              "      <td>&gt; 10,000 employees</td>\n",
              "      <td>20+</td>\n",
              "      <td>We have well established ML methods (i.e., mod...</td>\n",
              "      <td>Analyze and understand data to influence produ...</td>\n",
              "      <td>Build and/or run the data infrastructure that ...</td>\n",
              "      <td>Build prototypes to explore applying machine l...</td>\n",
              "      <td>Build and/or run a machine learning service th...</td>\n",
              "      <td>NaN</td>\n",
              "      <td>NaN</td>\n",
              "      <td>NaN</td>\n",
              "      <td>NaN</td>\n",
              "      <td>-1</td>\n",
              "      <td>5,000-7,499</td>\n",
              "      <td>&gt; $100,000 ($USD)</td>\n",
              "      <td>NaN</td>\n",
              "      <td>NaN</td>\n",
              "      <td>NaN</td>\n",
              "      <td>Kaggle (forums, blog, social media, etc)</td>\n",
              "      <td>NaN</td>\n",
              "      <td>YouTube (Cloud AI Adventures, Siraj Raval, etc)</td>\n",
              "      <td>Podcasts (Chai Time Data Science, Linear Digre...</td>\n",
              "      <td>Blogs (Towards Data Science, Medium, Analytics...</td>\n",
              "      <td>NaN</td>\n",
              "      <td>NaN</td>\n",
              "      <td>NaN</td>\n",
              "      <td>NaN</td>\n",
              "      <td>-1</td>\n",
              "      <td>NaN</td>\n",
              "      <td>Coursera</td>\n",
              "      <td>NaN</td>\n",
              "      <td>DataCamp</td>\n",
              "      <td>NaN</td>\n",
              "      <td>...</td>\n",
              "      <td>-1</td>\n",
              "      <td>NaN</td>\n",
              "      <td>NaN</td>\n",
              "      <td>NaN</td>\n",
              "      <td>NaN</td>\n",
              "      <td>NaN</td>\n",
              "      <td>NaN</td>\n",
              "      <td>NaN</td>\n",
              "      <td>NaN</td>\n",
              "      <td>NaN</td>\n",
              "      <td>NaN</td>\n",
              "      <td>NaN</td>\n",
              "      <td>NaN</td>\n",
              "      <td>-1</td>\n",
              "      <td>NaN</td>\n",
              "      <td>NaN</td>\n",
              "      <td>NaN</td>\n",
              "      <td>NaN</td>\n",
              "      <td>NaN</td>\n",
              "      <td>NaN</td>\n",
              "      <td>NaN</td>\n",
              "      <td>NaN</td>\n",
              "      <td>NaN</td>\n",
              "      <td>NaN</td>\n",
              "      <td>NaN</td>\n",
              "      <td>NaN</td>\n",
              "      <td>-1</td>\n",
              "      <td>NaN</td>\n",
              "      <td>NaN</td>\n",
              "      <td>NaN</td>\n",
              "      <td>NaN</td>\n",
              "      <td>NaN</td>\n",
              "      <td>NaN</td>\n",
              "      <td>NaN</td>\n",
              "      <td>NaN</td>\n",
              "      <td>NaN</td>\n",
              "      <td>NaN</td>\n",
              "      <td>NaN</td>\n",
              "      <td>NaN</td>\n",
              "      <td>-1</td>\n",
              "    </tr>\n",
              "    <tr>\n",
              "      <th>3</th>\n",
              "      <td>83</td>\n",
              "      <td>55-59</td>\n",
              "      <td>Female</td>\n",
              "      <td>-1</td>\n",
              "      <td>Germany</td>\n",
              "      <td>Professional degree</td>\n",
              "      <td>NaN</td>\n",
              "      <td>-1</td>\n",
              "      <td>NaN</td>\n",
              "      <td>NaN</td>\n",
              "      <td>NaN</td>\n",
              "      <td>NaN</td>\n",
              "      <td>NaN</td>\n",
              "      <td>NaN</td>\n",
              "      <td>NaN</td>\n",
              "      <td>NaN</td>\n",
              "      <td>NaN</td>\n",
              "      <td>NaN</td>\n",
              "      <td>NaN</td>\n",
              "      <td>-1</td>\n",
              "      <td>NaN</td>\n",
              "      <td>NaN</td>\n",
              "      <td>NaN</td>\n",
              "      <td>NaN</td>\n",
              "      <td>NaN</td>\n",
              "      <td>NaN</td>\n",
              "      <td>NaN</td>\n",
              "      <td>NaN</td>\n",
              "      <td>NaN</td>\n",
              "      <td>NaN</td>\n",
              "      <td>NaN</td>\n",
              "      <td>NaN</td>\n",
              "      <td>NaN</td>\n",
              "      <td>NaN</td>\n",
              "      <td>-1</td>\n",
              "      <td>NaN</td>\n",
              "      <td>NaN</td>\n",
              "      <td>NaN</td>\n",
              "      <td>NaN</td>\n",
              "      <td>NaN</td>\n",
              "      <td>...</td>\n",
              "      <td>-1</td>\n",
              "      <td>NaN</td>\n",
              "      <td>NaN</td>\n",
              "      <td>NaN</td>\n",
              "      <td>NaN</td>\n",
              "      <td>NaN</td>\n",
              "      <td>NaN</td>\n",
              "      <td>NaN</td>\n",
              "      <td>NaN</td>\n",
              "      <td>NaN</td>\n",
              "      <td>NaN</td>\n",
              "      <td>NaN</td>\n",
              "      <td>NaN</td>\n",
              "      <td>-1</td>\n",
              "      <td>NaN</td>\n",
              "      <td>NaN</td>\n",
              "      <td>NaN</td>\n",
              "      <td>NaN</td>\n",
              "      <td>NaN</td>\n",
              "      <td>NaN</td>\n",
              "      <td>NaN</td>\n",
              "      <td>NaN</td>\n",
              "      <td>NaN</td>\n",
              "      <td>NaN</td>\n",
              "      <td>NaN</td>\n",
              "      <td>NaN</td>\n",
              "      <td>-1</td>\n",
              "      <td>NaN</td>\n",
              "      <td>NaN</td>\n",
              "      <td>NaN</td>\n",
              "      <td>NaN</td>\n",
              "      <td>NaN</td>\n",
              "      <td>NaN</td>\n",
              "      <td>NaN</td>\n",
              "      <td>NaN</td>\n",
              "      <td>NaN</td>\n",
              "      <td>NaN</td>\n",
              "      <td>NaN</td>\n",
              "      <td>NaN</td>\n",
              "      <td>-1</td>\n",
              "    </tr>\n",
              "    <tr>\n",
              "      <th>4</th>\n",
              "      <td>391</td>\n",
              "      <td>40-44</td>\n",
              "      <td>Male</td>\n",
              "      <td>-1</td>\n",
              "      <td>Australia</td>\n",
              "      <td>Master’s degree</td>\n",
              "      <td>Other</td>\n",
              "      <td>0</td>\n",
              "      <td>&gt; 10,000 employees</td>\n",
              "      <td>20+</td>\n",
              "      <td>I do not know</td>\n",
              "      <td>NaN</td>\n",
              "      <td>NaN</td>\n",
              "      <td>NaN</td>\n",
              "      <td>NaN</td>\n",
              "      <td>NaN</td>\n",
              "      <td>NaN</td>\n",
              "      <td>NaN</td>\n",
              "      <td>NaN</td>\n",
              "      <td>-1</td>\n",
              "      <td>250,000-299,999</td>\n",
              "      <td>$10,000-$99,999</td>\n",
              "      <td>NaN</td>\n",
              "      <td>NaN</td>\n",
              "      <td>NaN</td>\n",
              "      <td>NaN</td>\n",
              "      <td>NaN</td>\n",
              "      <td>NaN</td>\n",
              "      <td>Podcasts (Chai Time Data Science, Linear Digre...</td>\n",
              "      <td>Blogs (Towards Data Science, Medium, Analytics...</td>\n",
              "      <td>Journal Publications (traditional publications...</td>\n",
              "      <td>Slack Communities (ods.ai, kagglenoobs, etc)</td>\n",
              "      <td>NaN</td>\n",
              "      <td>NaN</td>\n",
              "      <td>-1</td>\n",
              "      <td>NaN</td>\n",
              "      <td>Coursera</td>\n",
              "      <td>edX</td>\n",
              "      <td>DataCamp</td>\n",
              "      <td>NaN</td>\n",
              "      <td>...</td>\n",
              "      <td>-1</td>\n",
              "      <td>NaN</td>\n",
              "      <td>NaN</td>\n",
              "      <td>Azure Machine Learning Studio</td>\n",
              "      <td>NaN</td>\n",
              "      <td>NaN</td>\n",
              "      <td>NaN</td>\n",
              "      <td>NaN</td>\n",
              "      <td>NaN</td>\n",
              "      <td>NaN</td>\n",
              "      <td>NaN</td>\n",
              "      <td>NaN</td>\n",
              "      <td>NaN</td>\n",
              "      <td>-1</td>\n",
              "      <td>NaN</td>\n",
              "      <td>NaN</td>\n",
              "      <td>NaN</td>\n",
              "      <td>NaN</td>\n",
              "      <td>NaN</td>\n",
              "      <td>NaN</td>\n",
              "      <td>NaN</td>\n",
              "      <td>NaN</td>\n",
              "      <td>NaN</td>\n",
              "      <td>NaN</td>\n",
              "      <td>None</td>\n",
              "      <td>NaN</td>\n",
              "      <td>-1</td>\n",
              "      <td>NaN</td>\n",
              "      <td>NaN</td>\n",
              "      <td>NaN</td>\n",
              "      <td>NaN</td>\n",
              "      <td>NaN</td>\n",
              "      <td>NaN</td>\n",
              "      <td>NaN</td>\n",
              "      <td>NaN</td>\n",
              "      <td>Azure SQL Database</td>\n",
              "      <td>NaN</td>\n",
              "      <td>NaN</td>\n",
              "      <td>NaN</td>\n",
              "      <td>-1</td>\n",
              "    </tr>\n",
              "    <tr>\n",
              "      <th>5</th>\n",
              "      <td>392</td>\n",
              "      <td>22-24</td>\n",
              "      <td>Male</td>\n",
              "      <td>-1</td>\n",
              "      <td>India</td>\n",
              "      <td>Bachelor’s degree</td>\n",
              "      <td>Other</td>\n",
              "      <td>1</td>\n",
              "      <td>0-49 employees</td>\n",
              "      <td>0</td>\n",
              "      <td>No (we do not use ML methods)</td>\n",
              "      <td>NaN</td>\n",
              "      <td>NaN</td>\n",
              "      <td>NaN</td>\n",
              "      <td>NaN</td>\n",
              "      <td>NaN</td>\n",
              "      <td>NaN</td>\n",
              "      <td>NaN</td>\n",
              "      <td>NaN</td>\n",
              "      <td>-1</td>\n",
              "      <td>4,000-4,999</td>\n",
              "      <td>$0 (USD)</td>\n",
              "      <td>NaN</td>\n",
              "      <td>NaN</td>\n",
              "      <td>NaN</td>\n",
              "      <td>NaN</td>\n",
              "      <td>NaN</td>\n",
              "      <td>YouTube (Cloud AI Adventures, Siraj Raval, etc)</td>\n",
              "      <td>NaN</td>\n",
              "      <td>Blogs (Towards Data Science, Medium, Analytics...</td>\n",
              "      <td>NaN</td>\n",
              "      <td>NaN</td>\n",
              "      <td>NaN</td>\n",
              "      <td>Other</td>\n",
              "      <td>0</td>\n",
              "      <td>NaN</td>\n",
              "      <td>NaN</td>\n",
              "      <td>NaN</td>\n",
              "      <td>NaN</td>\n",
              "      <td>NaN</td>\n",
              "      <td>...</td>\n",
              "      <td>-1</td>\n",
              "      <td>NaN</td>\n",
              "      <td>NaN</td>\n",
              "      <td>NaN</td>\n",
              "      <td>NaN</td>\n",
              "      <td>NaN</td>\n",
              "      <td>NaN</td>\n",
              "      <td>NaN</td>\n",
              "      <td>NaN</td>\n",
              "      <td>NaN</td>\n",
              "      <td>NaN</td>\n",
              "      <td>NaN</td>\n",
              "      <td>NaN</td>\n",
              "      <td>-1</td>\n",
              "      <td>NaN</td>\n",
              "      <td>NaN</td>\n",
              "      <td>NaN</td>\n",
              "      <td>NaN</td>\n",
              "      <td>NaN</td>\n",
              "      <td>NaN</td>\n",
              "      <td>NaN</td>\n",
              "      <td>NaN</td>\n",
              "      <td>NaN</td>\n",
              "      <td>NaN</td>\n",
              "      <td>NaN</td>\n",
              "      <td>NaN</td>\n",
              "      <td>-1</td>\n",
              "      <td>NaN</td>\n",
              "      <td>NaN</td>\n",
              "      <td>NaN</td>\n",
              "      <td>NaN</td>\n",
              "      <td>NaN</td>\n",
              "      <td>NaN</td>\n",
              "      <td>NaN</td>\n",
              "      <td>NaN</td>\n",
              "      <td>NaN</td>\n",
              "      <td>NaN</td>\n",
              "      <td>NaN</td>\n",
              "      <td>NaN</td>\n",
              "      <td>-1</td>\n",
              "    </tr>\n",
              "  </tbody>\n",
              "</table>\n",
              "<p>5 rows × 246 columns</p>\n",
              "</div>"
            ],
            "text/plain": [
              "  Time from Start to Finish (seconds)     Q1  ... Q34_Part_12 Q34_OTHER_TEXT\n",
              "1                                 510  22-24  ...         NaN             -1\n",
              "2                                 423  40-44  ...         NaN             -1\n",
              "3                                  83  55-59  ...         NaN             -1\n",
              "4                                 391  40-44  ...         NaN             -1\n",
              "5                                 392  22-24  ...         NaN             -1\n",
              "\n",
              "[5 rows x 246 columns]"
            ]
          },
          "metadata": {
            "tags": []
          },
          "execution_count": 12
        }
      ]
    },
    {
      "cell_type": "markdown",
      "metadata": {
        "id": "Oo3vpbNPxSd4"
      },
      "source": [
        "Separate questions from answers"
      ]
    },
    {
      "cell_type": "code",
      "metadata": {
        "colab": {
          "base_uri": "https://localhost:8080/"
        },
        "id": "RhMvefd1xVB0",
        "outputId": "28d1843e-c11a-413e-84fa-f8b8d7d38741"
      },
      "source": [
        "kaggle_questions = kaggle_multiple_choice.iloc[0,:]\n",
        "kaggle_questions.head()"
      ],
      "execution_count": 13,
      "outputs": [
        {
          "output_type": "execute_result",
          "data": {
            "text/plain": [
              "Time from Start to Finish (seconds)                                Duration (in seconds)\n",
              "Q1                                                           What is your age (# years)?\n",
              "Q2                                                What is your gender? - Selected Choice\n",
              "Q2_OTHER_TEXT                          What is your gender? - Prefer to self-describe...\n",
              "Q3                                             In which country do you currently reside?\n",
              "Name: 0, dtype: object"
            ]
          },
          "metadata": {
            "tags": []
          },
          "execution_count": 13
        }
      ]
    },
    {
      "cell_type": "markdown",
      "metadata": {
        "id": "3ZyRgzC6zchO"
      },
      "source": [
        "#### Data cleaning"
      ]
    },
    {
      "cell_type": "markdown",
      "metadata": {
        "id": "GpwM33V3xfKg"
      },
      "source": [
        "Remove surveys that take less than 3 minutes or more than 600 minutes (These surveys are not so valuable)"
      ]
    },
    {
      "cell_type": "code",
      "metadata": {
        "id": "ol6HLxGCy7TN"
      },
      "source": [
        "less_3_minutes = kaggle[round(kaggle.iloc[:,0].astype(int) / 60) <= 3].index\n",
        "kaggle = kaggle.drop(less_3_minutes, axis=0)\n",
        "\n",
        "more_600_minutes = kaggle[round(kaggle.iloc[:,0].astype(int) / 60) >= 600].index\n",
        "kaggle = kaggle.drop(more_600_minutes, axis=0)"
      ],
      "execution_count": 14,
      "outputs": []
    },
    {
      "cell_type": "markdown",
      "metadata": {
        "id": "HAW1vgsIzKYL"
      },
      "source": [
        "Remove respondents who are not employed or project/product managers"
      ]
    },
    {
      "cell_type": "code",
      "metadata": {
        "id": "U2IES-bazNG-"
      },
      "source": [
        "students_and_others = kaggle[(kaggle.Q5 == 'Student') | (kaggle.Q5 == 'Other') | (kaggle.Q5 == 'Not employed') | (kaggle.Q5 == 'Product/Project Manager')].index\n",
        "\n",
        "kaggle = kaggle.drop(list(students_and_others), axis=0)"
      ],
      "execution_count": 15,
      "outputs": []
    },
    {
      "cell_type": "markdown",
      "metadata": {
        "id": "1tOJ6vdJzRue"
      },
      "source": [
        "Remove those who didn't disclose compensation (Q10 is `NaN`)"
      ]
    },
    {
      "cell_type": "code",
      "metadata": {
        "id": "40Sij-SmzW__"
      },
      "source": [
        "kaggle.dropna(subset=['Q10'], inplace=True)"
      ],
      "execution_count": 16,
      "outputs": []
    },
    {
      "cell_type": "markdown",
      "metadata": {
        "id": "isdFRIPOzYod"
      },
      "source": [
        "#### Grouping"
      ]
    },
    {
      "cell_type": "code",
      "metadata": {
        "colab": {
          "base_uri": "https://localhost:8080/"
        },
        "id": "Rx_l4aGjziaj",
        "outputId": "1e34c445-916f-410a-e0ab-2e10c9270cc2"
      },
      "source": [
        "kaggle.Q5.value_counts()"
      ],
      "execution_count": 17,
      "outputs": [
        {
          "output_type": "execute_result",
          "data": {
            "text/plain": [
              "Data Scientist           3377\n",
              "Software Engineer        2164\n",
              "Data Analyst             1284\n",
              "Research Scientist       1157\n",
              "Business Analyst          602\n",
              "Data Engineer             503\n",
              "Statistician              236\n",
              "DBA/Database Engineer     129\n",
              "Name: Q5, dtype: int64"
            ]
          },
          "metadata": {
            "tags": []
          },
          "execution_count": 17
        }
      ]
    },
    {
      "cell_type": "markdown",
      "metadata": {
        "id": "gkbIP0NLzj5L"
      },
      "source": [
        "Group DBA and Data engineer together as one job title"
      ]
    },
    {
      "cell_type": "code",
      "metadata": {
        "colab": {
          "base_uri": "https://localhost:8080/"
        },
        "id": "uNM6PFsEzpMR",
        "outputId": "e41aede6-7a86-4703-b4b0-0283b581d8eb"
      },
      "source": [
        "kaggle.Q5 = kaggle.Q5.replace('DBA/Database Engineer', 'Data Engineer/DBA')\n",
        "kaggle.Q5 = kaggle.Q5.replace('Data Engineer', 'Data Engineer/DBA')\n",
        "kaggle.Q5.value_counts()"
      ],
      "execution_count": 18,
      "outputs": [
        {
          "output_type": "execute_result",
          "data": {
            "text/plain": [
              "Data Scientist        3377\n",
              "Software Engineer     2164\n",
              "Data Analyst          1284\n",
              "Research Scientist    1157\n",
              "Data Engineer/DBA      632\n",
              "Business Analyst       602\n",
              "Statistician           236\n",
              "Name: Q5, dtype: int64"
            ]
          },
          "metadata": {
            "tags": []
          },
          "execution_count": 18
        }
      ]
    },
    {
      "cell_type": "markdown",
      "metadata": {
        "id": "6rUiHmFyzqaB"
      },
      "source": [
        "Groupping statistician and Research Scientist:"
      ]
    },
    {
      "cell_type": "code",
      "metadata": {
        "colab": {
          "base_uri": "https://localhost:8080/"
        },
        "id": "D3diXCbHzxHt",
        "outputId": "c086faf1-6fb9-4829-915b-1d6a9b0c9ca2"
      },
      "source": [
        "kaggle.Q5 = kaggle.Q5.replace('Statistician', 'Statistician/Research Scientist')\n",
        "kaggle.Q5 = kaggle.Q5.replace('Research Scientist', 'Statistician/Research Scientist')\n",
        "kaggle.Q5.value_counts()"
      ],
      "execution_count": 19,
      "outputs": [
        {
          "output_type": "execute_result",
          "data": {
            "text/plain": [
              "Data Scientist                     3377\n",
              "Software Engineer                  2164\n",
              "Statistician/Research Scientist    1393\n",
              "Data Analyst                       1284\n",
              "Data Engineer/DBA                   632\n",
              "Business Analyst                    602\n",
              "Name: Q5, dtype: int64"
            ]
          },
          "metadata": {
            "tags": []
          },
          "execution_count": 19
        }
      ]
    },
    {
      "cell_type": "markdown",
      "metadata": {
        "id": "iwkPBbs4zyRv"
      },
      "source": [
        "#### Process country names"
      ]
    },
    {
      "cell_type": "code",
      "metadata": {
        "id": "aMxIJlWE0TQv"
      },
      "source": [
        "kaggle.Q3 = kaggle.Q3.replace('United Kingdom of Great Britain and Northern Ireland', 'United Kingdom')\n",
        "kaggle.Q3 = kaggle.Q3.replace('United States of America', 'United States')"
      ],
      "execution_count": 20,
      "outputs": []
    },
    {
      "cell_type": "markdown",
      "metadata": {
        "id": "Rf1tSQjv0UXD"
      },
      "source": [
        "#### Process programming languages (Q18)"
      ]
    },
    {
      "cell_type": "code",
      "metadata": {
        "colab": {
          "base_uri": "https://localhost:8080/"
        },
        "id": "_47Y_QZv0aJx",
        "outputId": "7bbb8bdf-8513-4773-ce20-08b554abf77f"
      },
      "source": [
        "kaggle['ProgLang'] = kaggle[['Q18_Part_1', 'Q18_Part_2', 'Q18_Part_3', 'Q18_Part_4', 'Q18_Part_5',\n",
        "                             'Q18_Part_6', 'Q18_Part_7', 'Q18_Part_8', 'Q18_Part_9', 'Q18_Part_10', \n",
        "                             'Q18_Part_11', 'Q18_Part_12']].values.tolist()\n",
        "kaggle.ProgLang.head()"
      ],
      "execution_count": 21,
      "outputs": [
        {
          "output_type": "execute_result",
          "data": {
            "text/plain": [
              "1    [Python, R, SQL, nan, nan, Java, Javascript, n...\n",
              "2    [nan, nan, nan, nan, nan, nan, nan, nan, nan, ...\n",
              "6    [Python, R, nan, nan, nan, nan, nan, nan, nan,...\n",
              "7    [Python, R, nan, nan, nan, nan, nan, nan, Bash...\n",
              "8    [Python, nan, nan, nan, nan, nan, nan, nan, na...\n",
              "Name: ProgLang, dtype: object"
            ]
          },
          "metadata": {
            "tags": []
          },
          "execution_count": 21
        }
      ]
    },
    {
      "cell_type": "code",
      "metadata": {
        "colab": {
          "base_uri": "https://localhost:8080/"
        },
        "id": "-YuBxp470ahO",
        "outputId": "96667e65-84f6-4264-bc0c-75cf4a47d160"
      },
      "source": [
        "# remove nulls\n",
        "kaggle.ProgLang = kaggle.ProgLang.apply(lambda x: [item for item in x if not pd.isnull(item)])\n",
        "kaggle.ProgLang.head()"
      ],
      "execution_count": 22,
      "outputs": [
        {
          "output_type": "execute_result",
          "data": {
            "text/plain": [
              "1    [Python, R, SQL, Java, Javascript, MATLAB]\n",
              "2                                            []\n",
              "6                                   [Python, R]\n",
              "7                             [Python, R, Bash]\n",
              "8                                      [Python]\n",
              "Name: ProgLang, dtype: object"
            ]
          },
          "metadata": {
            "tags": []
          },
          "execution_count": 22
        }
      ]
    },
    {
      "cell_type": "markdown",
      "metadata": {
        "id": "TeZH4h6f0eHS"
      },
      "source": [
        "Calculates the quantity of different Programming Languages"
      ]
    },
    {
      "cell_type": "code",
      "metadata": {
        "colab": {
          "base_uri": "https://localhost:8080/"
        },
        "id": "4dTB6ThZ0iZI",
        "outputId": "5b273a70-d138-432a-f47d-ebdf5b36851e"
      },
      "source": [
        "kaggle['QtyProgLang'] = kaggle.ProgLang.apply(lambda x: len(x))\n",
        "\n",
        "# If Quantity > 6 then it will be 6\n",
        "kaggle.loc[kaggle.QtyProgLang > 6, 'QtyProgLang'] = 6\n",
        "kaggle.QtyProgLang.head()"
      ],
      "execution_count": 23,
      "outputs": [
        {
          "output_type": "execute_result",
          "data": {
            "text/plain": [
              "1    6\n",
              "2    0\n",
              "6    2\n",
              "7    3\n",
              "8    1\n",
              "Name: QtyProgLang, dtype: int64"
            ]
          },
          "metadata": {
            "tags": []
          },
          "execution_count": 23
        }
      ]
    },
    {
      "cell_type": "markdown",
      "metadata": {
        "id": "Rnjd_grG0jrv"
      },
      "source": [
        "#### Process cloud platforms (Q29)"
      ]
    },
    {
      "cell_type": "code",
      "metadata": {
        "id": "SY9KyLqm0sGn"
      },
      "source": [
        "kaggle['CloudPlatf']= kaggle[['Q29_Part_1', 'Q29_Part_2', 'Q29_Part_3', 'Q29_Part_4',\n",
        "                            'Q29_Part_5', 'Q29_Part_6', 'Q29_Part_7', 'Q29_Part_8',\n",
        "                            'Q29_Part_9', 'Q29_Part_10', 'Q29_Part_11', 'Q29_Part_12']].values.tolist()\n",
        "\n",
        "# remove nulls\n",
        "kaggle.CloudPlatf = kaggle.CloudPlatf.apply(lambda x: [item.strip().lower() for item in x if not pd.isnull(item)])\n",
        "\n",
        "# Calculates the quantity\n",
        "kaggle['QtyCloudPlatf'] = kaggle.CloudPlatf.apply(lambda x: len(x))\n",
        "kaggle.loc[kaggle.QtyCloudPlatf > 6, 'QtyCloudPlatf'] = 6"
      ],
      "execution_count": 24,
      "outputs": []
    },
    {
      "cell_type": "markdown",
      "metadata": {
        "id": "MN0U1qBb0sf2"
      },
      "source": [
        "#### Process databases (Q34)"
      ]
    },
    {
      "cell_type": "code",
      "metadata": {
        "id": "znT3BRSp0vWc"
      },
      "source": [
        "kaggle['Databases']= kaggle[['Q34_Part_1', 'Q34_Part_2', 'Q34_Part_3', 'Q34_Part_4', 'Q34_Part_5', 'Q34_Part_6',\n",
        "                             'Q34_Part_7', 'Q34_Part_8', 'Q34_Part_9', 'Q34_Part_10', 'Q34_Part_11', 'Q34_Part_12']].values.tolist()\n",
        "kaggle.Databases = kaggle.Databases.apply(lambda x: [item.strip().lower() for item in x if not pd.isnull(item)])\n",
        "kaggle['QtyDatabases'] = kaggle.Databases.apply(lambda x: len(x))\n",
        "kaggle.loc[kaggle.QtyDatabases > 6, 'QtyDatabases'] = 6"
      ],
      "execution_count": 25,
      "outputs": []
    },
    {
      "cell_type": "markdown",
      "metadata": {
        "id": "HLsJxieJ0xUO"
      },
      "source": [
        "#### Rename some columns"
      ]
    },
    {
      "cell_type": "code",
      "metadata": {
        "id": "baiXh3iI0zZ1"
      },
      "source": [
        "kaggle.columns = kaggle.columns.str.replace('Q15', 'TimeWritingCode')\n",
        "kaggle.columns = kaggle.columns.str.replace('Q10', 'Salary')\n",
        "kaggle.columns = kaggle.columns.str.replace('Q1', 'Age')\n",
        "kaggle.columns = kaggle.columns.str.replace('Q5', 'JobTitle')\n",
        "kaggle.columns = kaggle.columns.str.replace('Q3', 'Country')\n",
        "kaggle.columns = kaggle.columns.str.replace('Q6', 'CompanySize')"
      ],
      "execution_count": 26,
      "outputs": []
    },
    {
      "cell_type": "markdown",
      "metadata": {
        "id": "cE_hicOn01YN"
      },
      "source": [
        "#### Data transformation\n",
        "\n",
        "Transform some columns into categories"
      ]
    },
    {
      "cell_type": "code",
      "metadata": {
        "id": "JXgPABa20_9l"
      },
      "source": [
        "# Transform TimeWritingCode column into category\n",
        "\n",
        "time_writting_code = ['I have never written code', '< 1 years', '1-2 years', '3-5 years',\n",
        "                      '5-10 years', '10-20 years', '20+ years']\n",
        "cat_dtype = pd.api.types.CategoricalDtype(categories=time_writting_code, ordered=True)\n",
        "kaggle.TimeWritingCode = kaggle.TimeWritingCode.astype(cat_dtype)"
      ],
      "execution_count": 27,
      "outputs": []
    },
    {
      "cell_type": "code",
      "metadata": {
        "id": "1GKOJwhA1C_h"
      },
      "source": [
        "# Transform CompanySize into category\n",
        "\n",
        "company_size = ['0-49 employees', '50-249 employees', '250-999 employees', '1000-9,999 employees', '> 10,000 employees']\n",
        "cat_dtype = pd.api.types.CategoricalDtype(categories=company_size, ordered=True)\n",
        "kaggle.CompanySize = kaggle.CompanySize.astype(cat_dtype)"
      ],
      "execution_count": 28,
      "outputs": []
    },
    {
      "cell_type": "code",
      "metadata": {
        "id": "MOPSVm4E1LcV"
      },
      "source": [
        "# Transform JobTitle into category\n",
        "\n",
        "job_titles = ['Business Analyst', 'Data Analyst', 'Data Scientist', \n",
        "              'Data Engineer/DBA', 'Software Engineer', 'Statistician/Research Scientist']\n",
        "cat_dtype = pd.api.types.CategoricalDtype(categories=job_titles, ordered=True)\n",
        "kaggle.JobTitle = kaggle.JobTitle.astype(cat_dtype)"
      ],
      "execution_count": 29,
      "outputs": []
    },
    {
      "cell_type": "markdown",
      "metadata": {
        "id": "IXNdpK0G1ZqM"
      },
      "source": [
        "Add count column to make groupby easier"
      ]
    },
    {
      "cell_type": "code",
      "metadata": {
        "id": "XwhDUtj31Vdn"
      },
      "source": [
        "kaggle['Count'] = 1"
      ],
      "execution_count": 30,
      "outputs": []
    },
    {
      "cell_type": "markdown",
      "metadata": {
        "id": "VTgRwCa41ZKI"
      },
      "source": [
        "Transform range of salaries into numerical value"
      ]
    },
    {
      "cell_type": "code",
      "metadata": {
        "id": "otvcqYxa1fWP"
      },
      "source": [
        "compensation = kaggle.Salary.str.replace(r'(?:(?!\\d|\\-).)*', '').str.replace('500000', '500-500000').str.split('-')\n",
        "kaggle.Salary = compensation.apply(lambda x: (int(x[0]) * 1000 + int(x[1]))/ 2) / 1000 # calculated in thousand dollars"
      ],
      "execution_count": 31,
      "outputs": []
    },
    {
      "cell_type": "markdown",
      "metadata": {
        "id": "okVeCdRh1i5z"
      },
      "source": [
        "Transform range of ages into numerical value"
      ]
    },
    {
      "cell_type": "code",
      "metadata": {
        "id": "YEtct3Ds1nWm"
      },
      "source": [
        "age = kaggle.Age.str.replace(r'(?:(?!\\d|\\-).)*', '').str.replace('70', '70-80').str.split('-')\n",
        "kaggle.Age = (age.apply(lambda x: (int(x[0]) + int(x[1]))/ 2)).astype(int)"
      ],
      "execution_count": 32,
      "outputs": []
    },
    {
      "cell_type": "markdown",
      "metadata": {
        "id": "JFZMDMrV1pE4"
      },
      "source": [
        "#### Filter only the columns we're interested in"
      ]
    },
    {
      "cell_type": "code",
      "metadata": {
        "colab": {
          "base_uri": "https://localhost:8080/",
          "height": 580
        },
        "id": "A09ZcWdZ1vXJ",
        "outputId": "e8ae5ab5-778f-459a-e822-bc36361c9d3f"
      },
      "source": [
        "kaggle = kaggle[['Age', 'Country', 'JobTitle', 'CompanySize', 'Salary', 'TimeWritingCode', 'ProgLang',\n",
        "                 'QtyProgLang', 'CloudPlatf', 'QtyCloudPlatf', 'Databases', 'QtyDatabases', 'Count']]\n",
        "\n",
        "kaggle.head(10)"
      ],
      "execution_count": 33,
      "outputs": [
        {
          "output_type": "execute_result",
          "data": {
            "text/html": [
              "<div>\n",
              "<style scoped>\n",
              "    .dataframe tbody tr th:only-of-type {\n",
              "        vertical-align: middle;\n",
              "    }\n",
              "\n",
              "    .dataframe tbody tr th {\n",
              "        vertical-align: top;\n",
              "    }\n",
              "\n",
              "    .dataframe thead th {\n",
              "        text-align: right;\n",
              "    }\n",
              "</style>\n",
              "<table border=\"1\" class=\"dataframe\">\n",
              "  <thead>\n",
              "    <tr style=\"text-align: right;\">\n",
              "      <th></th>\n",
              "      <th>Age</th>\n",
              "      <th>Country</th>\n",
              "      <th>JobTitle</th>\n",
              "      <th>CompanySize</th>\n",
              "      <th>Salary</th>\n",
              "      <th>TimeWritingCode</th>\n",
              "      <th>ProgLang</th>\n",
              "      <th>QtyProgLang</th>\n",
              "      <th>CloudPlatf</th>\n",
              "      <th>QtyCloudPlatf</th>\n",
              "      <th>Databases</th>\n",
              "      <th>QtyDatabases</th>\n",
              "      <th>Count</th>\n",
              "    </tr>\n",
              "  </thead>\n",
              "  <tbody>\n",
              "    <tr>\n",
              "      <th>1</th>\n",
              "      <td>23</td>\n",
              "      <td>France</td>\n",
              "      <td>Software Engineer</td>\n",
              "      <td>1000-9,999 employees</td>\n",
              "      <td>15019.9995</td>\n",
              "      <td>1-2 years</td>\n",
              "      <td>[Python, R, SQL, Java, Javascript, MATLAB]</td>\n",
              "      <td>6</td>\n",
              "      <td>[]</td>\n",
              "      <td>0</td>\n",
              "      <td>[]</td>\n",
              "      <td>0</td>\n",
              "      <td>1</td>\n",
              "    </tr>\n",
              "    <tr>\n",
              "      <th>2</th>\n",
              "      <td>42</td>\n",
              "      <td>India</td>\n",
              "      <td>Software Engineer</td>\n",
              "      <td>&gt; 10,000 employees</td>\n",
              "      <td>2503.7495</td>\n",
              "      <td>I have never written code</td>\n",
              "      <td>[]</td>\n",
              "      <td>0</td>\n",
              "      <td>[]</td>\n",
              "      <td>0</td>\n",
              "      <td>[]</td>\n",
              "      <td>0</td>\n",
              "      <td>1</td>\n",
              "    </tr>\n",
              "    <tr>\n",
              "      <th>6</th>\n",
              "      <td>52</td>\n",
              "      <td>France</td>\n",
              "      <td>Data Scientist</td>\n",
              "      <td>0-49 employees</td>\n",
              "      <td>30034.9995</td>\n",
              "      <td>20+ years</td>\n",
              "      <td>[Python, R]</td>\n",
              "      <td>2</td>\n",
              "      <td>[amazon web services (aws)]</td>\n",
              "      <td>1</td>\n",
              "      <td>[postgressql, aws relational database service]</td>\n",
              "      <td>2</td>\n",
              "      <td>1</td>\n",
              "    </tr>\n",
              "    <tr>\n",
              "      <th>7</th>\n",
              "      <td>23</td>\n",
              "      <td>India</td>\n",
              "      <td>Data Scientist</td>\n",
              "      <td>50-249 employees</td>\n",
              "      <td>5007.4995</td>\n",
              "      <td>3-5 years</td>\n",
              "      <td>[Python, R, Bash]</td>\n",
              "      <td>3</td>\n",
              "      <td>[google cloud platform (gcp), amazon web servi...</td>\n",
              "      <td>3</td>\n",
              "      <td>[mysql, postgressql]</td>\n",
              "      <td>2</td>\n",
              "      <td>1</td>\n",
              "    </tr>\n",
              "    <tr>\n",
              "      <th>8</th>\n",
              "      <td>23</td>\n",
              "      <td>United States</td>\n",
              "      <td>Data Scientist</td>\n",
              "      <td>&gt; 10,000 employees</td>\n",
              "      <td>40044.9995</td>\n",
              "      <td>3-5 years</td>\n",
              "      <td>[Python]</td>\n",
              "      <td>1</td>\n",
              "      <td>[]</td>\n",
              "      <td>0</td>\n",
              "      <td>[]</td>\n",
              "      <td>0</td>\n",
              "      <td>1</td>\n",
              "    </tr>\n",
              "    <tr>\n",
              "      <th>12</th>\n",
              "      <td>32</td>\n",
              "      <td>Germany</td>\n",
              "      <td>Statistician/Research Scientist</td>\n",
              "      <td>0-49 employees</td>\n",
              "      <td>1001.4995</td>\n",
              "      <td>5-10 years</td>\n",
              "      <td>[R]</td>\n",
              "      <td>1</td>\n",
              "      <td>[google cloud platform (gcp)]</td>\n",
              "      <td>1</td>\n",
              "      <td>[mysql]</td>\n",
              "      <td>1</td>\n",
              "      <td>1</td>\n",
              "    </tr>\n",
              "    <tr>\n",
              "      <th>13</th>\n",
              "      <td>32</td>\n",
              "      <td>Germany</td>\n",
              "      <td>Data Scientist</td>\n",
              "      <td>50-249 employees</td>\n",
              "      <td>35039.9995</td>\n",
              "      <td>5-10 years</td>\n",
              "      <td>[Python, R]</td>\n",
              "      <td>2</td>\n",
              "      <td>[amazon web services (aws)]</td>\n",
              "      <td>1</td>\n",
              "      <td>[postgressql]</td>\n",
              "      <td>1</td>\n",
              "      <td>1</td>\n",
              "    </tr>\n",
              "    <tr>\n",
              "      <th>16</th>\n",
              "      <td>52</td>\n",
              "      <td>United States</td>\n",
              "      <td>Data Analyst</td>\n",
              "      <td>50-249 employees</td>\n",
              "      <td>62574.9995</td>\n",
              "      <td>10-20 years</td>\n",
              "      <td>[Python, R, SQL]</td>\n",
              "      <td>3</td>\n",
              "      <td>[salesforce cloud]</td>\n",
              "      <td>1</td>\n",
              "      <td>[microsoft sql server]</td>\n",
              "      <td>1</td>\n",
              "      <td>1</td>\n",
              "    </tr>\n",
              "    <tr>\n",
              "      <th>17</th>\n",
              "      <td>19</td>\n",
              "      <td>Australia</td>\n",
              "      <td>Software Engineer</td>\n",
              "      <td>0-49 employees</td>\n",
              "      <td>0.4995</td>\n",
              "      <td>1-2 years</td>\n",
              "      <td>[Python, R, SQL, C]</td>\n",
              "      <td>4</td>\n",
              "      <td>[amazon web services (aws)]</td>\n",
              "      <td>1</td>\n",
              "      <td>[mysql]</td>\n",
              "      <td>1</td>\n",
              "      <td>1</td>\n",
              "    </tr>\n",
              "    <tr>\n",
              "      <th>20</th>\n",
              "      <td>27</td>\n",
              "      <td>France</td>\n",
              "      <td>Statistician/Research Scientist</td>\n",
              "      <td>50-249 employees</td>\n",
              "      <td>20024.9995</td>\n",
              "      <td>5-10 years</td>\n",
              "      <td>[Python, R]</td>\n",
              "      <td>2</td>\n",
              "      <td>[]</td>\n",
              "      <td>0</td>\n",
              "      <td>[]</td>\n",
              "      <td>0</td>\n",
              "      <td>1</td>\n",
              "    </tr>\n",
              "  </tbody>\n",
              "</table>\n",
              "</div>"
            ],
            "text/plain": [
              "    Age        Country  ... QtyDatabases Count\n",
              "1    23         France  ...            0     1\n",
              "2    42          India  ...            0     1\n",
              "6    52         France  ...            2     1\n",
              "7    23          India  ...            2     1\n",
              "8    23  United States  ...            0     1\n",
              "12   32        Germany  ...            1     1\n",
              "13   32        Germany  ...            1     1\n",
              "16   52  United States  ...            1     1\n",
              "17   19      Australia  ...            1     1\n",
              "20   27         France  ...            0     1\n",
              "\n",
              "[10 rows x 13 columns]"
            ]
          },
          "metadata": {
            "tags": []
          },
          "execution_count": 33
        }
      ]
    },
    {
      "cell_type": "code",
      "metadata": {
        "id": "KzhoKuDE1xW4"
      },
      "source": [
        "kaggle.to_csv(\"data/multiple_choice_responses_preprocessed.csv\")"
      ],
      "execution_count": 34,
      "outputs": []
    },
    {
      "cell_type": "code",
      "metadata": {
        "colab": {
          "base_uri": "https://localhost:8080/",
          "height": 357
        },
        "id": "UJcDZr2yjYqW",
        "outputId": "65f7e38c-a5d7-4056-da72-2bcbb5ca03c9"
      },
      "source": [
        "pd.read_csv(\"https://gist.githubusercontent.com/EckoTan0804/7ba61515d185c6558f77504044b485bb/raw/4caac4c296138e0d40aa22c90ae38d712ba0531d/multiple_choice_responses_preprocessed.csv\").head()"
      ],
      "execution_count": 35,
      "outputs": [
        {
          "output_type": "execute_result",
          "data": {
            "text/html": [
              "<div>\n",
              "<style scoped>\n",
              "    .dataframe tbody tr th:only-of-type {\n",
              "        vertical-align: middle;\n",
              "    }\n",
              "\n",
              "    .dataframe tbody tr th {\n",
              "        vertical-align: top;\n",
              "    }\n",
              "\n",
              "    .dataframe thead th {\n",
              "        text-align: right;\n",
              "    }\n",
              "</style>\n",
              "<table border=\"1\" class=\"dataframe\">\n",
              "  <thead>\n",
              "    <tr style=\"text-align: right;\">\n",
              "      <th></th>\n",
              "      <th>Unnamed: 0</th>\n",
              "      <th>Age</th>\n",
              "      <th>Country</th>\n",
              "      <th>JobTitle</th>\n",
              "      <th>CompanySize</th>\n",
              "      <th>Salary</th>\n",
              "      <th>TimeWritingCode</th>\n",
              "      <th>ProgLang</th>\n",
              "      <th>QtyProgLang</th>\n",
              "      <th>CloudPlatf</th>\n",
              "      <th>QtyCloudPlatf</th>\n",
              "      <th>Databases</th>\n",
              "      <th>QtyDatabases</th>\n",
              "      <th>Count</th>\n",
              "    </tr>\n",
              "  </thead>\n",
              "  <tbody>\n",
              "    <tr>\n",
              "      <th>0</th>\n",
              "      <td>1</td>\n",
              "      <td>23</td>\n",
              "      <td>France</td>\n",
              "      <td>Software Engineer</td>\n",
              "      <td>1000-9,999 employees</td>\n",
              "      <td>15019.9995</td>\n",
              "      <td>1-2 years</td>\n",
              "      <td>['Python', 'R', 'SQL', 'Java', 'Javascript', '...</td>\n",
              "      <td>6</td>\n",
              "      <td>[]</td>\n",
              "      <td>0</td>\n",
              "      <td>[]</td>\n",
              "      <td>0</td>\n",
              "      <td>1</td>\n",
              "    </tr>\n",
              "    <tr>\n",
              "      <th>1</th>\n",
              "      <td>2</td>\n",
              "      <td>42</td>\n",
              "      <td>India</td>\n",
              "      <td>Software Engineer</td>\n",
              "      <td>&gt; 10,000 employees</td>\n",
              "      <td>2503.7495</td>\n",
              "      <td>I have never written code</td>\n",
              "      <td>[]</td>\n",
              "      <td>0</td>\n",
              "      <td>[]</td>\n",
              "      <td>0</td>\n",
              "      <td>[]</td>\n",
              "      <td>0</td>\n",
              "      <td>1</td>\n",
              "    </tr>\n",
              "    <tr>\n",
              "      <th>2</th>\n",
              "      <td>6</td>\n",
              "      <td>52</td>\n",
              "      <td>France</td>\n",
              "      <td>Data Scientist</td>\n",
              "      <td>0-49 employees</td>\n",
              "      <td>30034.9995</td>\n",
              "      <td>20+ years</td>\n",
              "      <td>['Python', 'R']</td>\n",
              "      <td>2</td>\n",
              "      <td>['amazon web services (aws)']</td>\n",
              "      <td>1</td>\n",
              "      <td>['postgressql', 'aws relational database servi...</td>\n",
              "      <td>2</td>\n",
              "      <td>1</td>\n",
              "    </tr>\n",
              "    <tr>\n",
              "      <th>3</th>\n",
              "      <td>7</td>\n",
              "      <td>23</td>\n",
              "      <td>India</td>\n",
              "      <td>Data Scientist</td>\n",
              "      <td>50-249 employees</td>\n",
              "      <td>5007.4995</td>\n",
              "      <td>3-5 years</td>\n",
              "      <td>['Python', 'R', 'Bash']</td>\n",
              "      <td>3</td>\n",
              "      <td>['google cloud platform (gcp)', 'amazon web se...</td>\n",
              "      <td>3</td>\n",
              "      <td>['mysql', 'postgressql']</td>\n",
              "      <td>2</td>\n",
              "      <td>1</td>\n",
              "    </tr>\n",
              "    <tr>\n",
              "      <th>4</th>\n",
              "      <td>8</td>\n",
              "      <td>23</td>\n",
              "      <td>United States</td>\n",
              "      <td>Data Scientist</td>\n",
              "      <td>&gt; 10,000 employees</td>\n",
              "      <td>40044.9995</td>\n",
              "      <td>3-5 years</td>\n",
              "      <td>['Python']</td>\n",
              "      <td>1</td>\n",
              "      <td>[]</td>\n",
              "      <td>0</td>\n",
              "      <td>[]</td>\n",
              "      <td>0</td>\n",
              "      <td>1</td>\n",
              "    </tr>\n",
              "  </tbody>\n",
              "</table>\n",
              "</div>"
            ],
            "text/plain": [
              "   Unnamed: 0  Age  ... QtyDatabases Count\n",
              "0           1   23  ...            0     1\n",
              "1           2   42  ...            0     1\n",
              "2           6   52  ...            2     1\n",
              "3           7   23  ...            2     1\n",
              "4           8   23  ...            0     1\n",
              "\n",
              "[5 rows x 14 columns]"
            ]
          },
          "metadata": {
            "tags": []
          },
          "execution_count": 35
        }
      ]
    },
    {
      "cell_type": "markdown",
      "metadata": {
        "id": "-ni0Tp_UwfR0"
      },
      "source": [
        "### Glassdoor"
      ]
    },
    {
      "cell_type": "code",
      "metadata": {
        "colab": {
          "base_uri": "https://localhost:8080/",
          "height": 355
        },
        "id": "pJjwgSRplgcI",
        "outputId": "01e68e34-3f84-4569-a27f-efcaa2dd598d"
      },
      "source": [
        "glassdoor_full = pd.read_csv('data/glassdoor.csv')\n",
        "glassdoor_full.head()"
      ],
      "execution_count": 36,
      "outputs": [
        {
          "output_type": "execute_result",
          "data": {
            "text/html": [
              "<div>\n",
              "<style scoped>\n",
              "    .dataframe tbody tr th:only-of-type {\n",
              "        vertical-align: middle;\n",
              "    }\n",
              "\n",
              "    .dataframe tbody tr th {\n",
              "        vertical-align: top;\n",
              "    }\n",
              "\n",
              "    .dataframe thead th {\n",
              "        text-align: right;\n",
              "    }\n",
              "</style>\n",
              "<table border=\"1\" class=\"dataframe\">\n",
              "  <thead>\n",
              "    <tr style=\"text-align: right;\">\n",
              "      <th></th>\n",
              "      <th>benefits.benefitRatingDecimal</th>\n",
              "      <th>benefits.comments</th>\n",
              "      <th>benefits.highlights</th>\n",
              "      <th>benefits.numRatings</th>\n",
              "      <th>benefits.employerSummary</th>\n",
              "      <th>breadCrumbs</th>\n",
              "      <th>gaTrackerData.category</th>\n",
              "      <th>gaTrackerData.empId</th>\n",
              "      <th>gaTrackerData.empName</th>\n",
              "      <th>gaTrackerData.empSize</th>\n",
              "      <th>gaTrackerData.expired</th>\n",
              "      <th>gaTrackerData.industry</th>\n",
              "      <th>gaTrackerData.industryId</th>\n",
              "      <th>gaTrackerData.jobId.long</th>\n",
              "      <th>gaTrackerData.jobId.int</th>\n",
              "      <th>gaTrackerData.jobTitle</th>\n",
              "      <th>gaTrackerData.location</th>\n",
              "      <th>gaTrackerData.locationId</th>\n",
              "      <th>gaTrackerData.locationType</th>\n",
              "      <th>gaTrackerData.pageRequestGuid.guid</th>\n",
              "      <th>gaTrackerData.pageRequestGuid.guidValid</th>\n",
              "      <th>gaTrackerData.pageRequestGuid.part1</th>\n",
              "      <th>gaTrackerData.pageRequestGuid.part2</th>\n",
              "      <th>gaTrackerData.sector</th>\n",
              "      <th>gaTrackerData.sectorId</th>\n",
              "      <th>gaTrackerData.profileConversionTrackingParams.trackingCAT</th>\n",
              "      <th>gaTrackerData.profileConversionTrackingParams.trackingSRC</th>\n",
              "      <th>gaTrackerData.profileConversionTrackingParams.trackingXSP</th>\n",
              "      <th>gaTrackerData.jobViewTrackingResult.jobViewDisplayTimeMillis</th>\n",
              "      <th>gaTrackerData.jobViewTrackingResult.requiresTracking</th>\n",
              "      <th>gaTrackerData.jobViewTrackingResult.trackingUrl</th>\n",
              "      <th>header.adOrderId</th>\n",
              "      <th>header.advertiserType</th>\n",
              "      <th>header.applicationId</th>\n",
              "      <th>header.applyButtonDisabled</th>\n",
              "      <th>header.applyUrl</th>\n",
              "      <th>header.blur</th>\n",
              "      <th>header.coverPhoto</th>\n",
              "      <th>header.easyApply</th>\n",
              "      <th>header.employerId</th>\n",
              "      <th>...</th>\n",
              "      <th>salary.country.continent.id</th>\n",
              "      <th>salary.country.continent.new</th>\n",
              "      <th>salary.country.countryFIPS</th>\n",
              "      <th>salary.country.currency.currencyCode</th>\n",
              "      <th>salary.country.currency.defaultFractionDigits</th>\n",
              "      <th>salary.country.currency.displayName</th>\n",
              "      <th>salary.country.currency.id</th>\n",
              "      <th>salary.country.currency.name</th>\n",
              "      <th>salary.country.currency.negativeTemplate</th>\n",
              "      <th>salary.country.currency.new</th>\n",
              "      <th>salary.country.currency.positiveTemplate</th>\n",
              "      <th>salary.country.currency.symbol</th>\n",
              "      <th>salary.country.currencyCode</th>\n",
              "      <th>salary.country.defaultLocale</th>\n",
              "      <th>salary.country.defaultName</th>\n",
              "      <th>salary.country.defaultShortName</th>\n",
              "      <th>salary.country.employerSolutionsCountry</th>\n",
              "      <th>salary.country.id</th>\n",
              "      <th>salary.country.longName</th>\n",
              "      <th>salary.country.major</th>\n",
              "      <th>salary.country.name</th>\n",
              "      <th>salary.country.new</th>\n",
              "      <th>salary.country.population</th>\n",
              "      <th>salary.country.shortName</th>\n",
              "      <th>salary.country.tld</th>\n",
              "      <th>salary.country.type</th>\n",
              "      <th>salary.country.uniqueName</th>\n",
              "      <th>salary.country.usaCentricDisplayName</th>\n",
              "      <th>salary.currency.currencyCode</th>\n",
              "      <th>salary.currency.defaultFractionDigits</th>\n",
              "      <th>salary.currency.displayName</th>\n",
              "      <th>salary.currency.id</th>\n",
              "      <th>salary.currency.name</th>\n",
              "      <th>salary.currency.negativeTemplate</th>\n",
              "      <th>salary.currency.new</th>\n",
              "      <th>salary.currency.positiveTemplate</th>\n",
              "      <th>salary.currency.symbol</th>\n",
              "      <th>salary.lastSalaryDate</th>\n",
              "      <th>salary.salaries</th>\n",
              "      <th>wwfu</th>\n",
              "    </tr>\n",
              "  </thead>\n",
              "  <tbody>\n",
              "    <tr>\n",
              "      <th>0</th>\n",
              "      <td>0.0</td>\n",
              "      <td>2801.0</td>\n",
              "      <td>2801.0</td>\n",
              "      <td>0</td>\n",
              "      <td>NaN</td>\n",
              "      <td>2801</td>\n",
              "      <td>-1</td>\n",
              "      <td>2183810</td>\n",
              "      <td>Modus Group</td>\n",
              "      <td>501-1000</td>\n",
              "      <td>False</td>\n",
              "      <td>Investment Banking &amp; Asset Management</td>\n",
              "      <td>200053</td>\n",
              "      <td>3.227100e+09</td>\n",
              "      <td>NaN</td>\n",
              "      <td>Biogas Project Development Manager</td>\n",
              "      <td>Warsaw</td>\n",
              "      <td>3094484</td>\n",
              "      <td>CITY</td>\n",
              "      <td>0000016e56d0b5f2b16c3aea720c55ae</td>\n",
              "      <td>True</td>\n",
              "      <td>1573414548978</td>\n",
              "      <td>-5662085852901386834</td>\n",
              "      <td>Finance</td>\n",
              "      <td>10010</td>\n",
              "      <td>NaN</td>\n",
              "      <td>NaN</td>\n",
              "      <td>NaN</td>\n",
              "      <td>NaN</td>\n",
              "      <td>NaN</td>\n",
              "      <td>NaN</td>\n",
              "      <td>14295</td>\n",
              "      <td>GENERAL</td>\n",
              "      <td>0</td>\n",
              "      <td>False</td>\n",
              "      <td>/partner/jobListing.htm?pos=101&amp;ao=14295&amp;tgt=A...</td>\n",
              "      <td>True</td>\n",
              "      <td>/static/img/banners/default-ei-banner.jpg</td>\n",
              "      <td>True</td>\n",
              "      <td>2183810</td>\n",
              "      <td>...</td>\n",
              "      <td>NaN</td>\n",
              "      <td>NaN</td>\n",
              "      <td>NaN</td>\n",
              "      <td>NaN</td>\n",
              "      <td>NaN</td>\n",
              "      <td>NaN</td>\n",
              "      <td>NaN</td>\n",
              "      <td>NaN</td>\n",
              "      <td>NaN</td>\n",
              "      <td>NaN</td>\n",
              "      <td>NaN</td>\n",
              "      <td>NaN</td>\n",
              "      <td>NaN</td>\n",
              "      <td>NaN</td>\n",
              "      <td>NaN</td>\n",
              "      <td>NaN</td>\n",
              "      <td>NaN</td>\n",
              "      <td>NaN</td>\n",
              "      <td>NaN</td>\n",
              "      <td>NaN</td>\n",
              "      <td>NaN</td>\n",
              "      <td>NaN</td>\n",
              "      <td>NaN</td>\n",
              "      <td>NaN</td>\n",
              "      <td>NaN</td>\n",
              "      <td>NaN</td>\n",
              "      <td>NaN</td>\n",
              "      <td>NaN</td>\n",
              "      <td>NaN</td>\n",
              "      <td>NaN</td>\n",
              "      <td>NaN</td>\n",
              "      <td>NaN</td>\n",
              "      <td>NaN</td>\n",
              "      <td>NaN</td>\n",
              "      <td>NaN</td>\n",
              "      <td>NaN</td>\n",
              "      <td>NaN</td>\n",
              "      <td>NaN</td>\n",
              "      <td>2483.0</td>\n",
              "      <td>NaN</td>\n",
              "    </tr>\n",
              "    <tr>\n",
              "      <th>1</th>\n",
              "      <td>4.0</td>\n",
              "      <td>2802.0</td>\n",
              "      <td>2802.0</td>\n",
              "      <td>3</td>\n",
              "      <td>NaN</td>\n",
              "      <td>2802</td>\n",
              "      <td>-1</td>\n",
              "      <td>10416</td>\n",
              "      <td>Boehringer Ingelheim</td>\n",
              "      <td>10000--1</td>\n",
              "      <td>False</td>\n",
              "      <td>Biotech &amp; Pharmaceuticals</td>\n",
              "      <td>200021</td>\n",
              "      <td>3.406582e+09</td>\n",
              "      <td>NaN</td>\n",
              "      <td>Quality Manager - Boehringer Ingelheim Healthc...</td>\n",
              "      <td>NaN</td>\n",
              "      <td>3183562</td>\n",
              "      <td>CITY</td>\n",
              "      <td>0000016e56d0b5cfa19a4b2ba225a2ee</td>\n",
              "      <td>True</td>\n",
              "      <td>1573414548943</td>\n",
              "      <td>-6802041636413660434</td>\n",
              "      <td>Biotech &amp; Pharmaceuticals</td>\n",
              "      <td>10005</td>\n",
              "      <td>NaN</td>\n",
              "      <td>NaN</td>\n",
              "      <td>NaN</td>\n",
              "      <td>NaN</td>\n",
              "      <td>NaN</td>\n",
              "      <td>NaN</td>\n",
              "      <td>43297</td>\n",
              "      <td>GENERAL</td>\n",
              "      <td>0</td>\n",
              "      <td>False</td>\n",
              "      <td>/partner/jobListing.htm?pos=101&amp;ao=43297&amp;s=58&amp;...</td>\n",
              "      <td>True</td>\n",
              "      <td>/static/img/banners/default-ei-banner.jpg</td>\n",
              "      <td>False</td>\n",
              "      <td>10416</td>\n",
              "      <td>...</td>\n",
              "      <td>4.0</td>\n",
              "      <td>False</td>\n",
              "      <td>UK</td>\n",
              "      <td>GBP</td>\n",
              "      <td>2.0</td>\n",
              "      <td>United Kingdom Pound (GBP)</td>\n",
              "      <td>2.0</td>\n",
              "      <td>United Kingdom Pound</td>\n",
              "      <td>$(#)</td>\n",
              "      <td>False</td>\n",
              "      <td>$#</td>\n",
              "      <td>&amp;pound;</td>\n",
              "      <td>GBP</td>\n",
              "      <td>en_UK</td>\n",
              "      <td>United Kingdom</td>\n",
              "      <td>United Kingdom</td>\n",
              "      <td>True</td>\n",
              "      <td>2.0</td>\n",
              "      <td>United Kingdom</td>\n",
              "      <td>True</td>\n",
              "      <td>United Kingdom</td>\n",
              "      <td>False</td>\n",
              "      <td>60363602.0</td>\n",
              "      <td>UK</td>\n",
              "      <td>.uk</td>\n",
              "      <td>N</td>\n",
              "      <td>United Kingdom</td>\n",
              "      <td>United Kingdom</td>\n",
              "      <td>GBP</td>\n",
              "      <td>2.0</td>\n",
              "      <td>United Kingdom Pound (GBP)</td>\n",
              "      <td>2.0</td>\n",
              "      <td>United Kingdom Pound</td>\n",
              "      <td>$(#)</td>\n",
              "      <td>False</td>\n",
              "      <td>$#</td>\n",
              "      <td>&amp;pound;</td>\n",
              "      <td>2019-10-14T06:05:58</td>\n",
              "      <td>2484.0</td>\n",
              "      <td>NaN</td>\n",
              "    </tr>\n",
              "    <tr>\n",
              "      <th>2</th>\n",
              "      <td>0.0</td>\n",
              "      <td>2803.0</td>\n",
              "      <td>2803.0</td>\n",
              "      <td>0</td>\n",
              "      <td>NaN</td>\n",
              "      <td>2803</td>\n",
              "      <td>-1</td>\n",
              "      <td>1043373</td>\n",
              "      <td>Immobiliare.it</td>\n",
              "      <td>201-500</td>\n",
              "      <td>False</td>\n",
              "      <td>NaN</td>\n",
              "      <td>0</td>\n",
              "      <td>3.230738e+09</td>\n",
              "      <td>NaN</td>\n",
              "      <td>Senior Software Engineer (PHP, Elixir, Python)</td>\n",
              "      <td>Milano</td>\n",
              "      <td>2802090</td>\n",
              "      <td>CITY</td>\n",
              "      <td>0000016e56d0b5c58f39733898e10986</td>\n",
              "      <td>True</td>\n",
              "      <td>1573414548933</td>\n",
              "      <td>-8126337365693101690</td>\n",
              "      <td>NaN</td>\n",
              "      <td>0</td>\n",
              "      <td>NaN</td>\n",
              "      <td>NaN</td>\n",
              "      <td>NaN</td>\n",
              "      <td>NaN</td>\n",
              "      <td>NaN</td>\n",
              "      <td>NaN</td>\n",
              "      <td>437149</td>\n",
              "      <td>GENERAL</td>\n",
              "      <td>0</td>\n",
              "      <td>False</td>\n",
              "      <td>/partner/jobListing.htm?pos=101&amp;ao=437149&amp;s=58...</td>\n",
              "      <td>True</td>\n",
              "      <td>/static/img/banners/default-ei-banner.jpg</td>\n",
              "      <td>False</td>\n",
              "      <td>1043373</td>\n",
              "      <td>...</td>\n",
              "      <td>NaN</td>\n",
              "      <td>NaN</td>\n",
              "      <td>NaN</td>\n",
              "      <td>NaN</td>\n",
              "      <td>NaN</td>\n",
              "      <td>NaN</td>\n",
              "      <td>NaN</td>\n",
              "      <td>NaN</td>\n",
              "      <td>NaN</td>\n",
              "      <td>NaN</td>\n",
              "      <td>NaN</td>\n",
              "      <td>NaN</td>\n",
              "      <td>NaN</td>\n",
              "      <td>NaN</td>\n",
              "      <td>NaN</td>\n",
              "      <td>NaN</td>\n",
              "      <td>NaN</td>\n",
              "      <td>NaN</td>\n",
              "      <td>NaN</td>\n",
              "      <td>NaN</td>\n",
              "      <td>NaN</td>\n",
              "      <td>NaN</td>\n",
              "      <td>NaN</td>\n",
              "      <td>NaN</td>\n",
              "      <td>NaN</td>\n",
              "      <td>NaN</td>\n",
              "      <td>NaN</td>\n",
              "      <td>NaN</td>\n",
              "      <td>NaN</td>\n",
              "      <td>NaN</td>\n",
              "      <td>NaN</td>\n",
              "      <td>NaN</td>\n",
              "      <td>NaN</td>\n",
              "      <td>NaN</td>\n",
              "      <td>NaN</td>\n",
              "      <td>NaN</td>\n",
              "      <td>NaN</td>\n",
              "      <td>NaN</td>\n",
              "      <td>2485.0</td>\n",
              "      <td>NaN</td>\n",
              "    </tr>\n",
              "    <tr>\n",
              "      <th>3</th>\n",
              "      <td>0.0</td>\n",
              "      <td>2804.0</td>\n",
              "      <td>2804.0</td>\n",
              "      <td>0</td>\n",
              "      <td>NaN</td>\n",
              "      <td>2804</td>\n",
              "      <td>-1</td>\n",
              "      <td>2226886</td>\n",
              "      <td>Codup</td>\n",
              "      <td>1-50</td>\n",
              "      <td>False</td>\n",
              "      <td>NaN</td>\n",
              "      <td>0</td>\n",
              "      <td>3.406677e+09</td>\n",
              "      <td>NaN</td>\n",
              "      <td>Senior SQA Engineer</td>\n",
              "      <td>Karachi</td>\n",
              "      <td>3212296</td>\n",
              "      <td>CITY</td>\n",
              "      <td>0000016e56d0b5bca1733da6de4f4098</td>\n",
              "      <td>True</td>\n",
              "      <td>1573414548924</td>\n",
              "      <td>-6813034024377827176</td>\n",
              "      <td>NaN</td>\n",
              "      <td>0</td>\n",
              "      <td>NaN</td>\n",
              "      <td>NaN</td>\n",
              "      <td>NaN</td>\n",
              "      <td>NaN</td>\n",
              "      <td>NaN</td>\n",
              "      <td>NaN</td>\n",
              "      <td>389273</td>\n",
              "      <td>JOB_BOARD</td>\n",
              "      <td>0</td>\n",
              "      <td>False</td>\n",
              "      <td>/partner/jobListing.htm?pos=101&amp;ao=389273&amp;s=58...</td>\n",
              "      <td>True</td>\n",
              "      <td>/static/img/banners/default-ei-banner.jpg</td>\n",
              "      <td>False</td>\n",
              "      <td>2226886</td>\n",
              "      <td>...</td>\n",
              "      <td>NaN</td>\n",
              "      <td>NaN</td>\n",
              "      <td>NaN</td>\n",
              "      <td>NaN</td>\n",
              "      <td>NaN</td>\n",
              "      <td>NaN</td>\n",
              "      <td>NaN</td>\n",
              "      <td>NaN</td>\n",
              "      <td>NaN</td>\n",
              "      <td>NaN</td>\n",
              "      <td>NaN</td>\n",
              "      <td>NaN</td>\n",
              "      <td>NaN</td>\n",
              "      <td>NaN</td>\n",
              "      <td>NaN</td>\n",
              "      <td>NaN</td>\n",
              "      <td>NaN</td>\n",
              "      <td>NaN</td>\n",
              "      <td>NaN</td>\n",
              "      <td>NaN</td>\n",
              "      <td>NaN</td>\n",
              "      <td>NaN</td>\n",
              "      <td>NaN</td>\n",
              "      <td>NaN</td>\n",
              "      <td>NaN</td>\n",
              "      <td>NaN</td>\n",
              "      <td>NaN</td>\n",
              "      <td>NaN</td>\n",
              "      <td>NaN</td>\n",
              "      <td>NaN</td>\n",
              "      <td>NaN</td>\n",
              "      <td>NaN</td>\n",
              "      <td>NaN</td>\n",
              "      <td>NaN</td>\n",
              "      <td>NaN</td>\n",
              "      <td>NaN</td>\n",
              "      <td>NaN</td>\n",
              "      <td>NaN</td>\n",
              "      <td>2486.0</td>\n",
              "      <td>NaN</td>\n",
              "    </tr>\n",
              "    <tr>\n",
              "      <th>4</th>\n",
              "      <td>0.0</td>\n",
              "      <td>2805.0</td>\n",
              "      <td>2805.0</td>\n",
              "      <td>0</td>\n",
              "      <td>NaN</td>\n",
              "      <td>2805</td>\n",
              "      <td>-1</td>\n",
              "      <td>851555</td>\n",
              "      <td>Markelytics Solutions</td>\n",
              "      <td>201-500</td>\n",
              "      <td>False</td>\n",
              "      <td>Consulting</td>\n",
              "      <td>200028</td>\n",
              "      <td>3.201516e+09</td>\n",
              "      <td>NaN</td>\n",
              "      <td>Research Manager</td>\n",
              "      <td>Bengaluru</td>\n",
              "      <td>2940587</td>\n",
              "      <td>CITY</td>\n",
              "      <td>0000016e56d0b5ba9a6c4efc3844657c</td>\n",
              "      <td>True</td>\n",
              "      <td>1573414548922</td>\n",
              "      <td>-7319388449201166980</td>\n",
              "      <td>Business Services</td>\n",
              "      <td>10006</td>\n",
              "      <td>NaN</td>\n",
              "      <td>NaN</td>\n",
              "      <td>NaN</td>\n",
              "      <td>NaN</td>\n",
              "      <td>NaN</td>\n",
              "      <td>NaN</td>\n",
              "      <td>437149</td>\n",
              "      <td>GENERAL</td>\n",
              "      <td>0</td>\n",
              "      <td>False</td>\n",
              "      <td>/partner/jobListing.htm?pos=101&amp;ao=437149&amp;s=58...</td>\n",
              "      <td>True</td>\n",
              "      <td>/static/img/banners/default-ei-banner.jpg</td>\n",
              "      <td>False</td>\n",
              "      <td>851555</td>\n",
              "      <td>...</td>\n",
              "      <td>NaN</td>\n",
              "      <td>NaN</td>\n",
              "      <td>NaN</td>\n",
              "      <td>NaN</td>\n",
              "      <td>NaN</td>\n",
              "      <td>NaN</td>\n",
              "      <td>NaN</td>\n",
              "      <td>NaN</td>\n",
              "      <td>NaN</td>\n",
              "      <td>NaN</td>\n",
              "      <td>NaN</td>\n",
              "      <td>NaN</td>\n",
              "      <td>NaN</td>\n",
              "      <td>NaN</td>\n",
              "      <td>NaN</td>\n",
              "      <td>NaN</td>\n",
              "      <td>NaN</td>\n",
              "      <td>NaN</td>\n",
              "      <td>NaN</td>\n",
              "      <td>NaN</td>\n",
              "      <td>NaN</td>\n",
              "      <td>NaN</td>\n",
              "      <td>NaN</td>\n",
              "      <td>NaN</td>\n",
              "      <td>NaN</td>\n",
              "      <td>NaN</td>\n",
              "      <td>NaN</td>\n",
              "      <td>NaN</td>\n",
              "      <td>NaN</td>\n",
              "      <td>NaN</td>\n",
              "      <td>NaN</td>\n",
              "      <td>NaN</td>\n",
              "      <td>NaN</td>\n",
              "      <td>NaN</td>\n",
              "      <td>NaN</td>\n",
              "      <td>NaN</td>\n",
              "      <td>NaN</td>\n",
              "      <td>NaN</td>\n",
              "      <td>2487.0</td>\n",
              "      <td>NaN</td>\n",
              "    </tr>\n",
              "  </tbody>\n",
              "</table>\n",
              "<p>5 rows × 163 columns</p>\n",
              "</div>"
            ],
            "text/plain": [
              "   benefits.benefitRatingDecimal  benefits.comments  ...  salary.salaries  wwfu\n",
              "0                            0.0             2801.0  ...           2483.0   NaN\n",
              "1                            4.0             2802.0  ...           2484.0   NaN\n",
              "2                            0.0             2803.0  ...           2485.0   NaN\n",
              "3                            0.0             2804.0  ...           2486.0   NaN\n",
              "4                            0.0             2805.0  ...           2487.0   NaN\n",
              "\n",
              "[5 rows x 163 columns]"
            ]
          },
          "metadata": {
            "tags": []
          },
          "execution_count": 36
        }
      ]
    },
    {
      "cell_type": "markdown",
      "metadata": {
        "id": "FypMtBW_9kYX"
      },
      "source": [
        "#### Select and rename columns"
      ]
    },
    {
      "cell_type": "markdown",
      "metadata": {
        "id": "HZwMsGt4tHLY"
      },
      "source": [
        "We select only the columns we're interested in: `header.jotTitle`, `job.description`, `map.country`"
      ]
    },
    {
      "cell_type": "code",
      "metadata": {
        "id": "ddSmkNFhvm3M"
      },
      "source": [
        "COLUMNS = [\"header.jobTitle\", \"job.description\", \"map.country\"]\n",
        "glassdoor = glassdoor_full[COLUMNS].copy()"
      ],
      "execution_count": 37,
      "outputs": []
    },
    {
      "cell_type": "markdown",
      "metadata": {
        "id": "YOCxowI_v6x2"
      },
      "source": [
        "Rename selected columns to meaningful names:"
      ]
    },
    {
      "cell_type": "code",
      "metadata": {
        "colab": {
          "base_uri": "https://localhost:8080/",
          "height": 204
        },
        "id": "Ff1LqT1CwARF",
        "outputId": "253e3887-ab42-4372-a49d-66f465ef0daa"
      },
      "source": [
        "glassdoor.columns = [\"JobTitle\", \"JobDescription\", \"Country\"]\n",
        "glassdoor.head()"
      ],
      "execution_count": 38,
      "outputs": [
        {
          "output_type": "execute_result",
          "data": {
            "text/html": [
              "<div>\n",
              "<style scoped>\n",
              "    .dataframe tbody tr th:only-of-type {\n",
              "        vertical-align: middle;\n",
              "    }\n",
              "\n",
              "    .dataframe tbody tr th {\n",
              "        vertical-align: top;\n",
              "    }\n",
              "\n",
              "    .dataframe thead th {\n",
              "        text-align: right;\n",
              "    }\n",
              "</style>\n",
              "<table border=\"1\" class=\"dataframe\">\n",
              "  <thead>\n",
              "    <tr style=\"text-align: right;\">\n",
              "      <th></th>\n",
              "      <th>JobTitle</th>\n",
              "      <th>JobDescription</th>\n",
              "      <th>Country</th>\n",
              "    </tr>\n",
              "  </thead>\n",
              "  <tbody>\n",
              "    <tr>\n",
              "      <th>0</th>\n",
              "      <td>Biogas Project Development Manager</td>\n",
              "      <td>We are the drivers of the future who offer a g...</td>\n",
              "      <td>Poland</td>\n",
              "    </tr>\n",
              "    <tr>\n",
              "      <th>1</th>\n",
              "      <td>Quality Manager - Boehringer Ingelheim Healthc...</td>\n",
              "      <td>&lt;strong&gt;&lt;/strong&gt;\\n&lt;br/&gt;&lt;br/&gt;\\n&lt;strong&gt;&lt;/stron...</td>\n",
              "      <td>NaN</td>\n",
              "    </tr>\n",
              "    <tr>\n",
              "      <th>2</th>\n",
              "      <td>Senior Software Engineer (PHP, Elixir, Python)</td>\n",
              "      <td>Dottori.it &amp;egrave; il motore di ricerca che t...</td>\n",
              "      <td>Italy</td>\n",
              "    </tr>\n",
              "    <tr>\n",
              "      <th>3</th>\n",
              "      <td>Senior SQA Engineer</td>\n",
              "      <td>Codup is looking for a Senior SQA Engineer for...</td>\n",
              "      <td>PK</td>\n",
              "    </tr>\n",
              "    <tr>\n",
              "      <th>4</th>\n",
              "      <td>Research Manager</td>\n",
              "      <td>&lt;strong&gt;Department:&lt;/strong&gt; Research &amp;amp; Op...</td>\n",
              "      <td>IN</td>\n",
              "    </tr>\n",
              "  </tbody>\n",
              "</table>\n",
              "</div>"
            ],
            "text/plain": [
              "                                            JobTitle  ... Country\n",
              "0                 Biogas Project Development Manager  ...  Poland\n",
              "1  Quality Manager - Boehringer Ingelheim Healthc...  ...     NaN\n",
              "2     Senior Software Engineer (PHP, Elixir, Python)  ...   Italy\n",
              "3                                Senior SQA Engineer  ...      PK\n",
              "4                                   Research Manager  ...      IN\n",
              "\n",
              "[5 rows x 3 columns]"
            ]
          },
          "metadata": {
            "tags": []
          },
          "execution_count": 38
        }
      ]
    },
    {
      "cell_type": "markdown",
      "metadata": {
        "id": "yoqVgj0v9nz_"
      },
      "source": [
        "#### Processing `Country` column"
      ]
    },
    {
      "cell_type": "markdown",
      "metadata": {
        "id": "wIgDUeviwJYT"
      },
      "source": [
        "Drop `NaN` countries:"
      ]
    },
    {
      "cell_type": "code",
      "metadata": {
        "id": "8DtrNuaYwPvh"
      },
      "source": [
        "glassdoor.dropna(subset=[\"Country\"], inplace=True)"
      ],
      "execution_count": 39,
      "outputs": []
    },
    {
      "cell_type": "markdown",
      "metadata": {
        "id": "APV45QYWwVRz"
      },
      "source": [
        "The value in `Country` column is not consistent: some country names are written in full, while others are in 2 digit codes."
      ]
    },
    {
      "cell_type": "code",
      "metadata": {
        "colab": {
          "base_uri": "https://localhost:8080/"
        },
        "id": "ayJieWBj9wEv",
        "outputId": "aaea5f78-9ee8-4c21-ac2b-e2388e61b598"
      },
      "source": [
        "glassdoor[\"Country\"]"
      ],
      "execution_count": 40,
      "outputs": [
        {
          "output_type": "execute_result",
          "data": {
            "text/plain": [
              "0          Poland\n",
              "2           Italy\n",
              "3              PK\n",
              "4              IN\n",
              "6              IL\n",
              "           ...   \n",
              "165284    Hungary\n",
              "165286         JP\n",
              "165287         BE\n",
              "165288         NL\n",
              "165289         SG\n",
              "Name: Country, Length: 115262, dtype: object"
            ]
          },
          "metadata": {
            "tags": []
          },
          "execution_count": 40
        }
      ]
    },
    {
      "cell_type": "markdown",
      "metadata": {
        "id": "17PUtNtt9y3X"
      },
      "source": [
        "We fix this problem using `country_names_2_digit_codes.csv`"
      ]
    },
    {
      "cell_type": "code",
      "metadata": {
        "colab": {
          "base_uri": "https://localhost:8080/",
          "height": 204
        },
        "id": "dgkE3Ep8-Ezv",
        "outputId": "02831831-75a8-4811-c201-832218e7887a"
      },
      "source": [
        "country_codes = pd.read_csv(\"data/country_names_2_digit_codes.csv\")\n",
        "country_codes.head()"
      ],
      "execution_count": 41,
      "outputs": [
        {
          "output_type": "execute_result",
          "data": {
            "text/html": [
              "<div>\n",
              "<style scoped>\n",
              "    .dataframe tbody tr th:only-of-type {\n",
              "        vertical-align: middle;\n",
              "    }\n",
              "\n",
              "    .dataframe tbody tr th {\n",
              "        vertical-align: top;\n",
              "    }\n",
              "\n",
              "    .dataframe thead th {\n",
              "        text-align: right;\n",
              "    }\n",
              "</style>\n",
              "<table border=\"1\" class=\"dataframe\">\n",
              "  <thead>\n",
              "    <tr style=\"text-align: right;\">\n",
              "      <th></th>\n",
              "      <th>Name</th>\n",
              "      <th>Code</th>\n",
              "    </tr>\n",
              "  </thead>\n",
              "  <tbody>\n",
              "    <tr>\n",
              "      <th>0</th>\n",
              "      <td>Afghanistan</td>\n",
              "      <td>AF</td>\n",
              "    </tr>\n",
              "    <tr>\n",
              "      <th>1</th>\n",
              "      <td>Ã…land Islands</td>\n",
              "      <td>AX</td>\n",
              "    </tr>\n",
              "    <tr>\n",
              "      <th>2</th>\n",
              "      <td>Albania</td>\n",
              "      <td>AL</td>\n",
              "    </tr>\n",
              "    <tr>\n",
              "      <th>3</th>\n",
              "      <td>Algeria</td>\n",
              "      <td>DZ</td>\n",
              "    </tr>\n",
              "    <tr>\n",
              "      <th>4</th>\n",
              "      <td>American Samoa</td>\n",
              "      <td>AS</td>\n",
              "    </tr>\n",
              "  </tbody>\n",
              "</table>\n",
              "</div>"
            ],
            "text/plain": [
              "             Name Code\n",
              "0     Afghanistan   AF\n",
              "1  Ã…land Islands   AX\n",
              "2         Albania   AL\n",
              "3         Algeria   DZ\n",
              "4  American Samoa   AS"
            ]
          },
          "metadata": {
            "tags": []
          },
          "execution_count": 41
        }
      ]
    },
    {
      "cell_type": "markdown",
      "metadata": {
        "id": "m08-Ohns-SiN"
      },
      "source": [
        "Merge both datasets by 2 digit code, and fill `NaN`s with full country name:"
      ]
    },
    {
      "cell_type": "code",
      "metadata": {
        "colab": {
          "base_uri": "https://localhost:8080/",
          "height": 204
        },
        "id": "QmHuusIJ-MYX",
        "outputId": "7ff1ef0f-bb23-4625-eda0-388fd0cefefe"
      },
      "source": [
        "glassdoor = pd.merge(glassdoor, country_codes, left_on='Country', right_on='Code', how='left')\n",
        "glassdoor.head()"
      ],
      "execution_count": 42,
      "outputs": [
        {
          "output_type": "execute_result",
          "data": {
            "text/html": [
              "<div>\n",
              "<style scoped>\n",
              "    .dataframe tbody tr th:only-of-type {\n",
              "        vertical-align: middle;\n",
              "    }\n",
              "\n",
              "    .dataframe tbody tr th {\n",
              "        vertical-align: top;\n",
              "    }\n",
              "\n",
              "    .dataframe thead th {\n",
              "        text-align: right;\n",
              "    }\n",
              "</style>\n",
              "<table border=\"1\" class=\"dataframe\">\n",
              "  <thead>\n",
              "    <tr style=\"text-align: right;\">\n",
              "      <th></th>\n",
              "      <th>JobTitle</th>\n",
              "      <th>JobDescription</th>\n",
              "      <th>Country</th>\n",
              "      <th>Name</th>\n",
              "      <th>Code</th>\n",
              "    </tr>\n",
              "  </thead>\n",
              "  <tbody>\n",
              "    <tr>\n",
              "      <th>0</th>\n",
              "      <td>Biogas Project Development Manager</td>\n",
              "      <td>We are the drivers of the future who offer a g...</td>\n",
              "      <td>Poland</td>\n",
              "      <td>NaN</td>\n",
              "      <td>NaN</td>\n",
              "    </tr>\n",
              "    <tr>\n",
              "      <th>1</th>\n",
              "      <td>Senior Software Engineer (PHP, Elixir, Python)</td>\n",
              "      <td>Dottori.it &amp;egrave; il motore di ricerca che t...</td>\n",
              "      <td>Italy</td>\n",
              "      <td>NaN</td>\n",
              "      <td>NaN</td>\n",
              "    </tr>\n",
              "    <tr>\n",
              "      <th>2</th>\n",
              "      <td>Senior SQA Engineer</td>\n",
              "      <td>Codup is looking for a Senior SQA Engineer for...</td>\n",
              "      <td>PK</td>\n",
              "      <td>Pakistan</td>\n",
              "      <td>PK</td>\n",
              "    </tr>\n",
              "    <tr>\n",
              "      <th>3</th>\n",
              "      <td>Research Manager</td>\n",
              "      <td>&lt;strong&gt;Department:&lt;/strong&gt; Research &amp;amp; Op...</td>\n",
              "      <td>IN</td>\n",
              "      <td>India</td>\n",
              "      <td>IN</td>\n",
              "    </tr>\n",
              "    <tr>\n",
              "      <th>4</th>\n",
              "      <td>B2B Product Manager</td>\n",
              "      <td>&lt;b&gt;&amp;#1514;&amp;#1497;&amp;#1488;&amp;#1493;&amp;#1512; &amp;#1492;...</td>\n",
              "      <td>IL</td>\n",
              "      <td>Israel</td>\n",
              "      <td>IL</td>\n",
              "    </tr>\n",
              "  </tbody>\n",
              "</table>\n",
              "</div>"
            ],
            "text/plain": [
              "                                         JobTitle  ... Code\n",
              "0              Biogas Project Development Manager  ...  NaN\n",
              "1  Senior Software Engineer (PHP, Elixir, Python)  ...  NaN\n",
              "2                             Senior SQA Engineer  ...   PK\n",
              "3                                Research Manager  ...   IN\n",
              "4                             B2B Product Manager  ...   IL\n",
              "\n",
              "[5 rows x 5 columns]"
            ]
          },
          "metadata": {
            "tags": []
          },
          "execution_count": 42
        }
      ]
    },
    {
      "cell_type": "markdown",
      "metadata": {
        "id": "dtYm0DRX-Yn7"
      },
      "source": [
        "Then replace the 2 digit codes with full name:"
      ]
    },
    {
      "cell_type": "code",
      "metadata": {
        "colab": {
          "base_uri": "https://localhost:8080/",
          "height": 204
        },
        "id": "TxwJ8Slt-dRx",
        "outputId": "25d6ac4a-ffee-4f43-d6af-f237a3659421"
      },
      "source": [
        "glassdoor[\"Country\"] = glassdoor[\"Name\"].fillna(glassdoor[\"Country\"])\n",
        "glassdoor.head()"
      ],
      "execution_count": 43,
      "outputs": [
        {
          "output_type": "execute_result",
          "data": {
            "text/html": [
              "<div>\n",
              "<style scoped>\n",
              "    .dataframe tbody tr th:only-of-type {\n",
              "        vertical-align: middle;\n",
              "    }\n",
              "\n",
              "    .dataframe tbody tr th {\n",
              "        vertical-align: top;\n",
              "    }\n",
              "\n",
              "    .dataframe thead th {\n",
              "        text-align: right;\n",
              "    }\n",
              "</style>\n",
              "<table border=\"1\" class=\"dataframe\">\n",
              "  <thead>\n",
              "    <tr style=\"text-align: right;\">\n",
              "      <th></th>\n",
              "      <th>JobTitle</th>\n",
              "      <th>JobDescription</th>\n",
              "      <th>Country</th>\n",
              "      <th>Name</th>\n",
              "      <th>Code</th>\n",
              "    </tr>\n",
              "  </thead>\n",
              "  <tbody>\n",
              "    <tr>\n",
              "      <th>0</th>\n",
              "      <td>Biogas Project Development Manager</td>\n",
              "      <td>We are the drivers of the future who offer a g...</td>\n",
              "      <td>Poland</td>\n",
              "      <td>NaN</td>\n",
              "      <td>NaN</td>\n",
              "    </tr>\n",
              "    <tr>\n",
              "      <th>1</th>\n",
              "      <td>Senior Software Engineer (PHP, Elixir, Python)</td>\n",
              "      <td>Dottori.it &amp;egrave; il motore di ricerca che t...</td>\n",
              "      <td>Italy</td>\n",
              "      <td>NaN</td>\n",
              "      <td>NaN</td>\n",
              "    </tr>\n",
              "    <tr>\n",
              "      <th>2</th>\n",
              "      <td>Senior SQA Engineer</td>\n",
              "      <td>Codup is looking for a Senior SQA Engineer for...</td>\n",
              "      <td>Pakistan</td>\n",
              "      <td>Pakistan</td>\n",
              "      <td>PK</td>\n",
              "    </tr>\n",
              "    <tr>\n",
              "      <th>3</th>\n",
              "      <td>Research Manager</td>\n",
              "      <td>&lt;strong&gt;Department:&lt;/strong&gt; Research &amp;amp; Op...</td>\n",
              "      <td>India</td>\n",
              "      <td>India</td>\n",
              "      <td>IN</td>\n",
              "    </tr>\n",
              "    <tr>\n",
              "      <th>4</th>\n",
              "      <td>B2B Product Manager</td>\n",
              "      <td>&lt;b&gt;&amp;#1514;&amp;#1497;&amp;#1488;&amp;#1493;&amp;#1512; &amp;#1492;...</td>\n",
              "      <td>Israel</td>\n",
              "      <td>Israel</td>\n",
              "      <td>IL</td>\n",
              "    </tr>\n",
              "  </tbody>\n",
              "</table>\n",
              "</div>"
            ],
            "text/plain": [
              "                                         JobTitle  ... Code\n",
              "0              Biogas Project Development Manager  ...  NaN\n",
              "1  Senior Software Engineer (PHP, Elixir, Python)  ...  NaN\n",
              "2                             Senior SQA Engineer  ...   PK\n",
              "3                                Research Manager  ...   IN\n",
              "4                             B2B Product Manager  ...   IL\n",
              "\n",
              "[5 rows x 5 columns]"
            ]
          },
          "metadata": {
            "tags": []
          },
          "execution_count": 43
        }
      ]
    },
    {
      "cell_type": "markdown",
      "metadata": {
        "id": "N-dtsJuE-vIX"
      },
      "source": [
        "Lastly, drop `Name` and `Code` columns:"
      ]
    },
    {
      "cell_type": "code",
      "metadata": {
        "colab": {
          "base_uri": "https://localhost:8080/",
          "height": 204
        },
        "id": "1FKOjJcr--uR",
        "outputId": "18f88b5b-d0bd-427b-9701-5a0212f880ae"
      },
      "source": [
        "glassdoor = glassdoor.drop([\"Name\", \"Code\"], axis=1)\n",
        "glassdoor.head()"
      ],
      "execution_count": 44,
      "outputs": [
        {
          "output_type": "execute_result",
          "data": {
            "text/html": [
              "<div>\n",
              "<style scoped>\n",
              "    .dataframe tbody tr th:only-of-type {\n",
              "        vertical-align: middle;\n",
              "    }\n",
              "\n",
              "    .dataframe tbody tr th {\n",
              "        vertical-align: top;\n",
              "    }\n",
              "\n",
              "    .dataframe thead th {\n",
              "        text-align: right;\n",
              "    }\n",
              "</style>\n",
              "<table border=\"1\" class=\"dataframe\">\n",
              "  <thead>\n",
              "    <tr style=\"text-align: right;\">\n",
              "      <th></th>\n",
              "      <th>JobTitle</th>\n",
              "      <th>JobDescription</th>\n",
              "      <th>Country</th>\n",
              "    </tr>\n",
              "  </thead>\n",
              "  <tbody>\n",
              "    <tr>\n",
              "      <th>0</th>\n",
              "      <td>Biogas Project Development Manager</td>\n",
              "      <td>We are the drivers of the future who offer a g...</td>\n",
              "      <td>Poland</td>\n",
              "    </tr>\n",
              "    <tr>\n",
              "      <th>1</th>\n",
              "      <td>Senior Software Engineer (PHP, Elixir, Python)</td>\n",
              "      <td>Dottori.it &amp;egrave; il motore di ricerca che t...</td>\n",
              "      <td>Italy</td>\n",
              "    </tr>\n",
              "    <tr>\n",
              "      <th>2</th>\n",
              "      <td>Senior SQA Engineer</td>\n",
              "      <td>Codup is looking for a Senior SQA Engineer for...</td>\n",
              "      <td>Pakistan</td>\n",
              "    </tr>\n",
              "    <tr>\n",
              "      <th>3</th>\n",
              "      <td>Research Manager</td>\n",
              "      <td>&lt;strong&gt;Department:&lt;/strong&gt; Research &amp;amp; Op...</td>\n",
              "      <td>India</td>\n",
              "    </tr>\n",
              "    <tr>\n",
              "      <th>4</th>\n",
              "      <td>B2B Product Manager</td>\n",
              "      <td>&lt;b&gt;&amp;#1514;&amp;#1497;&amp;#1488;&amp;#1493;&amp;#1512; &amp;#1492;...</td>\n",
              "      <td>Israel</td>\n",
              "    </tr>\n",
              "  </tbody>\n",
              "</table>\n",
              "</div>"
            ],
            "text/plain": [
              "                                         JobTitle  ...   Country\n",
              "0              Biogas Project Development Manager  ...    Poland\n",
              "1  Senior Software Engineer (PHP, Elixir, Python)  ...     Italy\n",
              "2                             Senior SQA Engineer  ...  Pakistan\n",
              "3                                Research Manager  ...     India\n",
              "4                             B2B Product Manager  ...    Israel\n",
              "\n",
              "[5 rows x 3 columns]"
            ]
          },
          "metadata": {
            "tags": []
          },
          "execution_count": 44
        }
      ]
    },
    {
      "cell_type": "markdown",
      "metadata": {
        "id": "IdN-OKrK_3zr"
      },
      "source": [
        "Remove some countries that didn't match official nomenclature"
      ]
    },
    {
      "cell_type": "code",
      "metadata": {
        "colab": {
          "base_uri": "https://localhost:8080/",
          "height": 204
        },
        "id": "R9epzeAm_GM1",
        "outputId": "88fed3bf-2356-42b7-f26d-f6350a0044f4"
      },
      "source": [
        "glassdoor = pd.merge(glassdoor, country_codes, left_on='Country', right_on='Name', how='left')\n",
        "glassdoor.head()"
      ],
      "execution_count": 45,
      "outputs": [
        {
          "output_type": "execute_result",
          "data": {
            "text/html": [
              "<div>\n",
              "<style scoped>\n",
              "    .dataframe tbody tr th:only-of-type {\n",
              "        vertical-align: middle;\n",
              "    }\n",
              "\n",
              "    .dataframe tbody tr th {\n",
              "        vertical-align: top;\n",
              "    }\n",
              "\n",
              "    .dataframe thead th {\n",
              "        text-align: right;\n",
              "    }\n",
              "</style>\n",
              "<table border=\"1\" class=\"dataframe\">\n",
              "  <thead>\n",
              "    <tr style=\"text-align: right;\">\n",
              "      <th></th>\n",
              "      <th>JobTitle</th>\n",
              "      <th>JobDescription</th>\n",
              "      <th>Country</th>\n",
              "      <th>Name</th>\n",
              "      <th>Code</th>\n",
              "    </tr>\n",
              "  </thead>\n",
              "  <tbody>\n",
              "    <tr>\n",
              "      <th>0</th>\n",
              "      <td>Biogas Project Development Manager</td>\n",
              "      <td>We are the drivers of the future who offer a g...</td>\n",
              "      <td>Poland</td>\n",
              "      <td>Poland</td>\n",
              "      <td>PL</td>\n",
              "    </tr>\n",
              "    <tr>\n",
              "      <th>1</th>\n",
              "      <td>Senior Software Engineer (PHP, Elixir, Python)</td>\n",
              "      <td>Dottori.it &amp;egrave; il motore di ricerca che t...</td>\n",
              "      <td>Italy</td>\n",
              "      <td>Italy</td>\n",
              "      <td>IT</td>\n",
              "    </tr>\n",
              "    <tr>\n",
              "      <th>2</th>\n",
              "      <td>Senior SQA Engineer</td>\n",
              "      <td>Codup is looking for a Senior SQA Engineer for...</td>\n",
              "      <td>Pakistan</td>\n",
              "      <td>Pakistan</td>\n",
              "      <td>PK</td>\n",
              "    </tr>\n",
              "    <tr>\n",
              "      <th>3</th>\n",
              "      <td>Research Manager</td>\n",
              "      <td>&lt;strong&gt;Department:&lt;/strong&gt; Research &amp;amp; Op...</td>\n",
              "      <td>India</td>\n",
              "      <td>India</td>\n",
              "      <td>IN</td>\n",
              "    </tr>\n",
              "    <tr>\n",
              "      <th>4</th>\n",
              "      <td>B2B Product Manager</td>\n",
              "      <td>&lt;b&gt;&amp;#1514;&amp;#1497;&amp;#1488;&amp;#1493;&amp;#1512; &amp;#1492;...</td>\n",
              "      <td>Israel</td>\n",
              "      <td>Israel</td>\n",
              "      <td>IL</td>\n",
              "    </tr>\n",
              "  </tbody>\n",
              "</table>\n",
              "</div>"
            ],
            "text/plain": [
              "                                         JobTitle  ... Code\n",
              "0              Biogas Project Development Manager  ...   PL\n",
              "1  Senior Software Engineer (PHP, Elixir, Python)  ...   IT\n",
              "2                             Senior SQA Engineer  ...   PK\n",
              "3                                Research Manager  ...   IN\n",
              "4                             B2B Product Manager  ...   IL\n",
              "\n",
              "[5 rows x 5 columns]"
            ]
          },
          "metadata": {
            "tags": []
          },
          "execution_count": 45
        }
      ]
    },
    {
      "cell_type": "code",
      "metadata": {
        "id": "4D6nrpqo_rU-"
      },
      "source": [
        "glassdoor.dropna(subset=['Name'], inplace=True)\n",
        "glassdoor = glassdoor.drop(['Name', 'Code'], axis=1)"
      ],
      "execution_count": 46,
      "outputs": []
    },
    {
      "cell_type": "markdown",
      "metadata": {
        "id": "svrS-_0L_14Z"
      },
      "source": [
        "#### Processing `JobTitle`\n"
      ]
    },
    {
      "cell_type": "markdown",
      "metadata": {
        "id": "wcdUgr34ApwL"
      },
      "source": [
        "Job titles we're interested in:"
      ]
    },
    {
      "cell_type": "code",
      "metadata": {
        "id": "Ib96m3uAADXf"
      },
      "source": [
        "JOB_TITLES = [\n",
        "    'data scientist', \n",
        "    'software engineer', \n",
        "    'data analyst', \n",
        "    'research scientist', \n",
        "    'business analyst',\n",
        "    'data engineer', \n",
        "    'statistician', \n",
        "    'dba', \n",
        "    'database engineer', \n",
        "    'machine learning engineer'\n",
        "]"
      ],
      "execution_count": 47,
      "outputs": []
    },
    {
      "cell_type": "code",
      "metadata": {
        "colab": {
          "base_uri": "https://localhost:8080/",
          "height": 204
        },
        "id": "7Z28h09IAIiI",
        "outputId": "54251825-861d-4c3b-e466-582607856231"
      },
      "source": [
        "import re\n",
        "import numpy as np\n",
        "\n",
        "job_masks = [glassdoor.JobTitle.str.contains(job_title, flags=re.IGNORECASE, regex=True) for job_title in JOB_TITLES]\n",
        "\n",
        "combined_mask = np.vstack(job_masks).any(axis=0)\n",
        "glassdoor = glassdoor[combined_mask].reset_index(drop=True)\n",
        "glassdoor.head()"
      ],
      "execution_count": 48,
      "outputs": [
        {
          "output_type": "execute_result",
          "data": {
            "text/html": [
              "<div>\n",
              "<style scoped>\n",
              "    .dataframe tbody tr th:only-of-type {\n",
              "        vertical-align: middle;\n",
              "    }\n",
              "\n",
              "    .dataframe tbody tr th {\n",
              "        vertical-align: top;\n",
              "    }\n",
              "\n",
              "    .dataframe thead th {\n",
              "        text-align: right;\n",
              "    }\n",
              "</style>\n",
              "<table border=\"1\" class=\"dataframe\">\n",
              "  <thead>\n",
              "    <tr style=\"text-align: right;\">\n",
              "      <th></th>\n",
              "      <th>JobTitle</th>\n",
              "      <th>JobDescription</th>\n",
              "      <th>Country</th>\n",
              "    </tr>\n",
              "  </thead>\n",
              "  <tbody>\n",
              "    <tr>\n",
              "      <th>0</th>\n",
              "      <td>Senior Software Engineer (PHP, Elixir, Python)</td>\n",
              "      <td>Dottori.it &amp;egrave; il motore di ricerca che t...</td>\n",
              "      <td>Italy</td>\n",
              "    </tr>\n",
              "    <tr>\n",
              "      <th>1</th>\n",
              "      <td>Big Data Analyst</td>\n",
              "      <td>Amaris est une soci&amp;eacute;t&amp;eacute; ind&amp;eacut...</td>\n",
              "      <td>Belgium</td>\n",
              "    </tr>\n",
              "    <tr>\n",
              "      <th>2</th>\n",
              "      <td>Business Analyst IFRS 17 Implementation Paris F/H</td>\n",
              "      <td>&lt;div&gt;Business Analyst Paris F/H&lt;/div&gt;\\n&lt;br/&gt;\\n...</td>\n",
              "      <td>France</td>\n",
              "    </tr>\n",
              "    <tr>\n",
              "      <th>3</th>\n",
              "      <td>Data Scientist media</td>\n",
              "      <td>&lt;ul&gt;\\n&lt;li&gt;*Data Scientist media**&lt;/li&gt;\\n&lt;li&gt;*L...</td>\n",
              "      <td>United Kingdom</td>\n",
              "    </tr>\n",
              "    <tr>\n",
              "      <th>4</th>\n",
              "      <td>Data Scientist</td>\n",
              "      <td>&lt;strong&gt;Job Title:&lt;/strong&gt; Data Scientist\\n&lt;b...</td>\n",
              "      <td>Spain</td>\n",
              "    </tr>\n",
              "  </tbody>\n",
              "</table>\n",
              "</div>"
            ],
            "text/plain": [
              "                                            JobTitle  ...         Country\n",
              "0     Senior Software Engineer (PHP, Elixir, Python)  ...           Italy\n",
              "1                                   Big Data Analyst  ...         Belgium\n",
              "2  Business Analyst IFRS 17 Implementation Paris F/H  ...          France\n",
              "3                               Data Scientist media  ...  United Kingdom\n",
              "4                                     Data Scientist  ...           Spain\n",
              "\n",
              "[5 rows x 3 columns]"
            ]
          },
          "metadata": {
            "tags": []
          },
          "execution_count": 48
        }
      ]
    },
    {
      "cell_type": "code",
      "metadata": {
        "colab": {
          "base_uri": "https://localhost:8080/",
          "height": 204
        },
        "id": "DHK6EWFQA8oJ",
        "outputId": "3c6659b8-91f4-4fca-e937-94c92b97a454"
      },
      "source": [
        "job_titles_regex = '|'.join(JOB_TITLES)\n",
        "glassdoor.JobTitle = glassdoor.JobTitle.str.findall(job_titles_regex, flags=re.IGNORECASE)\n",
        "glassdoor.JobTitle = glassdoor.JobTitle.str[0]\n",
        "glassdoor.JobTitle = glassdoor.JobTitle.str.title()\n",
        "glassdoor.head()"
      ],
      "execution_count": 49,
      "outputs": [
        {
          "output_type": "execute_result",
          "data": {
            "text/html": [
              "<div>\n",
              "<style scoped>\n",
              "    .dataframe tbody tr th:only-of-type {\n",
              "        vertical-align: middle;\n",
              "    }\n",
              "\n",
              "    .dataframe tbody tr th {\n",
              "        vertical-align: top;\n",
              "    }\n",
              "\n",
              "    .dataframe thead th {\n",
              "        text-align: right;\n",
              "    }\n",
              "</style>\n",
              "<table border=\"1\" class=\"dataframe\">\n",
              "  <thead>\n",
              "    <tr style=\"text-align: right;\">\n",
              "      <th></th>\n",
              "      <th>JobTitle</th>\n",
              "      <th>JobDescription</th>\n",
              "      <th>Country</th>\n",
              "    </tr>\n",
              "  </thead>\n",
              "  <tbody>\n",
              "    <tr>\n",
              "      <th>0</th>\n",
              "      <td>Software Engineer</td>\n",
              "      <td>Dottori.it &amp;egrave; il motore di ricerca che t...</td>\n",
              "      <td>Italy</td>\n",
              "    </tr>\n",
              "    <tr>\n",
              "      <th>1</th>\n",
              "      <td>Data Analyst</td>\n",
              "      <td>Amaris est une soci&amp;eacute;t&amp;eacute; ind&amp;eacut...</td>\n",
              "      <td>Belgium</td>\n",
              "    </tr>\n",
              "    <tr>\n",
              "      <th>2</th>\n",
              "      <td>Business Analyst</td>\n",
              "      <td>&lt;div&gt;Business Analyst Paris F/H&lt;/div&gt;\\n&lt;br/&gt;\\n...</td>\n",
              "      <td>France</td>\n",
              "    </tr>\n",
              "    <tr>\n",
              "      <th>3</th>\n",
              "      <td>Data Scientist</td>\n",
              "      <td>&lt;ul&gt;\\n&lt;li&gt;*Data Scientist media**&lt;/li&gt;\\n&lt;li&gt;*L...</td>\n",
              "      <td>United Kingdom</td>\n",
              "    </tr>\n",
              "    <tr>\n",
              "      <th>4</th>\n",
              "      <td>Data Scientist</td>\n",
              "      <td>&lt;strong&gt;Job Title:&lt;/strong&gt; Data Scientist\\n&lt;b...</td>\n",
              "      <td>Spain</td>\n",
              "    </tr>\n",
              "  </tbody>\n",
              "</table>\n",
              "</div>"
            ],
            "text/plain": [
              "            JobTitle  ...         Country\n",
              "0  Software Engineer  ...           Italy\n",
              "1       Data Analyst  ...         Belgium\n",
              "2   Business Analyst  ...          France\n",
              "3     Data Scientist  ...  United Kingdom\n",
              "4     Data Scientist  ...           Spain\n",
              "\n",
              "[5 rows x 3 columns]"
            ]
          },
          "metadata": {
            "tags": []
          },
          "execution_count": 49
        }
      ]
    },
    {
      "cell_type": "markdown",
      "metadata": {
        "id": "Rplu-jmPB4Ll"
      },
      "source": [
        "Rename some job titles:"
      ]
    },
    {
      "cell_type": "code",
      "metadata": {
        "colab": {
          "base_uri": "https://localhost:8080/"
        },
        "id": "TJuVZcqgBuvQ",
        "outputId": "d209cdac-8d70-434c-9901-7f2ca43b5a7d"
      },
      "source": [
        "glassdoor.JobTitle = glassdoor.JobTitle.replace('Dba', 'Data Engineer/DBA')\n",
        "glassdoor.JobTitle = glassdoor.JobTitle.replace('Database Engineer', 'Data Engineer/DBA')\n",
        "glassdoor.JobTitle = glassdoor.JobTitle.replace('Data Engineer', 'Data Engineer/DBA')\n",
        "\n",
        "# group Statistician + Research Scientist\n",
        "glassdoor.JobTitle = glassdoor.JobTitle.replace('Statistician', 'Statistician/Research Scientist')\n",
        "glassdoor.JobTitle = glassdoor.JobTitle.replace('Research Scientist', 'Statistician/Research Scientist')\n",
        "\n",
        "glassdoor.JobTitle.value_counts()"
      ],
      "execution_count": 50,
      "outputs": [
        {
          "output_type": "execute_result",
          "data": {
            "text/plain": [
              "Software Engineer                  10825\n",
              "Business Analyst                    6719\n",
              "Data Scientist                      4561\n",
              "Data Engineer/DBA                   4178\n",
              "Data Analyst                        4171\n",
              "Statistician/Research Scientist      710\n",
              "Machine Learning Engineer            499\n",
              "Name: JobTitle, dtype: int64"
            ]
          },
          "metadata": {
            "tags": []
          },
          "execution_count": 50
        }
      ]
    },
    {
      "cell_type": "markdown",
      "metadata": {
        "id": "5vOYYX7qB9Su"
      },
      "source": [
        "Then we tranform `JobTitle` column into category:"
      ]
    },
    {
      "cell_type": "code",
      "metadata": {
        "id": "0R4ZwkQdCHQ-"
      },
      "source": [
        "job_titles = ['Business Analyst', 'Data Analyst', 'Data Scientist', \n",
        "              'Data Engineer/DBA', 'Software Engineer', 'Statistician/Research Scientist']\n",
        "cat_dtype = pd.api.types.CategoricalDtype(categories=job_titles, ordered=True)\n",
        "glassdoor.JobTitle = glassdoor.JobTitle.astype(cat_dtype)"
      ],
      "execution_count": 51,
      "outputs": []
    },
    {
      "cell_type": "code",
      "metadata": {
        "id": "-1h8IyS3CZ2T"
      },
      "source": [
        "# Add column to make groupby easier\n",
        "glassdoor['Count'] = 1"
      ],
      "execution_count": 52,
      "outputs": []
    },
    {
      "cell_type": "code",
      "metadata": {
        "colab": {
          "base_uri": "https://localhost:8080/",
          "height": 204
        },
        "id": "Jt_7l5a4CQZK",
        "outputId": "30a40a5e-0133-497c-e87d-d848677fae9a"
      },
      "source": [
        "glassdoor.head()"
      ],
      "execution_count": 53,
      "outputs": [
        {
          "output_type": "execute_result",
          "data": {
            "text/html": [
              "<div>\n",
              "<style scoped>\n",
              "    .dataframe tbody tr th:only-of-type {\n",
              "        vertical-align: middle;\n",
              "    }\n",
              "\n",
              "    .dataframe tbody tr th {\n",
              "        vertical-align: top;\n",
              "    }\n",
              "\n",
              "    .dataframe thead th {\n",
              "        text-align: right;\n",
              "    }\n",
              "</style>\n",
              "<table border=\"1\" class=\"dataframe\">\n",
              "  <thead>\n",
              "    <tr style=\"text-align: right;\">\n",
              "      <th></th>\n",
              "      <th>JobTitle</th>\n",
              "      <th>JobDescription</th>\n",
              "      <th>Country</th>\n",
              "      <th>Count</th>\n",
              "    </tr>\n",
              "  </thead>\n",
              "  <tbody>\n",
              "    <tr>\n",
              "      <th>0</th>\n",
              "      <td>Software Engineer</td>\n",
              "      <td>Dottori.it &amp;egrave; il motore di ricerca che t...</td>\n",
              "      <td>Italy</td>\n",
              "      <td>1</td>\n",
              "    </tr>\n",
              "    <tr>\n",
              "      <th>1</th>\n",
              "      <td>Data Analyst</td>\n",
              "      <td>Amaris est une soci&amp;eacute;t&amp;eacute; ind&amp;eacut...</td>\n",
              "      <td>Belgium</td>\n",
              "      <td>1</td>\n",
              "    </tr>\n",
              "    <tr>\n",
              "      <th>2</th>\n",
              "      <td>Business Analyst</td>\n",
              "      <td>&lt;div&gt;Business Analyst Paris F/H&lt;/div&gt;\\n&lt;br/&gt;\\n...</td>\n",
              "      <td>France</td>\n",
              "      <td>1</td>\n",
              "    </tr>\n",
              "    <tr>\n",
              "      <th>3</th>\n",
              "      <td>Data Scientist</td>\n",
              "      <td>&lt;ul&gt;\\n&lt;li&gt;*Data Scientist media**&lt;/li&gt;\\n&lt;li&gt;*L...</td>\n",
              "      <td>United Kingdom</td>\n",
              "      <td>1</td>\n",
              "    </tr>\n",
              "    <tr>\n",
              "      <th>4</th>\n",
              "      <td>Data Scientist</td>\n",
              "      <td>&lt;strong&gt;Job Title:&lt;/strong&gt; Data Scientist\\n&lt;b...</td>\n",
              "      <td>Spain</td>\n",
              "      <td>1</td>\n",
              "    </tr>\n",
              "  </tbody>\n",
              "</table>\n",
              "</div>"
            ],
            "text/plain": [
              "            JobTitle  ... Count\n",
              "0  Software Engineer  ...     1\n",
              "1       Data Analyst  ...     1\n",
              "2   Business Analyst  ...     1\n",
              "3     Data Scientist  ...     1\n",
              "4     Data Scientist  ...     1\n",
              "\n",
              "[5 rows x 4 columns]"
            ]
          },
          "metadata": {
            "tags": []
          },
          "execution_count": 53
        }
      ]
    },
    {
      "cell_type": "markdown",
      "metadata": {
        "id": "jk6-JfM7CfdD"
      },
      "source": [
        "#### Processing `JobDescription`"
      ]
    },
    {
      "cell_type": "markdown",
      "metadata": {
        "id": "WF1JrHEmCl12"
      },
      "source": [
        "Make `JobDescription` lower case:"
      ]
    },
    {
      "cell_type": "code",
      "metadata": {
        "id": "16jmIQ67Jatv"
      },
      "source": [
        "glassdoor.JobDescription = glassdoor.JobDescription.str.lower()"
      ],
      "execution_count": 54,
      "outputs": []
    },
    {
      "cell_type": "markdown",
      "metadata": {
        "id": "VP4vPZ9hJgwf"
      },
      "source": [
        "Find metions to cloud platforms and databases in `JobDescription`:"
      ]
    },
    {
      "cell_type": "code",
      "metadata": {
        "id": "J6HYRt6XJ9u3"
      },
      "source": [
        "cloud_platforms = {\n",
        "    'Alibaba': ' Alibaba Cloud ', \n",
        "    'Amazon Web Services': ' Amazon Web Services (AWS) ',\n",
        "    'AWS': ' Amazon Web Services (AWS) ',\n",
        "    'Google Cloud Platform': ' Google Cloud Platform (GCP) ', \n",
        "    'GCP': ' Google Cloud Platform (GCP) ',\n",
        "    'Google Cloud': ' Google Cloud Platform (GCP) ',\n",
        "    'IBM': ' IBM Cloud ', \n",
        "    'Azure': ' Microsoft Azure ', \n",
        "    'Oracle': ' Oracle Cloud ',\n",
        "    'Red Hat': ' Red Hat Cloud ',\n",
        "    'SAP': ' SAP Cloud ', \n",
        "    'Salesforce': ' Salesforce Cloud ', \n",
        "    'VMware': ' VMware Cloud '\n",
        "}\n",
        "\n",
        "# Replacing terms into Job Description\n",
        "for find, repl in cloud_platforms.items():\n",
        "    glassdoor.JobDescription = glassdoor.JobDescription.str.replace(find.lower(), repl.lower())"
      ],
      "execution_count": 55,
      "outputs": []
    },
    {
      "cell_type": "code",
      "metadata": {
        "id": "DEhh8fPZKAbu"
      },
      "source": [
        "databases ={\n",
        "    'dynamodb': ' aws dynamodb ',\n",
        "    'dynamo': ' aws dynamodb ',\n",
        "    ' rds ': ' aws relational database service ',\n",
        "    'relational database service': ' aws relational database service ',\n",
        "    'azure sql': ' azure sql database ',\n",
        "    'google cloud sql': ' google cloud sql ',\n",
        "    'microsoft access': ' microsoft access ', \n",
        "    'sql server': ' microsoft sql server ', \n",
        "    'my sql': ' mysql ', \n",
        "    'oracle db': ' oracle database ', \n",
        "    'postgres': ' postgressql ',\n",
        "    'postgre': ' postgressql ',\n",
        "    'postgre sql': ' postgressql ',\n",
        "    'sqlite': 'sqlite '\n",
        "}\n",
        "\n",
        "for find, repl in databases.items():\n",
        "    glassdoor.JobDescription = glassdoor.JobDescription.str.replace(find.lower(), repl.lower())"
      ],
      "execution_count": 56,
      "outputs": []
    },
    {
      "cell_type": "code",
      "metadata": {
        "id": "xynmoXRjcZBZ"
      },
      "source": [
        "glassdoor.to_csv(\"data/glassdoor_preprocessed.csv\")"
      ],
      "execution_count": 57,
      "outputs": []
    },
    {
      "cell_type": "markdown",
      "metadata": {
        "id": "pGC7MoWjKDI7"
      },
      "source": [
        "## Data visualization"
      ]
    },
    {
      "cell_type": "markdown",
      "metadata": {
        "id": "Dtjn5iQtqVsb"
      },
      "source": [
        "### Proportion for each job title"
      ]
    },
    {
      "cell_type": "code",
      "metadata": {
        "colab": {
          "base_uri": "https://localhost:8080/",
          "height": 204
        },
        "id": "T01LBn2RLn_c",
        "outputId": "9a932cc0-a22b-45b9-cdfe-d653cd26b665"
      },
      "source": [
        "glassdoor.head()"
      ],
      "execution_count": 58,
      "outputs": [
        {
          "output_type": "execute_result",
          "data": {
            "text/html": [
              "<div>\n",
              "<style scoped>\n",
              "    .dataframe tbody tr th:only-of-type {\n",
              "        vertical-align: middle;\n",
              "    }\n",
              "\n",
              "    .dataframe tbody tr th {\n",
              "        vertical-align: top;\n",
              "    }\n",
              "\n",
              "    .dataframe thead th {\n",
              "        text-align: right;\n",
              "    }\n",
              "</style>\n",
              "<table border=\"1\" class=\"dataframe\">\n",
              "  <thead>\n",
              "    <tr style=\"text-align: right;\">\n",
              "      <th></th>\n",
              "      <th>JobTitle</th>\n",
              "      <th>JobDescription</th>\n",
              "      <th>Country</th>\n",
              "      <th>Count</th>\n",
              "    </tr>\n",
              "  </thead>\n",
              "  <tbody>\n",
              "    <tr>\n",
              "      <th>0</th>\n",
              "      <td>Software Engineer</td>\n",
              "      <td>dottori.it &amp;egrave; il motore di ricerca che t...</td>\n",
              "      <td>Italy</td>\n",
              "      <td>1</td>\n",
              "    </tr>\n",
              "    <tr>\n",
              "      <th>1</th>\n",
              "      <td>Data Analyst</td>\n",
              "      <td>amaris est une soci&amp;eacute;t&amp;eacute; ind&amp;eacut...</td>\n",
              "      <td>Belgium</td>\n",
              "      <td>1</td>\n",
              "    </tr>\n",
              "    <tr>\n",
              "      <th>2</th>\n",
              "      <td>Business Analyst</td>\n",
              "      <td>&lt;div&gt;business analyst paris f/h&lt;/div&gt;\\n&lt;br/&gt;\\n...</td>\n",
              "      <td>France</td>\n",
              "      <td>1</td>\n",
              "    </tr>\n",
              "    <tr>\n",
              "      <th>3</th>\n",
              "      <td>Data Scientist</td>\n",
              "      <td>&lt;ul&gt;\\n&lt;li&gt;*data scientist media**&lt;/li&gt;\\n&lt;li&gt;*l...</td>\n",
              "      <td>United Kingdom</td>\n",
              "      <td>1</td>\n",
              "    </tr>\n",
              "    <tr>\n",
              "      <th>4</th>\n",
              "      <td>Data Scientist</td>\n",
              "      <td>&lt;strong&gt;job title:&lt;/strong&gt; data scientist\\n&lt;b...</td>\n",
              "      <td>Spain</td>\n",
              "      <td>1</td>\n",
              "    </tr>\n",
              "  </tbody>\n",
              "</table>\n",
              "</div>"
            ],
            "text/plain": [
              "            JobTitle  ... Count\n",
              "0  Software Engineer  ...     1\n",
              "1       Data Analyst  ...     1\n",
              "2   Business Analyst  ...     1\n",
              "3     Data Scientist  ...     1\n",
              "4     Data Scientist  ...     1\n",
              "\n",
              "[5 rows x 4 columns]"
            ]
          },
          "metadata": {
            "tags": []
          },
          "execution_count": 58
        }
      ]
    },
    {
      "cell_type": "code",
      "metadata": {
        "colab": {
          "base_uri": "https://localhost:8080/"
        },
        "id": "juiQVfJLajD2",
        "outputId": "02400e1a-399c-4a7d-c784-82d13b5129f1"
      },
      "source": [
        "glassdoor_de = glassdoor[glassdoor.Country == \"Germany\"].groupby([\"JobTitle\"], as_index=False).Count.sum().Count.tolist()\n",
        "glassdoor_de = (np.array(glassdoor_de) / sum(glassdoor_de) * 100).tolist()\n",
        "glassdoor_de"
      ],
      "execution_count": 59,
      "outputs": [
        {
          "output_type": "execute_result",
          "data": {
            "text/plain": [
              "[13.360739979445016,\n",
              " 14.953751284686536,\n",
              " 26.258992805755394,\n",
              " 21.634121274409043,\n",
              " 21.017471736896198,\n",
              " 2.774922918807811]"
            ]
          },
          "metadata": {
            "tags": []
          },
          "execution_count": 59
        }
      ]
    },
    {
      "cell_type": "code",
      "metadata": {
        "colab": {
          "base_uri": "https://localhost:8080/"
        },
        "id": "vhqPB3ZqeQgw",
        "outputId": "bd0a7241-5643-492c-b26c-6e450d0cf347"
      },
      "source": [
        "glassdoor_fr = glassdoor[glassdoor.Country == \"France\"].groupby([\"JobTitle\"], as_index=False).Count.sum().Count.tolist()\n",
        "glassdoor_fr = (np.array(glassdoor_fr) / sum(glassdoor_fr) * 100).tolist()\n",
        "glassdoor_fr"
      ],
      "execution_count": 60,
      "outputs": [
        {
          "output_type": "execute_result",
          "data": {
            "text/plain": [
              "[24.251012145748987,\n",
              " 19.51417004048583,\n",
              " 22.914979757085018,\n",
              " 22.30769230769231,\n",
              " 9.635627530364372,\n",
              " 1.376518218623482]"
            ]
          },
          "metadata": {
            "tags": []
          },
          "execution_count": 60
        }
      ]
    },
    {
      "cell_type": "code",
      "metadata": {
        "id": "U6Yzx4GMuw6g"
      },
      "source": [
        "df_de = pd.DataFrame(dict(r=glassdoor_de, theta=job_titles))\n",
        "df_fr = pd.DataFrame(dict(r=glassdoor_fr, theta=job_titles))"
      ],
      "execution_count": 61,
      "outputs": []
    },
    {
      "cell_type": "code",
      "metadata": {
        "id": "LtVrQ6dOiV5z"
      },
      "source": [
        "import plotly.graph_objects as go\n",
        "\n",
        "class PolarPlot():\n",
        "\n",
        "    def __init__(self):\n",
        "        self.figure = go.Figure() # instatiates plotly figure\n",
        "        self.range = (0, 0) # define the initial range of polar plots\n",
        "        self.theta = ['Business Analyst', 'Data Analyst', 'Data Scientist', 'Data Engineer/DBA',\n",
        "                      'Software Engineer', 'Statistician/Research Scientist', 'Business Analyst'] # Those are the Theta values for our plot\n",
        "    \n",
        "    def update_common_layout(self):\n",
        "        \"\"\"\n",
        "        Updates general layout characteristics\n",
        "        \"\"\"\n",
        "        self.figure.update_layout(\n",
        "            showlegend = True,\n",
        "            legend_itemclick = 'toggleothers', \n",
        "            legend_itemdoubleclick = 'toggle', \n",
        "            width = 800,  \n",
        "            height = 500 \n",
        "        )\n",
        "        \n",
        "    def update_commom_polar_layout(self):\n",
        "        \"\"\"\n",
        "        Updates polar layout characteristics\n",
        "        \"\"\"\n",
        "        self.figure.update_layout(\n",
        "            # polar_bgcolor='white', # White background is always better\n",
        "            # polar_radialaxis_visible=True, # we want to show the axis\n",
        "            # polar_radialaxis_showticklabels=True, # we want to show the axis titles\n",
        "            # polar_radialaxis_tickfont_color='darkgrey', # grey to the axis label (Software Engineer, Data Scientist, etc)\n",
        "            # polar_angularaxis_color='grey', # Always grey for all elements that are not important\n",
        "            # polar_angularaxis_showline=False, # hide lines that are not necessary\n",
        "            # polar_radialaxis_showline=False, # hide lines that are not necessary\n",
        "            # polar_radialaxis_layer='below traces', # show the axis bellow all traces\n",
        "            # polar_radialaxis_gridcolor='#F2F2F2', # grey to not draw attention\n",
        "            polar_radialaxis_range=self.range # gets the range attribute, that is calculated in another method\n",
        "        )\n",
        "        \n",
        "    def add_data(self, data, country, hover_template='%{r:0.0f}%'):\n",
        "        \"\"\"\n",
        "        Adds a trace to the figure following the same standard for each trace\n",
        "        \"\"\"\n",
        "        data.append(data[0]) # add the first element to the end of the list, this will \"close\" the polar chart \n",
        "        self.figure.add_trace(\n",
        "            go.Scatterpolar(\n",
        "                r=data, \n",
        "                theta=self.theta, \n",
        "                mode='lines', \n",
        "                name=country, \n",
        "                hoverinfo='name+r', \n",
        "                hovertemplate=hover_template, \n",
        "                showlegend=True, \n",
        "                line_shape='spline', \n",
        "                line_smoothing=0.8, \n",
        "                # line_width=1.6 \n",
        "            )\n",
        "        )\n",
        "        self.update_range(data) # Calls the method that will update the max range\n",
        "    \n",
        "    def update_range(self, data):\n",
        "        \"\"\"\n",
        "        Updates the range to be 110% of maximum value of all traces\n",
        "        \"\"\"\n",
        "        max_range = max(data) * 1.1\n",
        "        self.range = (0, max_range) if max_range > self.range[1] else self.range # updates the range attribute\n",
        "        \n",
        "    def show(self):\n",
        "        \"\"\"\n",
        "        Update layouts and shows the figure\n",
        "        \"\"\"\n",
        "        self.update_common_layout() \n",
        "        self.update_commom_polar_layout()\n",
        "        self.figure.show()"
      ],
      "execution_count": 62,
      "outputs": []
    },
    {
      "cell_type": "code",
      "metadata": {
        "colab": {
          "base_uri": "https://localhost:8080/",
          "height": 517
        },
        "id": "3XMrcPOQiwCg",
        "outputId": "137f7b78-061c-4316-f4d8-c82e4e1225e1"
      },
      "source": [
        "pp = PolarPlot()\n",
        "\n",
        "# example plot\n",
        "pp.add_data(glassdoor_de, \"Germany\")\n",
        "pp.add_data(glassdoor_fr, \"France\")\n",
        "pp.show()"
      ],
      "execution_count": 63,
      "outputs": [
        {
          "output_type": "display_data",
          "data": {
            "text/html": [
              "<html>\n",
              "<head><meta charset=\"utf-8\" /></head>\n",
              "<body>\n",
              "    <div>\n",
              "            <script src=\"https://cdnjs.cloudflare.com/ajax/libs/mathjax/2.7.5/MathJax.js?config=TeX-AMS-MML_SVG\"></script><script type=\"text/javascript\">if (window.MathJax) {MathJax.Hub.Config({SVG: {font: \"STIX-Web\"}});}</script>\n",
              "                <script type=\"text/javascript\">window.PlotlyConfig = {MathJaxConfig: 'local'};</script>\n",
              "        <script src=\"https://cdn.plot.ly/plotly-latest.min.js\"></script>    \n",
              "            <div id=\"08fe6b85-eee5-4977-91da-b13af428d41f\" class=\"plotly-graph-div\" style=\"height:500px; width:800px;\"></div>\n",
              "            <script type=\"text/javascript\">\n",
              "                \n",
              "                    window.PLOTLYENV=window.PLOTLYENV || {};\n",
              "                    \n",
              "                if (document.getElementById(\"08fe6b85-eee5-4977-91da-b13af428d41f\")) {\n",
              "                    Plotly.newPlot(\n",
              "                        '08fe6b85-eee5-4977-91da-b13af428d41f',\n",
              "                        [{\"hoverinfo\": \"name+r\", \"hovertemplate\": \"%{r:0.0f}%\", \"line\": {\"shape\": \"spline\", \"smoothing\": 0.8}, \"mode\": \"lines\", \"name\": \"Germany\", \"r\": [13.360739979445016, 14.953751284686536, 26.258992805755394, 21.634121274409043, 21.017471736896198, 2.774922918807811, 13.360739979445016], \"showlegend\": true, \"theta\": [\"Business Analyst\", \"Data Analyst\", \"Data Scientist\", \"Data Engineer/DBA\", \"Software Engineer\", \"Statistician/Research Scientist\", \"Business Analyst\"], \"type\": \"scatterpolar\"}, {\"hoverinfo\": \"name+r\", \"hovertemplate\": \"%{r:0.0f}%\", \"line\": {\"shape\": \"spline\", \"smoothing\": 0.8}, \"mode\": \"lines\", \"name\": \"France\", \"r\": [24.251012145748987, 19.51417004048583, 22.914979757085018, 22.30769230769231, 9.635627530364372, 1.376518218623482, 24.251012145748987], \"showlegend\": true, \"theta\": [\"Business Analyst\", \"Data Analyst\", \"Data Scientist\", \"Data Engineer/DBA\", \"Software Engineer\", \"Statistician/Research Scientist\", \"Business Analyst\"], \"type\": \"scatterpolar\"}],\n",
              "                        {\"height\": 500, \"legend\": {\"itemclick\": \"toggleothers\", \"itemdoubleclick\": \"toggle\"}, \"polar\": {\"radialaxis\": {\"range\": [0, 28.884892086330936]}}, \"showlegend\": true, \"template\": {\"data\": {\"bar\": [{\"error_x\": {\"color\": \"#2a3f5f\"}, \"error_y\": {\"color\": \"#2a3f5f\"}, \"marker\": {\"line\": {\"color\": \"#E5ECF6\", \"width\": 0.5}}, \"type\": \"bar\"}], \"barpolar\": [{\"marker\": {\"line\": {\"color\": \"#E5ECF6\", \"width\": 0.5}}, \"type\": \"barpolar\"}], \"carpet\": [{\"aaxis\": {\"endlinecolor\": \"#2a3f5f\", \"gridcolor\": \"white\", \"linecolor\": \"white\", \"minorgridcolor\": \"white\", \"startlinecolor\": \"#2a3f5f\"}, \"baxis\": {\"endlinecolor\": \"#2a3f5f\", \"gridcolor\": \"white\", \"linecolor\": \"white\", \"minorgridcolor\": \"white\", \"startlinecolor\": \"#2a3f5f\"}, \"type\": \"carpet\"}], \"choropleth\": [{\"colorbar\": {\"outlinewidth\": 0, \"ticks\": \"\"}, \"type\": \"choropleth\"}], \"contour\": [{\"colorbar\": {\"outlinewidth\": 0, \"ticks\": \"\"}, \"colorscale\": [[0.0, \"#0d0887\"], [0.1111111111111111, \"#46039f\"], [0.2222222222222222, \"#7201a8\"], [0.3333333333333333, \"#9c179e\"], [0.4444444444444444, \"#bd3786\"], [0.5555555555555556, \"#d8576b\"], [0.6666666666666666, \"#ed7953\"], [0.7777777777777778, \"#fb9f3a\"], [0.8888888888888888, \"#fdca26\"], [1.0, \"#f0f921\"]], \"type\": \"contour\"}], \"contourcarpet\": [{\"colorbar\": {\"outlinewidth\": 0, \"ticks\": \"\"}, \"type\": \"contourcarpet\"}], \"heatmap\": [{\"colorbar\": {\"outlinewidth\": 0, \"ticks\": \"\"}, \"colorscale\": [[0.0, \"#0d0887\"], [0.1111111111111111, \"#46039f\"], [0.2222222222222222, \"#7201a8\"], [0.3333333333333333, \"#9c179e\"], [0.4444444444444444, \"#bd3786\"], [0.5555555555555556, \"#d8576b\"], [0.6666666666666666, \"#ed7953\"], [0.7777777777777778, \"#fb9f3a\"], [0.8888888888888888, \"#fdca26\"], [1.0, \"#f0f921\"]], \"type\": \"heatmap\"}], \"heatmapgl\": [{\"colorbar\": {\"outlinewidth\": 0, \"ticks\": \"\"}, \"colorscale\": [[0.0, \"#0d0887\"], [0.1111111111111111, \"#46039f\"], [0.2222222222222222, \"#7201a8\"], [0.3333333333333333, \"#9c179e\"], [0.4444444444444444, \"#bd3786\"], [0.5555555555555556, \"#d8576b\"], [0.6666666666666666, \"#ed7953\"], [0.7777777777777778, \"#fb9f3a\"], [0.8888888888888888, \"#fdca26\"], [1.0, \"#f0f921\"]], \"type\": \"heatmapgl\"}], \"histogram\": [{\"marker\": {\"colorbar\": {\"outlinewidth\": 0, \"ticks\": \"\"}}, \"type\": \"histogram\"}], \"histogram2d\": [{\"colorbar\": {\"outlinewidth\": 0, \"ticks\": \"\"}, \"colorscale\": [[0.0, \"#0d0887\"], [0.1111111111111111, \"#46039f\"], [0.2222222222222222, \"#7201a8\"], [0.3333333333333333, \"#9c179e\"], [0.4444444444444444, \"#bd3786\"], [0.5555555555555556, \"#d8576b\"], [0.6666666666666666, \"#ed7953\"], [0.7777777777777778, \"#fb9f3a\"], [0.8888888888888888, \"#fdca26\"], [1.0, \"#f0f921\"]], \"type\": \"histogram2d\"}], \"histogram2dcontour\": [{\"colorbar\": {\"outlinewidth\": 0, \"ticks\": \"\"}, \"colorscale\": [[0.0, \"#0d0887\"], [0.1111111111111111, \"#46039f\"], [0.2222222222222222, \"#7201a8\"], [0.3333333333333333, \"#9c179e\"], [0.4444444444444444, \"#bd3786\"], [0.5555555555555556, \"#d8576b\"], [0.6666666666666666, \"#ed7953\"], [0.7777777777777778, \"#fb9f3a\"], [0.8888888888888888, \"#fdca26\"], [1.0, \"#f0f921\"]], \"type\": \"histogram2dcontour\"}], \"mesh3d\": [{\"colorbar\": {\"outlinewidth\": 0, \"ticks\": \"\"}, \"type\": \"mesh3d\"}], \"parcoords\": [{\"line\": {\"colorbar\": {\"outlinewidth\": 0, \"ticks\": \"\"}}, \"type\": \"parcoords\"}], \"pie\": [{\"automargin\": true, \"type\": \"pie\"}], \"scatter\": [{\"marker\": {\"colorbar\": {\"outlinewidth\": 0, \"ticks\": \"\"}}, \"type\": \"scatter\"}], \"scatter3d\": [{\"line\": {\"colorbar\": {\"outlinewidth\": 0, \"ticks\": \"\"}}, \"marker\": {\"colorbar\": {\"outlinewidth\": 0, \"ticks\": \"\"}}, \"type\": \"scatter3d\"}], \"scattercarpet\": [{\"marker\": {\"colorbar\": {\"outlinewidth\": 0, \"ticks\": \"\"}}, \"type\": \"scattercarpet\"}], \"scattergeo\": [{\"marker\": {\"colorbar\": {\"outlinewidth\": 0, \"ticks\": \"\"}}, \"type\": \"scattergeo\"}], \"scattergl\": [{\"marker\": {\"colorbar\": {\"outlinewidth\": 0, \"ticks\": \"\"}}, \"type\": \"scattergl\"}], \"scattermapbox\": [{\"marker\": {\"colorbar\": {\"outlinewidth\": 0, \"ticks\": \"\"}}, \"type\": \"scattermapbox\"}], \"scatterpolar\": [{\"marker\": {\"colorbar\": {\"outlinewidth\": 0, \"ticks\": \"\"}}, \"type\": \"scatterpolar\"}], \"scatterpolargl\": [{\"marker\": {\"colorbar\": {\"outlinewidth\": 0, \"ticks\": \"\"}}, \"type\": \"scatterpolargl\"}], \"scatterternary\": [{\"marker\": {\"colorbar\": {\"outlinewidth\": 0, \"ticks\": \"\"}}, \"type\": \"scatterternary\"}], \"surface\": [{\"colorbar\": {\"outlinewidth\": 0, \"ticks\": \"\"}, \"colorscale\": [[0.0, \"#0d0887\"], [0.1111111111111111, \"#46039f\"], [0.2222222222222222, \"#7201a8\"], [0.3333333333333333, \"#9c179e\"], [0.4444444444444444, \"#bd3786\"], [0.5555555555555556, \"#d8576b\"], [0.6666666666666666, \"#ed7953\"], [0.7777777777777778, \"#fb9f3a\"], [0.8888888888888888, \"#fdca26\"], [1.0, \"#f0f921\"]], \"type\": \"surface\"}], \"table\": [{\"cells\": {\"fill\": {\"color\": \"#EBF0F8\"}, \"line\": {\"color\": \"white\"}}, \"header\": {\"fill\": {\"color\": \"#C8D4E3\"}, \"line\": {\"color\": \"white\"}}, \"type\": \"table\"}]}, \"layout\": {\"annotationdefaults\": {\"arrowcolor\": \"#2a3f5f\", \"arrowhead\": 0, \"arrowwidth\": 1}, \"coloraxis\": {\"colorbar\": {\"outlinewidth\": 0, \"ticks\": \"\"}}, \"colorscale\": {\"diverging\": [[0, \"#8e0152\"], [0.1, \"#c51b7d\"], [0.2, \"#de77ae\"], [0.3, \"#f1b6da\"], [0.4, \"#fde0ef\"], [0.5, \"#f7f7f7\"], [0.6, \"#e6f5d0\"], [0.7, \"#b8e186\"], [0.8, \"#7fbc41\"], [0.9, \"#4d9221\"], [1, \"#276419\"]], \"sequential\": [[0.0, \"#0d0887\"], [0.1111111111111111, \"#46039f\"], [0.2222222222222222, \"#7201a8\"], [0.3333333333333333, \"#9c179e\"], [0.4444444444444444, \"#bd3786\"], [0.5555555555555556, \"#d8576b\"], [0.6666666666666666, \"#ed7953\"], [0.7777777777777778, \"#fb9f3a\"], [0.8888888888888888, \"#fdca26\"], [1.0, \"#f0f921\"]], \"sequentialminus\": [[0.0, \"#0d0887\"], [0.1111111111111111, \"#46039f\"], [0.2222222222222222, \"#7201a8\"], [0.3333333333333333, \"#9c179e\"], [0.4444444444444444, \"#bd3786\"], [0.5555555555555556, \"#d8576b\"], [0.6666666666666666, \"#ed7953\"], [0.7777777777777778, \"#fb9f3a\"], [0.8888888888888888, \"#fdca26\"], [1.0, \"#f0f921\"]]}, \"colorway\": [\"#636efa\", \"#EF553B\", \"#00cc96\", \"#ab63fa\", \"#FFA15A\", \"#19d3f3\", \"#FF6692\", \"#B6E880\", \"#FF97FF\", \"#FECB52\"], \"font\": {\"color\": \"#2a3f5f\"}, \"geo\": {\"bgcolor\": \"white\", \"lakecolor\": \"white\", \"landcolor\": \"#E5ECF6\", \"showlakes\": true, \"showland\": true, \"subunitcolor\": \"white\"}, \"hoverlabel\": {\"align\": \"left\"}, \"hovermode\": \"closest\", \"mapbox\": {\"style\": \"light\"}, \"paper_bgcolor\": \"white\", \"plot_bgcolor\": \"#E5ECF6\", \"polar\": {\"angularaxis\": {\"gridcolor\": \"white\", \"linecolor\": \"white\", \"ticks\": \"\"}, \"bgcolor\": \"#E5ECF6\", \"radialaxis\": {\"gridcolor\": \"white\", \"linecolor\": \"white\", \"ticks\": \"\"}}, \"scene\": {\"xaxis\": {\"backgroundcolor\": \"#E5ECF6\", \"gridcolor\": \"white\", \"gridwidth\": 2, \"linecolor\": \"white\", \"showbackground\": true, \"ticks\": \"\", \"zerolinecolor\": \"white\"}, \"yaxis\": {\"backgroundcolor\": \"#E5ECF6\", \"gridcolor\": \"white\", \"gridwidth\": 2, \"linecolor\": \"white\", \"showbackground\": true, \"ticks\": \"\", \"zerolinecolor\": \"white\"}, \"zaxis\": {\"backgroundcolor\": \"#E5ECF6\", \"gridcolor\": \"white\", \"gridwidth\": 2, \"linecolor\": \"white\", \"showbackground\": true, \"ticks\": \"\", \"zerolinecolor\": \"white\"}}, \"shapedefaults\": {\"line\": {\"color\": \"#2a3f5f\"}}, \"ternary\": {\"aaxis\": {\"gridcolor\": \"white\", \"linecolor\": \"white\", \"ticks\": \"\"}, \"baxis\": {\"gridcolor\": \"white\", \"linecolor\": \"white\", \"ticks\": \"\"}, \"bgcolor\": \"#E5ECF6\", \"caxis\": {\"gridcolor\": \"white\", \"linecolor\": \"white\", \"ticks\": \"\"}}, \"title\": {\"x\": 0.05}, \"xaxis\": {\"automargin\": true, \"gridcolor\": \"white\", \"linecolor\": \"white\", \"ticks\": \"\", \"title\": {\"standoff\": 15}, \"zerolinecolor\": \"white\", \"zerolinewidth\": 2}, \"yaxis\": {\"automargin\": true, \"gridcolor\": \"white\", \"linecolor\": \"white\", \"ticks\": \"\", \"title\": {\"standoff\": 15}, \"zerolinecolor\": \"white\", \"zerolinewidth\": 2}}}, \"width\": 800},\n",
              "                        {\"responsive\": true}\n",
              "                    ).then(function(){\n",
              "                            \n",
              "var gd = document.getElementById('08fe6b85-eee5-4977-91da-b13af428d41f');\n",
              "var x = new MutationObserver(function (mutations, observer) {{\n",
              "        var display = window.getComputedStyle(gd).display;\n",
              "        if (!display || display === 'none') {{\n",
              "            console.log([gd, 'removed!']);\n",
              "            Plotly.purge(gd);\n",
              "            observer.disconnect();\n",
              "        }}\n",
              "}});\n",
              "\n",
              "// Listen for the removal of the full notebook cells\n",
              "var notebookContainer = gd.closest('#notebook-container');\n",
              "if (notebookContainer) {{\n",
              "    x.observe(notebookContainer, {childList: true});\n",
              "}}\n",
              "\n",
              "// Listen for the clearing of the current output cell\n",
              "var outputEl = gd.closest('.output');\n",
              "if (outputEl) {{\n",
              "    x.observe(outputEl, {childList: true});\n",
              "}}\n",
              "\n",
              "                        })\n",
              "                };\n",
              "                \n",
              "            </script>\n",
              "        </div>\n",
              "</body>\n",
              "</html>"
            ]
          },
          "metadata": {
            "tags": []
          }
        }
      ]
    },
    {
      "cell_type": "code",
      "metadata": {
        "id": "zGDMbrZjSFy3"
      },
      "source": [
        "def remove_trace(fig, name):\n",
        "    fig.data = tuple(trace for trace in fig.data if trace[\"name\"] != name)"
      ],
      "execution_count": 64,
      "outputs": []
    },
    {
      "cell_type": "code",
      "metadata": {
        "colab": {
          "base_uri": "https://localhost:8080/",
          "height": 517
        },
        "id": "uFMOO08iS3iV",
        "outputId": "1ad0abce-525a-41e9-dc34-77375e8ada29"
      },
      "source": [
        "remove_trace(pp.figure, \"France\")\n",
        "pp.show()"
      ],
      "execution_count": 65,
      "outputs": [
        {
          "output_type": "display_data",
          "data": {
            "text/html": [
              "<html>\n",
              "<head><meta charset=\"utf-8\" /></head>\n",
              "<body>\n",
              "    <div>\n",
              "            <script src=\"https://cdnjs.cloudflare.com/ajax/libs/mathjax/2.7.5/MathJax.js?config=TeX-AMS-MML_SVG\"></script><script type=\"text/javascript\">if (window.MathJax) {MathJax.Hub.Config({SVG: {font: \"STIX-Web\"}});}</script>\n",
              "                <script type=\"text/javascript\">window.PlotlyConfig = {MathJaxConfig: 'local'};</script>\n",
              "        <script src=\"https://cdn.plot.ly/plotly-latest.min.js\"></script>    \n",
              "            <div id=\"45463283-c023-4ee8-8079-fda3bf81f86f\" class=\"plotly-graph-div\" style=\"height:500px; width:800px;\"></div>\n",
              "            <script type=\"text/javascript\">\n",
              "                \n",
              "                    window.PLOTLYENV=window.PLOTLYENV || {};\n",
              "                    \n",
              "                if (document.getElementById(\"45463283-c023-4ee8-8079-fda3bf81f86f\")) {\n",
              "                    Plotly.newPlot(\n",
              "                        '45463283-c023-4ee8-8079-fda3bf81f86f',\n",
              "                        [{\"hoverinfo\": \"name+r\", \"hovertemplate\": \"%{r:0.0f}%\", \"line\": {\"shape\": \"spline\", \"smoothing\": 0.8}, \"mode\": \"lines\", \"name\": \"Germany\", \"r\": [13.360739979445016, 14.953751284686536, 26.258992805755394, 21.634121274409043, 21.017471736896198, 2.774922918807811, 13.360739979445016], \"showlegend\": true, \"theta\": [\"Business Analyst\", \"Data Analyst\", \"Data Scientist\", \"Data Engineer/DBA\", \"Software Engineer\", \"Statistician/Research Scientist\", \"Business Analyst\"], \"type\": \"scatterpolar\"}],\n",
              "                        {\"height\": 500, \"legend\": {\"itemclick\": \"toggleothers\", \"itemdoubleclick\": \"toggle\"}, \"polar\": {\"radialaxis\": {\"range\": [0, 28.884892086330936]}}, \"showlegend\": true, \"template\": {\"data\": {\"bar\": [{\"error_x\": {\"color\": \"#2a3f5f\"}, \"error_y\": {\"color\": \"#2a3f5f\"}, \"marker\": {\"line\": {\"color\": \"#E5ECF6\", \"width\": 0.5}}, \"type\": \"bar\"}], \"barpolar\": [{\"marker\": {\"line\": {\"color\": \"#E5ECF6\", \"width\": 0.5}}, \"type\": \"barpolar\"}], \"carpet\": [{\"aaxis\": {\"endlinecolor\": \"#2a3f5f\", \"gridcolor\": \"white\", \"linecolor\": \"white\", \"minorgridcolor\": \"white\", \"startlinecolor\": \"#2a3f5f\"}, \"baxis\": {\"endlinecolor\": \"#2a3f5f\", \"gridcolor\": \"white\", \"linecolor\": \"white\", \"minorgridcolor\": \"white\", \"startlinecolor\": \"#2a3f5f\"}, \"type\": \"carpet\"}], \"choropleth\": [{\"colorbar\": {\"outlinewidth\": 0, \"ticks\": \"\"}, \"type\": \"choropleth\"}], \"contour\": [{\"colorbar\": {\"outlinewidth\": 0, \"ticks\": \"\"}, \"colorscale\": [[0.0, \"#0d0887\"], [0.1111111111111111, \"#46039f\"], [0.2222222222222222, \"#7201a8\"], [0.3333333333333333, \"#9c179e\"], [0.4444444444444444, \"#bd3786\"], [0.5555555555555556, \"#d8576b\"], [0.6666666666666666, \"#ed7953\"], [0.7777777777777778, \"#fb9f3a\"], [0.8888888888888888, \"#fdca26\"], [1.0, \"#f0f921\"]], \"type\": \"contour\"}], \"contourcarpet\": [{\"colorbar\": {\"outlinewidth\": 0, \"ticks\": \"\"}, \"type\": \"contourcarpet\"}], \"heatmap\": [{\"colorbar\": {\"outlinewidth\": 0, \"ticks\": \"\"}, \"colorscale\": [[0.0, \"#0d0887\"], [0.1111111111111111, \"#46039f\"], [0.2222222222222222, \"#7201a8\"], [0.3333333333333333, \"#9c179e\"], [0.4444444444444444, \"#bd3786\"], [0.5555555555555556, \"#d8576b\"], [0.6666666666666666, \"#ed7953\"], [0.7777777777777778, \"#fb9f3a\"], [0.8888888888888888, \"#fdca26\"], [1.0, \"#f0f921\"]], \"type\": \"heatmap\"}], \"heatmapgl\": [{\"colorbar\": {\"outlinewidth\": 0, \"ticks\": \"\"}, \"colorscale\": [[0.0, \"#0d0887\"], [0.1111111111111111, \"#46039f\"], [0.2222222222222222, \"#7201a8\"], [0.3333333333333333, \"#9c179e\"], [0.4444444444444444, \"#bd3786\"], [0.5555555555555556, \"#d8576b\"], [0.6666666666666666, \"#ed7953\"], [0.7777777777777778, \"#fb9f3a\"], [0.8888888888888888, \"#fdca26\"], [1.0, \"#f0f921\"]], \"type\": \"heatmapgl\"}], \"histogram\": [{\"marker\": {\"colorbar\": {\"outlinewidth\": 0, \"ticks\": \"\"}}, \"type\": \"histogram\"}], \"histogram2d\": [{\"colorbar\": {\"outlinewidth\": 0, \"ticks\": \"\"}, \"colorscale\": [[0.0, \"#0d0887\"], [0.1111111111111111, \"#46039f\"], [0.2222222222222222, \"#7201a8\"], [0.3333333333333333, \"#9c179e\"], [0.4444444444444444, \"#bd3786\"], [0.5555555555555556, \"#d8576b\"], [0.6666666666666666, \"#ed7953\"], [0.7777777777777778, \"#fb9f3a\"], [0.8888888888888888, \"#fdca26\"], [1.0, \"#f0f921\"]], \"type\": \"histogram2d\"}], \"histogram2dcontour\": [{\"colorbar\": {\"outlinewidth\": 0, \"ticks\": \"\"}, \"colorscale\": [[0.0, \"#0d0887\"], [0.1111111111111111, \"#46039f\"], [0.2222222222222222, \"#7201a8\"], [0.3333333333333333, \"#9c179e\"], [0.4444444444444444, \"#bd3786\"], [0.5555555555555556, \"#d8576b\"], [0.6666666666666666, \"#ed7953\"], [0.7777777777777778, \"#fb9f3a\"], [0.8888888888888888, \"#fdca26\"], [1.0, \"#f0f921\"]], \"type\": \"histogram2dcontour\"}], \"mesh3d\": [{\"colorbar\": {\"outlinewidth\": 0, \"ticks\": \"\"}, \"type\": \"mesh3d\"}], \"parcoords\": [{\"line\": {\"colorbar\": {\"outlinewidth\": 0, \"ticks\": \"\"}}, \"type\": \"parcoords\"}], \"pie\": [{\"automargin\": true, \"type\": \"pie\"}], \"scatter\": [{\"marker\": {\"colorbar\": {\"outlinewidth\": 0, \"ticks\": \"\"}}, \"type\": \"scatter\"}], \"scatter3d\": [{\"line\": {\"colorbar\": {\"outlinewidth\": 0, \"ticks\": \"\"}}, \"marker\": {\"colorbar\": {\"outlinewidth\": 0, \"ticks\": \"\"}}, \"type\": \"scatter3d\"}], \"scattercarpet\": [{\"marker\": {\"colorbar\": {\"outlinewidth\": 0, \"ticks\": \"\"}}, \"type\": \"scattercarpet\"}], \"scattergeo\": [{\"marker\": {\"colorbar\": {\"outlinewidth\": 0, \"ticks\": \"\"}}, \"type\": \"scattergeo\"}], \"scattergl\": [{\"marker\": {\"colorbar\": {\"outlinewidth\": 0, \"ticks\": \"\"}}, \"type\": \"scattergl\"}], \"scattermapbox\": [{\"marker\": {\"colorbar\": {\"outlinewidth\": 0, \"ticks\": \"\"}}, \"type\": \"scattermapbox\"}], \"scatterpolar\": [{\"marker\": {\"colorbar\": {\"outlinewidth\": 0, \"ticks\": \"\"}}, \"type\": \"scatterpolar\"}], \"scatterpolargl\": [{\"marker\": {\"colorbar\": {\"outlinewidth\": 0, \"ticks\": \"\"}}, \"type\": \"scatterpolargl\"}], \"scatterternary\": [{\"marker\": {\"colorbar\": {\"outlinewidth\": 0, \"ticks\": \"\"}}, \"type\": \"scatterternary\"}], \"surface\": [{\"colorbar\": {\"outlinewidth\": 0, \"ticks\": \"\"}, \"colorscale\": [[0.0, \"#0d0887\"], [0.1111111111111111, \"#46039f\"], [0.2222222222222222, \"#7201a8\"], [0.3333333333333333, \"#9c179e\"], [0.4444444444444444, \"#bd3786\"], [0.5555555555555556, \"#d8576b\"], [0.6666666666666666, \"#ed7953\"], [0.7777777777777778, \"#fb9f3a\"], [0.8888888888888888, \"#fdca26\"], [1.0, \"#f0f921\"]], \"type\": \"surface\"}], \"table\": [{\"cells\": {\"fill\": {\"color\": \"#EBF0F8\"}, \"line\": {\"color\": \"white\"}}, \"header\": {\"fill\": {\"color\": \"#C8D4E3\"}, \"line\": {\"color\": \"white\"}}, \"type\": \"table\"}]}, \"layout\": {\"annotationdefaults\": {\"arrowcolor\": \"#2a3f5f\", \"arrowhead\": 0, \"arrowwidth\": 1}, \"coloraxis\": {\"colorbar\": {\"outlinewidth\": 0, \"ticks\": \"\"}}, \"colorscale\": {\"diverging\": [[0, \"#8e0152\"], [0.1, \"#c51b7d\"], [0.2, \"#de77ae\"], [0.3, \"#f1b6da\"], [0.4, \"#fde0ef\"], [0.5, \"#f7f7f7\"], [0.6, \"#e6f5d0\"], [0.7, \"#b8e186\"], [0.8, \"#7fbc41\"], [0.9, \"#4d9221\"], [1, \"#276419\"]], \"sequential\": [[0.0, \"#0d0887\"], [0.1111111111111111, \"#46039f\"], [0.2222222222222222, \"#7201a8\"], [0.3333333333333333, \"#9c179e\"], [0.4444444444444444, \"#bd3786\"], [0.5555555555555556, \"#d8576b\"], [0.6666666666666666, \"#ed7953\"], [0.7777777777777778, \"#fb9f3a\"], [0.8888888888888888, \"#fdca26\"], [1.0, \"#f0f921\"]], \"sequentialminus\": [[0.0, \"#0d0887\"], [0.1111111111111111, \"#46039f\"], [0.2222222222222222, \"#7201a8\"], [0.3333333333333333, \"#9c179e\"], [0.4444444444444444, \"#bd3786\"], [0.5555555555555556, \"#d8576b\"], [0.6666666666666666, \"#ed7953\"], [0.7777777777777778, \"#fb9f3a\"], [0.8888888888888888, \"#fdca26\"], [1.0, \"#f0f921\"]]}, \"colorway\": [\"#636efa\", \"#EF553B\", \"#00cc96\", \"#ab63fa\", \"#FFA15A\", \"#19d3f3\", \"#FF6692\", \"#B6E880\", \"#FF97FF\", \"#FECB52\"], \"font\": {\"color\": \"#2a3f5f\"}, \"geo\": {\"bgcolor\": \"white\", \"lakecolor\": \"white\", \"landcolor\": \"#E5ECF6\", \"showlakes\": true, \"showland\": true, \"subunitcolor\": \"white\"}, \"hoverlabel\": {\"align\": \"left\"}, \"hovermode\": \"closest\", \"mapbox\": {\"style\": \"light\"}, \"paper_bgcolor\": \"white\", \"plot_bgcolor\": \"#E5ECF6\", \"polar\": {\"angularaxis\": {\"gridcolor\": \"white\", \"linecolor\": \"white\", \"ticks\": \"\"}, \"bgcolor\": \"#E5ECF6\", \"radialaxis\": {\"gridcolor\": \"white\", \"linecolor\": \"white\", \"ticks\": \"\"}}, \"scene\": {\"xaxis\": {\"backgroundcolor\": \"#E5ECF6\", \"gridcolor\": \"white\", \"gridwidth\": 2, \"linecolor\": \"white\", \"showbackground\": true, \"ticks\": \"\", \"zerolinecolor\": \"white\"}, \"yaxis\": {\"backgroundcolor\": \"#E5ECF6\", \"gridcolor\": \"white\", \"gridwidth\": 2, \"linecolor\": \"white\", \"showbackground\": true, \"ticks\": \"\", \"zerolinecolor\": \"white\"}, \"zaxis\": {\"backgroundcolor\": \"#E5ECF6\", \"gridcolor\": \"white\", \"gridwidth\": 2, \"linecolor\": \"white\", \"showbackground\": true, \"ticks\": \"\", \"zerolinecolor\": \"white\"}}, \"shapedefaults\": {\"line\": {\"color\": \"#2a3f5f\"}}, \"ternary\": {\"aaxis\": {\"gridcolor\": \"white\", \"linecolor\": \"white\", \"ticks\": \"\"}, \"baxis\": {\"gridcolor\": \"white\", \"linecolor\": \"white\", \"ticks\": \"\"}, \"bgcolor\": \"#E5ECF6\", \"caxis\": {\"gridcolor\": \"white\", \"linecolor\": \"white\", \"ticks\": \"\"}}, \"title\": {\"x\": 0.05}, \"xaxis\": {\"automargin\": true, \"gridcolor\": \"white\", \"linecolor\": \"white\", \"ticks\": \"\", \"title\": {\"standoff\": 15}, \"zerolinecolor\": \"white\", \"zerolinewidth\": 2}, \"yaxis\": {\"automargin\": true, \"gridcolor\": \"white\", \"linecolor\": \"white\", \"ticks\": \"\", \"title\": {\"standoff\": 15}, \"zerolinecolor\": \"white\", \"zerolinewidth\": 2}}}, \"width\": 800},\n",
              "                        {\"responsive\": true}\n",
              "                    ).then(function(){\n",
              "                            \n",
              "var gd = document.getElementById('45463283-c023-4ee8-8079-fda3bf81f86f');\n",
              "var x = new MutationObserver(function (mutations, observer) {{\n",
              "        var display = window.getComputedStyle(gd).display;\n",
              "        if (!display || display === 'none') {{\n",
              "            console.log([gd, 'removed!']);\n",
              "            Plotly.purge(gd);\n",
              "            observer.disconnect();\n",
              "        }}\n",
              "}});\n",
              "\n",
              "// Listen for the removal of the full notebook cells\n",
              "var notebookContainer = gd.closest('#notebook-container');\n",
              "if (notebookContainer) {{\n",
              "    x.observe(notebookContainer, {childList: true});\n",
              "}}\n",
              "\n",
              "// Listen for the clearing of the current output cell\n",
              "var outputEl = gd.closest('.output');\n",
              "if (outputEl) {{\n",
              "    x.observe(outputEl, {childList: true});\n",
              "}}\n",
              "\n",
              "                        })\n",
              "                };\n",
              "                \n",
              "            </script>\n",
              "        </div>\n",
              "</body>\n",
              "</html>"
            ]
          },
          "metadata": {
            "tags": []
          }
        }
      ]
    },
    {
      "cell_type": "markdown",
      "metadata": {
        "id": "oTHrevYAldSa"
      },
      "source": [
        "### Salaries"
      ]
    },
    {
      "cell_type": "code",
      "metadata": {
        "id": "WfFWZ-3btrpd"
      },
      "source": [
        "class LinePlot():\n",
        "\n",
        "    def __init__(self):\n",
        "        self.figure = go.Figure()\n",
        "        self.range = (0, 100)\n",
        "    \n",
        "    def update_axis_title(self, x, y):\n",
        "        self.figure.update_layout(\n",
        "            xaxis_title_text=x,\n",
        "            yaxis_title_text=y,\n",
        "        )\n",
        "        \n",
        "    def update_layout(self):\n",
        "        \"\"\"\n",
        "        Creates a clean layout for ploting, adjusting multiple settings\n",
        "        \"\"\"\n",
        "        self.figure.update_layout(\n",
        "            showlegend=True,\n",
        "            legend_font_color='gray',\n",
        "            legend_itemclick='toggleothers',\n",
        "            legend_itemdoubleclick='toggle',\n",
        "            width = 800,\n",
        "            height=500,\n",
        "            # plot_bgcolor='white',\n",
        "            xaxis_title_font_color='grey',\n",
        "            xaxis_color='grey',\n",
        "            yaxis_title_font_color='grey',\n",
        "            yaxis_color='grey',\n",
        "        )\n",
        "         \n",
        "    def add_data(self, x_names, y_data, trace_name, hover_template):\n",
        "        \"\"\"\n",
        "        Adds a trace to the figure following the same standard for each trace\n",
        "        \"\"\"\n",
        "        self.figure.add_trace(\n",
        "            go.Scatter(\n",
        "                x=x_names,\n",
        "                y=y_data,\n",
        "                mode='lines',\n",
        "                name=trace_name,\n",
        "                hoverinfo='name+y',\n",
        "                hovertemplate=hover_template,\n",
        "                line_shape='spline',\n",
        "                line_smoothing=0.8,\n",
        "                line_width=1.6\n",
        "            )\n",
        "        )\n",
        "        \n",
        "    def show(self):\n",
        "        self.update_layout()\n",
        "        self.figure.show()"
      ],
      "execution_count": 66,
      "outputs": []
    },
    {
      "cell_type": "code",
      "metadata": {
        "id": "MFyFuqg1t7m_"
      },
      "source": [
        "def plot_lines(line_plot, data, traces, x_names, agg_column, group_column, trace_column, hover_template):\n",
        "    \"\"\"\n",
        "    Creates aggregation to plot\n",
        "    \"\"\"\n",
        "    for trace_name in traces:\n",
        "        data_filtered = data[data[trace_column] == trace_name] \n",
        "        plot_data = data_filtered.groupby([group_column], as_index=False).agg({agg_column: ['mean', 'count']}) \n",
        "        plot_data = plot_data[agg_column]['mean'].tolist() \n",
        "        line_plot.add_data(x_names, plot_data, trace_name, hover_template=hover_template) "
      ],
      "execution_count": 67,
      "outputs": []
    },
    {
      "cell_type": "markdown",
      "metadata": {
        "id": "08R4B17v4lia"
      },
      "source": [
        "#### Time of coding"
      ]
    },
    {
      "cell_type": "code",
      "metadata": {
        "colab": {
          "base_uri": "https://localhost:8080/",
          "height": 517
        },
        "id": "bKHZVyz0t87B",
        "outputId": "16b1d2d3-eabd-4193-8cc3-d6978732f3f9"
      },
      "source": [
        "JOB_TITLES = ['Business Analyst', 'Data Analyst', 'Data Scientist', 'Data Engineer/DBA',\n",
        "          'Software Engineer', 'Statistician/Research Scientist']\n",
        "\n",
        "x_names = ['0 years', '< 1 years', '1-2 years', '3-5 years', '5-10 years', '10-20 years', '20+ years'] \n",
        "\n",
        "time_of_coding_line_plot = LinePlot()\n",
        "\n",
        "plot_lines(\n",
        "    time_of_coding_line_plot, \n",
        "    data=kaggle, \n",
        "    traces=JOB_TITLES, \n",
        "    x_names=x_names, \n",
        "    agg_column='Salary', \n",
        "    group_column='TimeWritingCode', \n",
        "    trace_column='JobTitle', \n",
        "    hover_template='U$%{y:,.2r}' \n",
        ")\n",
        "\n",
        "xaxis_title='Time of writing code'\n",
        "yaxis_title='Average Salary (USD per Year)'\n",
        "\n",
        "time_of_coding_line_plot.update_axis_title(xaxis_title, yaxis_title) \n",
        "time_of_coding_line_plot.show()"
      ],
      "execution_count": 73,
      "outputs": [
        {
          "output_type": "display_data",
          "data": {
            "text/html": [
              "<html>\n",
              "<head><meta charset=\"utf-8\" /></head>\n",
              "<body>\n",
              "    <div>\n",
              "            <script src=\"https://cdnjs.cloudflare.com/ajax/libs/mathjax/2.7.5/MathJax.js?config=TeX-AMS-MML_SVG\"></script><script type=\"text/javascript\">if (window.MathJax) {MathJax.Hub.Config({SVG: {font: \"STIX-Web\"}});}</script>\n",
              "                <script type=\"text/javascript\">window.PlotlyConfig = {MathJaxConfig: 'local'};</script>\n",
              "        <script src=\"https://cdn.plot.ly/plotly-latest.min.js\"></script>    \n",
              "            <div id=\"fa478091-f6c7-4ff0-ba38-ffab5ad762ef\" class=\"plotly-graph-div\" style=\"height:500px; width:800px;\"></div>\n",
              "            <script type=\"text/javascript\">\n",
              "                \n",
              "                    window.PLOTLYENV=window.PLOTLYENV || {};\n",
              "                    \n",
              "                if (document.getElementById(\"fa478091-f6c7-4ff0-ba38-ffab5ad762ef\")) {\n",
              "                    Plotly.newPlot(\n",
              "                        'fa478091-f6c7-4ff0-ba38-ffab5ad762ef',\n",
              "                        [{\"hoverinfo\": \"name+y\", \"hovertemplate\": \"U$%{y:,.2r}\", \"line\": {\"shape\": \"spline\", \"smoothing\": 0.8, \"width\": 1.6}, \"mode\": \"lines\", \"name\": \"Business Analyst\", \"type\": \"scatter\", \"x\": [\"0 years\", \"< 1 years\", \"1-2 years\", \"3-5 years\", \"5-10 years\", \"10-20 years\", \"20+ years\"], \"y\": [18815.224010204092, 13468.918217791368, 13471.543127516745, 16387.34242035395, 23998.020343749988, 33290.499500000005, 42909.59473809525]}, {\"hoverinfo\": \"name+y\", \"hovertemplate\": \"U$%{y:,.2r}\", \"line\": {\"shape\": \"spline\", \"smoothing\": 0.8, \"width\": 1.6}, \"mode\": \"lines\", \"name\": \"Data Analyst\", \"type\": \"scatter\", \"x\": [\"0 years\", \"< 1 years\", \"1-2 years\", \"3-5 years\", \"5-10 years\", \"10-20 years\", \"20+ years\"], \"y\": [6221.364093749995, 7026.339663934397, 12839.751414540751, 20291.80965781243, 24918.146790697618, 35502.16343442619, 31058.270333333345]}, {\"hoverinfo\": \"name+y\", \"hovertemplate\": \"U$%{y:,.2r}\", \"line\": {\"shape\": \"spline\", \"smoothing\": 0.8, \"width\": 1.6}, \"mode\": \"lines\", \"name\": \"Data Scientist\", \"type\": \"scatter\", \"x\": [\"0 years\", \"< 1 years\", \"1-2 years\", \"3-5 years\", \"5-10 years\", \"10-20 years\", \"20+ years\"], \"y\": [13718.922576923076, 5531.837093065681, 12695.360738310637, 23474.899923148845, 36763.61903949214, 48077.35584195444, 53879.32568211914]}, {\"hoverinfo\": \"name+y\", \"hovertemplate\": \"U$%{y:,.2r}\", \"line\": {\"shape\": \"spline\", \"smoothing\": 0.8, \"width\": 1.6}, \"mode\": \"lines\", \"name\": \"Data Engineer/DBA\", \"type\": \"scatter\", \"x\": [\"0 years\", \"< 1 years\", \"1-2 years\", \"3-5 years\", \"5-10 years\", \"10-20 years\", \"20+ years\"], \"y\": [18701.403384615387, 10156.779391304355, 13671.784714788695, 23455.55778527601, 28990.400025510164, 42195.472904255286, 54983.75915384614]}, {\"hoverinfo\": \"name+y\", \"hovertemplate\": \"U$%{y:,.2r}\", \"line\": {\"shape\": \"spline\", \"smoothing\": 0.8, \"width\": 1.6}, \"mode\": \"lines\", \"name\": \"Software Engineer\", \"type\": \"scatter\", \"x\": [\"0 years\", \"< 1 years\", \"1-2 years\", \"3-5 years\", \"5-10 years\", \"10-20 years\", \"20+ years\"], \"y\": [11008.366626126131, 11144.068750871014, 14167.632535714216, 21157.47631314426, 28102.075421465906, 40031.9790245901, 41989.686097014885]}, {\"hoverinfo\": \"name+y\", \"hovertemplate\": \"U$%{y:,.2r}\", \"line\": {\"shape\": \"spline\", \"smoothing\": 0.8, \"width\": 1.6}, \"mode\": \"lines\", \"name\": \"Statistician/Research Scientist\", \"type\": \"scatter\", \"x\": [\"0 years\", \"< 1 years\", \"1-2 years\", \"3-5 years\", \"5-10 years\", \"10-20 years\", \"20+ years\"], \"y\": [8405.923918604643, 8527.532961267607, 11958.566305667966, 16045.261013157837, 24359.84637084864, 33476.00464358968, 43414.20114112897]}],\n",
              "                        {\"height\": 500, \"legend\": {\"font\": {\"color\": \"gray\"}, \"itemclick\": \"toggleothers\", \"itemdoubleclick\": \"toggle\"}, \"showlegend\": true, \"template\": {\"data\": {\"bar\": [{\"error_x\": {\"color\": \"#2a3f5f\"}, \"error_y\": {\"color\": \"#2a3f5f\"}, \"marker\": {\"line\": {\"color\": \"#E5ECF6\", \"width\": 0.5}}, \"type\": \"bar\"}], \"barpolar\": [{\"marker\": {\"line\": {\"color\": \"#E5ECF6\", \"width\": 0.5}}, \"type\": \"barpolar\"}], \"carpet\": [{\"aaxis\": {\"endlinecolor\": \"#2a3f5f\", \"gridcolor\": \"white\", \"linecolor\": \"white\", \"minorgridcolor\": \"white\", \"startlinecolor\": \"#2a3f5f\"}, \"baxis\": {\"endlinecolor\": \"#2a3f5f\", \"gridcolor\": \"white\", \"linecolor\": \"white\", \"minorgridcolor\": \"white\", \"startlinecolor\": \"#2a3f5f\"}, \"type\": \"carpet\"}], \"choropleth\": [{\"colorbar\": {\"outlinewidth\": 0, \"ticks\": \"\"}, \"type\": \"choropleth\"}], \"contour\": [{\"colorbar\": {\"outlinewidth\": 0, \"ticks\": \"\"}, \"colorscale\": [[0.0, \"#0d0887\"], [0.1111111111111111, \"#46039f\"], [0.2222222222222222, \"#7201a8\"], [0.3333333333333333, \"#9c179e\"], [0.4444444444444444, \"#bd3786\"], [0.5555555555555556, \"#d8576b\"], [0.6666666666666666, \"#ed7953\"], [0.7777777777777778, \"#fb9f3a\"], [0.8888888888888888, \"#fdca26\"], [1.0, \"#f0f921\"]], \"type\": \"contour\"}], \"contourcarpet\": [{\"colorbar\": {\"outlinewidth\": 0, \"ticks\": \"\"}, \"type\": \"contourcarpet\"}], \"heatmap\": [{\"colorbar\": {\"outlinewidth\": 0, \"ticks\": \"\"}, \"colorscale\": [[0.0, \"#0d0887\"], [0.1111111111111111, \"#46039f\"], [0.2222222222222222, \"#7201a8\"], [0.3333333333333333, \"#9c179e\"], [0.4444444444444444, \"#bd3786\"], [0.5555555555555556, \"#d8576b\"], [0.6666666666666666, \"#ed7953\"], [0.7777777777777778, \"#fb9f3a\"], [0.8888888888888888, \"#fdca26\"], [1.0, \"#f0f921\"]], \"type\": \"heatmap\"}], \"heatmapgl\": [{\"colorbar\": {\"outlinewidth\": 0, \"ticks\": \"\"}, \"colorscale\": [[0.0, \"#0d0887\"], [0.1111111111111111, \"#46039f\"], [0.2222222222222222, \"#7201a8\"], [0.3333333333333333, \"#9c179e\"], [0.4444444444444444, \"#bd3786\"], [0.5555555555555556, \"#d8576b\"], [0.6666666666666666, \"#ed7953\"], [0.7777777777777778, \"#fb9f3a\"], [0.8888888888888888, \"#fdca26\"], [1.0, \"#f0f921\"]], \"type\": \"heatmapgl\"}], \"histogram\": [{\"marker\": {\"colorbar\": {\"outlinewidth\": 0, \"ticks\": \"\"}}, \"type\": \"histogram\"}], \"histogram2d\": [{\"colorbar\": {\"outlinewidth\": 0, \"ticks\": \"\"}, \"colorscale\": [[0.0, \"#0d0887\"], [0.1111111111111111, \"#46039f\"], [0.2222222222222222, \"#7201a8\"], [0.3333333333333333, \"#9c179e\"], [0.4444444444444444, \"#bd3786\"], [0.5555555555555556, \"#d8576b\"], [0.6666666666666666, \"#ed7953\"], [0.7777777777777778, \"#fb9f3a\"], [0.8888888888888888, \"#fdca26\"], [1.0, \"#f0f921\"]], \"type\": \"histogram2d\"}], \"histogram2dcontour\": [{\"colorbar\": {\"outlinewidth\": 0, \"ticks\": \"\"}, \"colorscale\": [[0.0, \"#0d0887\"], [0.1111111111111111, \"#46039f\"], [0.2222222222222222, \"#7201a8\"], [0.3333333333333333, \"#9c179e\"], [0.4444444444444444, \"#bd3786\"], [0.5555555555555556, \"#d8576b\"], [0.6666666666666666, \"#ed7953\"], [0.7777777777777778, \"#fb9f3a\"], [0.8888888888888888, \"#fdca26\"], [1.0, \"#f0f921\"]], \"type\": \"histogram2dcontour\"}], \"mesh3d\": [{\"colorbar\": {\"outlinewidth\": 0, \"ticks\": \"\"}, \"type\": \"mesh3d\"}], \"parcoords\": [{\"line\": {\"colorbar\": {\"outlinewidth\": 0, \"ticks\": \"\"}}, \"type\": \"parcoords\"}], \"pie\": [{\"automargin\": true, \"type\": \"pie\"}], \"scatter\": [{\"marker\": {\"colorbar\": {\"outlinewidth\": 0, \"ticks\": \"\"}}, \"type\": \"scatter\"}], \"scatter3d\": [{\"line\": {\"colorbar\": {\"outlinewidth\": 0, \"ticks\": \"\"}}, \"marker\": {\"colorbar\": {\"outlinewidth\": 0, \"ticks\": \"\"}}, \"type\": \"scatter3d\"}], \"scattercarpet\": [{\"marker\": {\"colorbar\": {\"outlinewidth\": 0, \"ticks\": \"\"}}, \"type\": \"scattercarpet\"}], \"scattergeo\": [{\"marker\": {\"colorbar\": {\"outlinewidth\": 0, \"ticks\": \"\"}}, \"type\": \"scattergeo\"}], \"scattergl\": [{\"marker\": {\"colorbar\": {\"outlinewidth\": 0, \"ticks\": \"\"}}, \"type\": \"scattergl\"}], \"scattermapbox\": [{\"marker\": {\"colorbar\": {\"outlinewidth\": 0, \"ticks\": \"\"}}, \"type\": \"scattermapbox\"}], \"scatterpolar\": [{\"marker\": {\"colorbar\": {\"outlinewidth\": 0, \"ticks\": \"\"}}, \"type\": \"scatterpolar\"}], \"scatterpolargl\": [{\"marker\": {\"colorbar\": {\"outlinewidth\": 0, \"ticks\": \"\"}}, \"type\": \"scatterpolargl\"}], \"scatterternary\": [{\"marker\": {\"colorbar\": {\"outlinewidth\": 0, \"ticks\": \"\"}}, \"type\": \"scatterternary\"}], \"surface\": [{\"colorbar\": {\"outlinewidth\": 0, \"ticks\": \"\"}, \"colorscale\": [[0.0, \"#0d0887\"], [0.1111111111111111, \"#46039f\"], [0.2222222222222222, \"#7201a8\"], [0.3333333333333333, \"#9c179e\"], [0.4444444444444444, \"#bd3786\"], [0.5555555555555556, \"#d8576b\"], [0.6666666666666666, \"#ed7953\"], [0.7777777777777778, \"#fb9f3a\"], [0.8888888888888888, \"#fdca26\"], [1.0, \"#f0f921\"]], \"type\": \"surface\"}], \"table\": [{\"cells\": {\"fill\": {\"color\": \"#EBF0F8\"}, \"line\": {\"color\": \"white\"}}, \"header\": {\"fill\": {\"color\": \"#C8D4E3\"}, \"line\": {\"color\": \"white\"}}, \"type\": \"table\"}]}, \"layout\": {\"annotationdefaults\": {\"arrowcolor\": \"#2a3f5f\", \"arrowhead\": 0, \"arrowwidth\": 1}, \"coloraxis\": {\"colorbar\": {\"outlinewidth\": 0, \"ticks\": \"\"}}, \"colorscale\": {\"diverging\": [[0, \"#8e0152\"], [0.1, \"#c51b7d\"], [0.2, \"#de77ae\"], [0.3, \"#f1b6da\"], [0.4, \"#fde0ef\"], [0.5, \"#f7f7f7\"], [0.6, \"#e6f5d0\"], [0.7, \"#b8e186\"], [0.8, \"#7fbc41\"], [0.9, \"#4d9221\"], [1, \"#276419\"]], \"sequential\": [[0.0, \"#0d0887\"], [0.1111111111111111, \"#46039f\"], [0.2222222222222222, \"#7201a8\"], [0.3333333333333333, \"#9c179e\"], [0.4444444444444444, \"#bd3786\"], [0.5555555555555556, \"#d8576b\"], [0.6666666666666666, \"#ed7953\"], [0.7777777777777778, \"#fb9f3a\"], [0.8888888888888888, \"#fdca26\"], [1.0, \"#f0f921\"]], \"sequentialminus\": [[0.0, \"#0d0887\"], [0.1111111111111111, \"#46039f\"], [0.2222222222222222, \"#7201a8\"], [0.3333333333333333, \"#9c179e\"], [0.4444444444444444, \"#bd3786\"], [0.5555555555555556, \"#d8576b\"], [0.6666666666666666, \"#ed7953\"], [0.7777777777777778, \"#fb9f3a\"], [0.8888888888888888, \"#fdca26\"], [1.0, \"#f0f921\"]]}, \"colorway\": [\"#636efa\", \"#EF553B\", \"#00cc96\", \"#ab63fa\", \"#FFA15A\", \"#19d3f3\", \"#FF6692\", \"#B6E880\", \"#FF97FF\", \"#FECB52\"], \"font\": {\"color\": \"#2a3f5f\"}, \"geo\": {\"bgcolor\": \"white\", \"lakecolor\": \"white\", \"landcolor\": \"#E5ECF6\", \"showlakes\": true, \"showland\": true, \"subunitcolor\": \"white\"}, \"hoverlabel\": {\"align\": \"left\"}, \"hovermode\": \"closest\", \"mapbox\": {\"style\": \"light\"}, \"paper_bgcolor\": \"white\", \"plot_bgcolor\": \"#E5ECF6\", \"polar\": {\"angularaxis\": {\"gridcolor\": \"white\", \"linecolor\": \"white\", \"ticks\": \"\"}, \"bgcolor\": \"#E5ECF6\", \"radialaxis\": {\"gridcolor\": \"white\", \"linecolor\": \"white\", \"ticks\": \"\"}}, \"scene\": {\"xaxis\": {\"backgroundcolor\": \"#E5ECF6\", \"gridcolor\": \"white\", \"gridwidth\": 2, \"linecolor\": \"white\", \"showbackground\": true, \"ticks\": \"\", \"zerolinecolor\": \"white\"}, \"yaxis\": {\"backgroundcolor\": \"#E5ECF6\", \"gridcolor\": \"white\", \"gridwidth\": 2, \"linecolor\": \"white\", \"showbackground\": true, \"ticks\": \"\", \"zerolinecolor\": \"white\"}, \"zaxis\": {\"backgroundcolor\": \"#E5ECF6\", \"gridcolor\": \"white\", \"gridwidth\": 2, \"linecolor\": \"white\", \"showbackground\": true, \"ticks\": \"\", \"zerolinecolor\": \"white\"}}, \"shapedefaults\": {\"line\": {\"color\": \"#2a3f5f\"}}, \"ternary\": {\"aaxis\": {\"gridcolor\": \"white\", \"linecolor\": \"white\", \"ticks\": \"\"}, \"baxis\": {\"gridcolor\": \"white\", \"linecolor\": \"white\", \"ticks\": \"\"}, \"bgcolor\": \"#E5ECF6\", \"caxis\": {\"gridcolor\": \"white\", \"linecolor\": \"white\", \"ticks\": \"\"}}, \"title\": {\"x\": 0.05}, \"xaxis\": {\"automargin\": true, \"gridcolor\": \"white\", \"linecolor\": \"white\", \"ticks\": \"\", \"title\": {\"standoff\": 15}, \"zerolinecolor\": \"white\", \"zerolinewidth\": 2}, \"yaxis\": {\"automargin\": true, \"gridcolor\": \"white\", \"linecolor\": \"white\", \"ticks\": \"\", \"title\": {\"standoff\": 15}, \"zerolinecolor\": \"white\", \"zerolinewidth\": 2}}}, \"width\": 800, \"xaxis\": {\"color\": \"grey\", \"title\": {\"font\": {\"color\": \"grey\"}, \"text\": \"Time of writing code\"}}, \"yaxis\": {\"color\": \"grey\", \"title\": {\"font\": {\"color\": \"grey\"}, \"text\": \"Average Salary (USD per Year)\"}}},\n",
              "                        {\"responsive\": true}\n",
              "                    ).then(function(){\n",
              "                            \n",
              "var gd = document.getElementById('fa478091-f6c7-4ff0-ba38-ffab5ad762ef');\n",
              "var x = new MutationObserver(function (mutations, observer) {{\n",
              "        var display = window.getComputedStyle(gd).display;\n",
              "        if (!display || display === 'none') {{\n",
              "            console.log([gd, 'removed!']);\n",
              "            Plotly.purge(gd);\n",
              "            observer.disconnect();\n",
              "        }}\n",
              "}});\n",
              "\n",
              "// Listen for the removal of the full notebook cells\n",
              "var notebookContainer = gd.closest('#notebook-container');\n",
              "if (notebookContainer) {{\n",
              "    x.observe(notebookContainer, {childList: true});\n",
              "}}\n",
              "\n",
              "// Listen for the clearing of the current output cell\n",
              "var outputEl = gd.closest('.output');\n",
              "if (outputEl) {{\n",
              "    x.observe(outputEl, {childList: true});\n",
              "}}\n",
              "\n",
              "                        })\n",
              "                };\n",
              "                \n",
              "            </script>\n",
              "        </div>\n",
              "</body>\n",
              "</html>"
            ]
          },
          "metadata": {
            "tags": []
          }
        }
      ]
    },
    {
      "cell_type": "markdown",
      "metadata": {
        "id": "H8q7v65UuauG"
      },
      "source": [
        "#### Company size"
      ]
    },
    {
      "cell_type": "code",
      "metadata": {
        "colab": {
          "base_uri": "https://localhost:8080/",
          "height": 517
        },
        "id": "upAPzW4o4t78",
        "outputId": "6f5d1d79-e99e-497e-d935-cb94dbcab197"
      },
      "source": [
        "salary_line_plot = LinePlot()\n",
        "\n",
        "COMPANY_SIZE = [\n",
        "    '0-49 employees', \n",
        "    '50-249 employees', \n",
        "    '250-999 employees', \n",
        "    '1000-9,999 employees', \n",
        "    '> 10,000 employees'\n",
        "]\n",
        "\n",
        "plot_lines(\n",
        "    salary_line_plot, \n",
        "    data=kaggle,\n",
        "    traces=JOB_TITLES, \n",
        "    x_names=COMPANY_SIZE, \n",
        "    agg_column='Salary', \n",
        "    group_column='CompanySize',\n",
        "    trace_column='JobTitle', \n",
        "    hover_template='U$%{y:,.2r}'\n",
        ")\n",
        "\n",
        "xaxis_title='Company size'\n",
        "yaxis_title='Average Salary (USD per Year)'\n",
        "salary_line_plot.update_axis_title(xaxis_title, yaxis_title)\n",
        "salary_line_plot.show()"
      ],
      "execution_count": 75,
      "outputs": [
        {
          "output_type": "display_data",
          "data": {
            "text/html": [
              "<html>\n",
              "<head><meta charset=\"utf-8\" /></head>\n",
              "<body>\n",
              "    <div>\n",
              "            <script src=\"https://cdnjs.cloudflare.com/ajax/libs/mathjax/2.7.5/MathJax.js?config=TeX-AMS-MML_SVG\"></script><script type=\"text/javascript\">if (window.MathJax) {MathJax.Hub.Config({SVG: {font: \"STIX-Web\"}});}</script>\n",
              "                <script type=\"text/javascript\">window.PlotlyConfig = {MathJaxConfig: 'local'};</script>\n",
              "        <script src=\"https://cdn.plot.ly/plotly-latest.min.js\"></script>    \n",
              "            <div id=\"8406538c-c792-4d56-beda-169e537a5db6\" class=\"plotly-graph-div\" style=\"height:500px; width:800px;\"></div>\n",
              "            <script type=\"text/javascript\">\n",
              "                \n",
              "                    window.PLOTLYENV=window.PLOTLYENV || {};\n",
              "                    \n",
              "                if (document.getElementById(\"8406538c-c792-4d56-beda-169e537a5db6\")) {\n",
              "                    Plotly.newPlot(\n",
              "                        '8406538c-c792-4d56-beda-169e537a5db6',\n",
              "                        [{\"hoverinfo\": \"name+y\", \"hovertemplate\": \"U$%{y:,.2r}\", \"line\": {\"shape\": \"spline\", \"smoothing\": 0.8, \"width\": 1.6}, \"mode\": \"lines\", \"name\": \"Business Analyst\", \"type\": \"scatter\", \"x\": [\"0-49 employees\", \"50-249 employees\", \"250-999 employees\", \"1000-9,999 employees\", \"> 10,000 employees\"], \"y\": [15208.646666666615, 14006.299499999994, 12710.134916666679, 18431.626222602692, 21085.03546078426]}, {\"hoverinfo\": \"name+y\", \"hovertemplate\": \"U$%{y:,.2r}\", \"line\": {\"shape\": \"spline\", \"smoothing\": 0.8, \"width\": 1.6}, \"mode\": \"lines\", \"name\": \"Data Analyst\", \"type\": \"scatter\", \"x\": [\"0-49 employees\", \"50-249 employees\", \"250-999 employees\", \"1000-9,999 employees\", \"> 10,000 employees\"], \"y\": [9093.167753968202, 14474.773807870315, 16901.451276649685, 19108.841025423662, 20036.07900766277]}, {\"hoverinfo\": \"name+y\", \"hovertemplate\": \"U$%{y:,.2r}\", \"line\": {\"shape\": \"spline\", \"smoothing\": 0.8, \"width\": 1.6}, \"mode\": \"lines\", \"name\": \"Data Scientist\", \"type\": \"scatter\", \"x\": [\"0-49 employees\", \"50-249 employees\", \"250-999 employees\", \"1000-9,999 employees\", \"> 10,000 employees\"], \"y\": [18759.092881474284, 24316.83697974251, 26725.24384799013, 31983.344320433487, 31951.84620101763]}, {\"hoverinfo\": \"name+y\", \"hovertemplate\": \"U$%{y:,.2r}\", \"line\": {\"shape\": \"spline\", \"smoothing\": 0.8, \"width\": 1.6}, \"mode\": \"lines\", \"name\": \"Data Engineer/DBA\", \"type\": \"scatter\", \"x\": [\"0-49 employees\", \"50-249 employees\", \"250-999 employees\", \"1000-9,999 employees\", \"> 10,000 employees\"], \"y\": [18301.644773648604, 19685.61488461535, 21915.86894999996, 24714.937015151463, 24819.053306961967]}, {\"hoverinfo\": \"name+y\", \"hovertemplate\": \"U$%{y:,.2r}\", \"line\": {\"shape\": \"spline\", \"smoothing\": 0.8, \"width\": 1.6}, \"mode\": \"lines\", \"name\": \"Software Engineer\", \"type\": \"scatter\", \"x\": [\"0-49 employees\", \"50-249 employees\", \"250-999 employees\", \"1000-9,999 employees\", \"> 10,000 employees\"], \"y\": [13880.58133408411, 16656.38316343484, 17052.788930107476, 21275.695986238465, 22786.936419962596]}, {\"hoverinfo\": \"name+y\", \"hovertemplate\": \"U$%{y:,.2r}\", \"line\": {\"shape\": \"spline\", \"smoothing\": 0.8, \"width\": 1.6}, \"mode\": \"lines\", \"name\": \"Statistician/Research Scientist\", \"type\": \"scatter\", \"x\": [\"0-49 employees\", \"50-249 employees\", \"250-999 employees\", \"1000-9,999 employees\", \"> 10,000 employees\"], \"y\": [14245.493396087953, 20077.03506681028, 18155.410142553126, 21843.15874917485, 34557.75535514012]}],\n",
              "                        {\"height\": 500, \"legend\": {\"font\": {\"color\": \"gray\"}, \"itemclick\": \"toggleothers\", \"itemdoubleclick\": \"toggle\"}, \"showlegend\": true, \"template\": {\"data\": {\"bar\": [{\"error_x\": {\"color\": \"#2a3f5f\"}, \"error_y\": {\"color\": \"#2a3f5f\"}, \"marker\": {\"line\": {\"color\": \"#E5ECF6\", \"width\": 0.5}}, \"type\": \"bar\"}], \"barpolar\": [{\"marker\": {\"line\": {\"color\": \"#E5ECF6\", \"width\": 0.5}}, \"type\": \"barpolar\"}], \"carpet\": [{\"aaxis\": {\"endlinecolor\": \"#2a3f5f\", \"gridcolor\": \"white\", \"linecolor\": \"white\", \"minorgridcolor\": \"white\", \"startlinecolor\": \"#2a3f5f\"}, \"baxis\": {\"endlinecolor\": \"#2a3f5f\", \"gridcolor\": \"white\", \"linecolor\": \"white\", \"minorgridcolor\": \"white\", \"startlinecolor\": \"#2a3f5f\"}, \"type\": \"carpet\"}], \"choropleth\": [{\"colorbar\": {\"outlinewidth\": 0, \"ticks\": \"\"}, \"type\": \"choropleth\"}], \"contour\": [{\"colorbar\": {\"outlinewidth\": 0, \"ticks\": \"\"}, \"colorscale\": [[0.0, \"#0d0887\"], [0.1111111111111111, \"#46039f\"], [0.2222222222222222, \"#7201a8\"], [0.3333333333333333, \"#9c179e\"], [0.4444444444444444, \"#bd3786\"], [0.5555555555555556, \"#d8576b\"], [0.6666666666666666, \"#ed7953\"], [0.7777777777777778, \"#fb9f3a\"], [0.8888888888888888, \"#fdca26\"], [1.0, \"#f0f921\"]], \"type\": \"contour\"}], \"contourcarpet\": [{\"colorbar\": {\"outlinewidth\": 0, \"ticks\": \"\"}, \"type\": \"contourcarpet\"}], \"heatmap\": [{\"colorbar\": {\"outlinewidth\": 0, \"ticks\": \"\"}, \"colorscale\": [[0.0, \"#0d0887\"], [0.1111111111111111, \"#46039f\"], [0.2222222222222222, \"#7201a8\"], [0.3333333333333333, \"#9c179e\"], [0.4444444444444444, \"#bd3786\"], [0.5555555555555556, \"#d8576b\"], [0.6666666666666666, \"#ed7953\"], [0.7777777777777778, \"#fb9f3a\"], [0.8888888888888888, \"#fdca26\"], [1.0, \"#f0f921\"]], \"type\": \"heatmap\"}], \"heatmapgl\": [{\"colorbar\": {\"outlinewidth\": 0, \"ticks\": \"\"}, \"colorscale\": [[0.0, \"#0d0887\"], [0.1111111111111111, \"#46039f\"], [0.2222222222222222, \"#7201a8\"], [0.3333333333333333, \"#9c179e\"], [0.4444444444444444, \"#bd3786\"], [0.5555555555555556, \"#d8576b\"], [0.6666666666666666, \"#ed7953\"], [0.7777777777777778, \"#fb9f3a\"], [0.8888888888888888, \"#fdca26\"], [1.0, \"#f0f921\"]], \"type\": \"heatmapgl\"}], \"histogram\": [{\"marker\": {\"colorbar\": {\"outlinewidth\": 0, \"ticks\": \"\"}}, \"type\": \"histogram\"}], \"histogram2d\": [{\"colorbar\": {\"outlinewidth\": 0, \"ticks\": \"\"}, \"colorscale\": [[0.0, \"#0d0887\"], [0.1111111111111111, \"#46039f\"], [0.2222222222222222, \"#7201a8\"], [0.3333333333333333, \"#9c179e\"], [0.4444444444444444, \"#bd3786\"], [0.5555555555555556, \"#d8576b\"], [0.6666666666666666, \"#ed7953\"], [0.7777777777777778, \"#fb9f3a\"], [0.8888888888888888, \"#fdca26\"], [1.0, \"#f0f921\"]], \"type\": \"histogram2d\"}], \"histogram2dcontour\": [{\"colorbar\": {\"outlinewidth\": 0, \"ticks\": \"\"}, \"colorscale\": [[0.0, \"#0d0887\"], [0.1111111111111111, \"#46039f\"], [0.2222222222222222, \"#7201a8\"], [0.3333333333333333, \"#9c179e\"], [0.4444444444444444, \"#bd3786\"], [0.5555555555555556, \"#d8576b\"], [0.6666666666666666, \"#ed7953\"], [0.7777777777777778, \"#fb9f3a\"], [0.8888888888888888, \"#fdca26\"], [1.0, \"#f0f921\"]], \"type\": \"histogram2dcontour\"}], \"mesh3d\": [{\"colorbar\": {\"outlinewidth\": 0, \"ticks\": \"\"}, \"type\": \"mesh3d\"}], \"parcoords\": [{\"line\": {\"colorbar\": {\"outlinewidth\": 0, \"ticks\": \"\"}}, \"type\": \"parcoords\"}], \"pie\": [{\"automargin\": true, \"type\": \"pie\"}], \"scatter\": [{\"marker\": {\"colorbar\": {\"outlinewidth\": 0, \"ticks\": \"\"}}, \"type\": \"scatter\"}], \"scatter3d\": [{\"line\": {\"colorbar\": {\"outlinewidth\": 0, \"ticks\": \"\"}}, \"marker\": {\"colorbar\": {\"outlinewidth\": 0, \"ticks\": \"\"}}, \"type\": \"scatter3d\"}], \"scattercarpet\": [{\"marker\": {\"colorbar\": {\"outlinewidth\": 0, \"ticks\": \"\"}}, \"type\": \"scattercarpet\"}], \"scattergeo\": [{\"marker\": {\"colorbar\": {\"outlinewidth\": 0, \"ticks\": \"\"}}, \"type\": \"scattergeo\"}], \"scattergl\": [{\"marker\": {\"colorbar\": {\"outlinewidth\": 0, \"ticks\": \"\"}}, \"type\": \"scattergl\"}], \"scattermapbox\": [{\"marker\": {\"colorbar\": {\"outlinewidth\": 0, \"ticks\": \"\"}}, \"type\": \"scattermapbox\"}], \"scatterpolar\": [{\"marker\": {\"colorbar\": {\"outlinewidth\": 0, \"ticks\": \"\"}}, \"type\": \"scatterpolar\"}], \"scatterpolargl\": [{\"marker\": {\"colorbar\": {\"outlinewidth\": 0, \"ticks\": \"\"}}, \"type\": \"scatterpolargl\"}], \"scatterternary\": [{\"marker\": {\"colorbar\": {\"outlinewidth\": 0, \"ticks\": \"\"}}, \"type\": \"scatterternary\"}], \"surface\": [{\"colorbar\": {\"outlinewidth\": 0, \"ticks\": \"\"}, \"colorscale\": [[0.0, \"#0d0887\"], [0.1111111111111111, \"#46039f\"], [0.2222222222222222, \"#7201a8\"], [0.3333333333333333, \"#9c179e\"], [0.4444444444444444, \"#bd3786\"], [0.5555555555555556, \"#d8576b\"], [0.6666666666666666, \"#ed7953\"], [0.7777777777777778, \"#fb9f3a\"], [0.8888888888888888, \"#fdca26\"], [1.0, \"#f0f921\"]], \"type\": \"surface\"}], \"table\": [{\"cells\": {\"fill\": {\"color\": \"#EBF0F8\"}, \"line\": {\"color\": \"white\"}}, \"header\": {\"fill\": {\"color\": \"#C8D4E3\"}, \"line\": {\"color\": \"white\"}}, \"type\": \"table\"}]}, \"layout\": {\"annotationdefaults\": {\"arrowcolor\": \"#2a3f5f\", \"arrowhead\": 0, \"arrowwidth\": 1}, \"coloraxis\": {\"colorbar\": {\"outlinewidth\": 0, \"ticks\": \"\"}}, \"colorscale\": {\"diverging\": [[0, \"#8e0152\"], [0.1, \"#c51b7d\"], [0.2, \"#de77ae\"], [0.3, \"#f1b6da\"], [0.4, \"#fde0ef\"], [0.5, \"#f7f7f7\"], [0.6, \"#e6f5d0\"], [0.7, \"#b8e186\"], [0.8, \"#7fbc41\"], [0.9, \"#4d9221\"], [1, \"#276419\"]], \"sequential\": [[0.0, \"#0d0887\"], [0.1111111111111111, \"#46039f\"], [0.2222222222222222, \"#7201a8\"], [0.3333333333333333, \"#9c179e\"], [0.4444444444444444, \"#bd3786\"], [0.5555555555555556, \"#d8576b\"], [0.6666666666666666, \"#ed7953\"], [0.7777777777777778, \"#fb9f3a\"], [0.8888888888888888, \"#fdca26\"], [1.0, \"#f0f921\"]], \"sequentialminus\": [[0.0, \"#0d0887\"], [0.1111111111111111, \"#46039f\"], [0.2222222222222222, \"#7201a8\"], [0.3333333333333333, \"#9c179e\"], [0.4444444444444444, \"#bd3786\"], [0.5555555555555556, \"#d8576b\"], [0.6666666666666666, \"#ed7953\"], [0.7777777777777778, \"#fb9f3a\"], [0.8888888888888888, \"#fdca26\"], [1.0, \"#f0f921\"]]}, \"colorway\": [\"#636efa\", \"#EF553B\", \"#00cc96\", \"#ab63fa\", \"#FFA15A\", \"#19d3f3\", \"#FF6692\", \"#B6E880\", \"#FF97FF\", \"#FECB52\"], \"font\": {\"color\": \"#2a3f5f\"}, \"geo\": {\"bgcolor\": \"white\", \"lakecolor\": \"white\", \"landcolor\": \"#E5ECF6\", \"showlakes\": true, \"showland\": true, \"subunitcolor\": \"white\"}, \"hoverlabel\": {\"align\": \"left\"}, \"hovermode\": \"closest\", \"mapbox\": {\"style\": \"light\"}, \"paper_bgcolor\": \"white\", \"plot_bgcolor\": \"#E5ECF6\", \"polar\": {\"angularaxis\": {\"gridcolor\": \"white\", \"linecolor\": \"white\", \"ticks\": \"\"}, \"bgcolor\": \"#E5ECF6\", \"radialaxis\": {\"gridcolor\": \"white\", \"linecolor\": \"white\", \"ticks\": \"\"}}, \"scene\": {\"xaxis\": {\"backgroundcolor\": \"#E5ECF6\", \"gridcolor\": \"white\", \"gridwidth\": 2, \"linecolor\": \"white\", \"showbackground\": true, \"ticks\": \"\", \"zerolinecolor\": \"white\"}, \"yaxis\": {\"backgroundcolor\": \"#E5ECF6\", \"gridcolor\": \"white\", \"gridwidth\": 2, \"linecolor\": \"white\", \"showbackground\": true, \"ticks\": \"\", \"zerolinecolor\": \"white\"}, \"zaxis\": {\"backgroundcolor\": \"#E5ECF6\", \"gridcolor\": \"white\", \"gridwidth\": 2, \"linecolor\": \"white\", \"showbackground\": true, \"ticks\": \"\", \"zerolinecolor\": \"white\"}}, \"shapedefaults\": {\"line\": {\"color\": \"#2a3f5f\"}}, \"ternary\": {\"aaxis\": {\"gridcolor\": \"white\", \"linecolor\": \"white\", \"ticks\": \"\"}, \"baxis\": {\"gridcolor\": \"white\", \"linecolor\": \"white\", \"ticks\": \"\"}, \"bgcolor\": \"#E5ECF6\", \"caxis\": {\"gridcolor\": \"white\", \"linecolor\": \"white\", \"ticks\": \"\"}}, \"title\": {\"x\": 0.05}, \"xaxis\": {\"automargin\": true, \"gridcolor\": \"white\", \"linecolor\": \"white\", \"ticks\": \"\", \"title\": {\"standoff\": 15}, \"zerolinecolor\": \"white\", \"zerolinewidth\": 2}, \"yaxis\": {\"automargin\": true, \"gridcolor\": \"white\", \"linecolor\": \"white\", \"ticks\": \"\", \"title\": {\"standoff\": 15}, \"zerolinecolor\": \"white\", \"zerolinewidth\": 2}}}, \"width\": 800, \"xaxis\": {\"color\": \"grey\", \"title\": {\"font\": {\"color\": \"grey\"}, \"text\": \"Company size\"}}, \"yaxis\": {\"color\": \"grey\", \"title\": {\"font\": {\"color\": \"grey\"}, \"text\": \"Average Salary (USD per Year)\"}}},\n",
              "                        {\"responsive\": true}\n",
              "                    ).then(function(){\n",
              "                            \n",
              "var gd = document.getElementById('8406538c-c792-4d56-beda-169e537a5db6');\n",
              "var x = new MutationObserver(function (mutations, observer) {{\n",
              "        var display = window.getComputedStyle(gd).display;\n",
              "        if (!display || display === 'none') {{\n",
              "            console.log([gd, 'removed!']);\n",
              "            Plotly.purge(gd);\n",
              "            observer.disconnect();\n",
              "        }}\n",
              "}});\n",
              "\n",
              "// Listen for the removal of the full notebook cells\n",
              "var notebookContainer = gd.closest('#notebook-container');\n",
              "if (notebookContainer) {{\n",
              "    x.observe(notebookContainer, {childList: true});\n",
              "}}\n",
              "\n",
              "// Listen for the clearing of the current output cell\n",
              "var outputEl = gd.closest('.output');\n",
              "if (outputEl) {{\n",
              "    x.observe(outputEl, {childList: true});\n",
              "}}\n",
              "\n",
              "                        })\n",
              "                };\n",
              "                \n",
              "            </script>\n",
              "        </div>\n",
              "</body>\n",
              "</html>"
            ]
          },
          "metadata": {
            "tags": []
          }
        }
      ]
    },
    {
      "cell_type": "markdown",
      "metadata": {
        "id": "1KU2KFfw5Hd0"
      },
      "source": [
        "### Job skills"
      ]
    },
    {
      "cell_type": "code",
      "metadata": {
        "id": "0eswEtE27IUy"
      },
      "source": [
        "def plot_polar(polar_plot, data, traces, x_names, agg_column, group_column, trace_column, hover_template):\n",
        "\n",
        "    data_cp = data.copy() \n",
        "\n",
        "    for trace_name in traces:\n",
        "\n",
        "        if agg_column in ('JobDescription', 'CloudPlatf'): \n",
        "            data_cp['TempCol'] = data_cp[agg_column].apply(lambda x: trace_name.lower() in x) \n",
        "        else: \n",
        "            data_cp['TempCol'] = data_cp[agg_column].apply(lambda x: trace_name in x) \n",
        "\n",
        "        plot_data = data_cp.groupby([group_column], as_index=False).agg({'TempCol': ['sum', 'count']}) \n",
        "        plot_data['TempColPct'] = plot_data['TempCol']['sum'] / plot_data['TempCol']['count'] * 100 \n",
        "        plot_data = plot_data.TempColPct.tolist() \n",
        "        polar_plot.add_data(plot_data, trace_name, hover_template) "
      ],
      "execution_count": 76,
      "outputs": []
    },
    {
      "cell_type": "markdown",
      "metadata": {
        "id": "IPM6RA_O8T31"
      },
      "source": [
        "#### Popularity of different programming languages in Kaggle"
      ]
    },
    {
      "cell_type": "code",
      "metadata": {
        "colab": {
          "base_uri": "https://localhost:8080/",
          "height": 517
        },
        "id": "Gfm1RYHb7b4O",
        "outputId": "3e6b542f-1e62-4c93-8cb4-c5c899294539"
      },
      "source": [
        "job_skills_polar_plot = PolarPlot()\n",
        "\n",
        "SKILLS = ['Bash', 'C', 'C++', 'Java', 'Javascript', 'MATLAB', \n",
        "          'Other', 'Python', 'R', 'SQL', 'TypeScript'] \n",
        "\n",
        "plot_polar(\n",
        "    job_skills_polar_plot, \n",
        "    data=kaggle,\n",
        "    traces=SKILLS, \n",
        "    x_names=JOB_TITLES, \n",
        "    agg_column='ProgLang', \n",
        "    group_column='JobTitle',\n",
        "    trace_column='ProgLang', \n",
        "    hover_template='%{r:0.0f}%'\n",
        ")\n",
        "\n",
        "job_skills_polar_plot.figure.update_layout(\n",
        "    polar_radialaxis_tickvals=[25, 50, 75],\n",
        "    polar_radialaxis_ticktext=['25%', '50%', '75%'],\n",
        "    polar_radialaxis_tickmode='array',\n",
        ")\n",
        "\n",
        "job_skills_polar_plot.show()"
      ],
      "execution_count": 77,
      "outputs": [
        {
          "output_type": "display_data",
          "data": {
            "text/html": [
              "<html>\n",
              "<head><meta charset=\"utf-8\" /></head>\n",
              "<body>\n",
              "    <div>\n",
              "            <script src=\"https://cdnjs.cloudflare.com/ajax/libs/mathjax/2.7.5/MathJax.js?config=TeX-AMS-MML_SVG\"></script><script type=\"text/javascript\">if (window.MathJax) {MathJax.Hub.Config({SVG: {font: \"STIX-Web\"}});}</script>\n",
              "                <script type=\"text/javascript\">window.PlotlyConfig = {MathJaxConfig: 'local'};</script>\n",
              "        <script src=\"https://cdn.plot.ly/plotly-latest.min.js\"></script>    \n",
              "            <div id=\"3e6d2809-d7da-4e2d-8277-802e288121e5\" class=\"plotly-graph-div\" style=\"height:500px; width:800px;\"></div>\n",
              "            <script type=\"text/javascript\">\n",
              "                \n",
              "                    window.PLOTLYENV=window.PLOTLYENV || {};\n",
              "                    \n",
              "                if (document.getElementById(\"3e6d2809-d7da-4e2d-8277-802e288121e5\")) {\n",
              "                    Plotly.newPlot(\n",
              "                        '3e6d2809-d7da-4e2d-8277-802e288121e5',\n",
              "                        [{\"hoverinfo\": \"name+r\", \"hovertemplate\": \"%{r:0.0f}%\", \"line\": {\"shape\": \"spline\", \"smoothing\": 0.8}, \"mode\": \"lines\", \"name\": \"Bash\", \"r\": [3.1561461794019934, 6.386292834890965, 18.418714835652946, 21.044303797468356, 16.959334565619226, 16.08040201005025, 3.1561461794019934], \"showlegend\": true, \"theta\": [\"Business Analyst\", \"Data Analyst\", \"Data Scientist\", \"Data Engineer/DBA\", \"Software Engineer\", \"Statistician/Research Scientist\", \"Business Analyst\"], \"type\": \"scatterpolar\"}, {\"hoverinfo\": \"name+r\", \"hovertemplate\": \"%{r:0.0f}%\", \"line\": {\"shape\": \"spline\", \"smoothing\": 0.8}, \"mode\": \"lines\", \"name\": \"C\", \"r\": [3.6544850498338874, 4.049844236760125, 5.241338466094167, 6.170886075949367, 13.585951940850277, 11.844938980617373, 3.6544850498338874], \"showlegend\": true, \"theta\": [\"Business Analyst\", \"Data Analyst\", \"Data Scientist\", \"Data Engineer/DBA\", \"Software Engineer\", \"Statistician/Research Scientist\", \"Business Analyst\"], \"type\": \"scatterpolar\"}, {\"hoverinfo\": \"name+r\", \"hovertemplate\": \"%{r:0.0f}%\", \"line\": {\"shape\": \"spline\", \"smoothing\": 0.8}, \"mode\": \"lines\", \"name\": \"C++\", \"r\": [5.48172757475083, 4.361370716510903, 8.469055374592834, 8.544303797468354, 19.038817005545287, 18.664752333094043, 5.48172757475083], \"showlegend\": true, \"theta\": [\"Business Analyst\", \"Data Analyst\", \"Data Scientist\", \"Data Engineer/DBA\", \"Software Engineer\", \"Statistician/Research Scientist\", \"Business Analyst\"], \"type\": \"scatterpolar\"}, {\"hoverinfo\": \"name+r\", \"hovertemplate\": \"%{r:0.0f}%\", \"line\": {\"shape\": \"spline\", \"smoothing\": 0.8}, \"mode\": \"lines\", \"name\": \"Java\", \"r\": [5.48172757475083, 5.529595015576324, 9.0316849274504, 15.822784810126583, 28.835489833641404, 11.773151471643933, 5.48172757475083], \"showlegend\": true, \"theta\": [\"Business Analyst\", \"Data Analyst\", \"Data Scientist\", \"Data Engineer/DBA\", \"Software Engineer\", \"Statistician/Research Scientist\", \"Business Analyst\"], \"type\": \"scatterpolar\"}, {\"hoverinfo\": \"name+r\", \"hovertemplate\": \"%{r:0.0f}%\", \"line\": {\"shape\": \"spline\", \"smoothing\": 0.8}, \"mode\": \"lines\", \"name\": \"Javascript\", \"r\": [8.13953488372093, 7.398753894080996, 9.683150725496002, 14.556962025316455, 32.116451016635864, 8.686288585786073, 8.13953488372093], \"showlegend\": true, \"theta\": [\"Business Analyst\", \"Data Analyst\", \"Data Scientist\", \"Data Engineer/DBA\", \"Software Engineer\", \"Statistician/Research Scientist\", \"Business Analyst\"], \"type\": \"scatterpolar\"}, {\"hoverinfo\": \"name+r\", \"hovertemplate\": \"%{r:0.0f}%\", \"line\": {\"shape\": \"spline\", \"smoothing\": 0.8}, \"mode\": \"lines\", \"name\": \"MATLAB\", \"r\": [4.651162790697675, 5.685358255451713, 6.040864672786497, 5.379746835443038, 5.129390018484288, 22.038765254845657, 4.651162790697675], \"showlegend\": true, \"theta\": [\"Business Analyst\", \"Data Analyst\", \"Data Scientist\", \"Data Engineer/DBA\", \"Software Engineer\", \"Statistician/Research Scientist\", \"Business Analyst\"], \"type\": \"scatterpolar\"}, {\"hoverinfo\": \"name+r\", \"hovertemplate\": \"%{r:0.0f}%\", \"line\": {\"shape\": \"spline\", \"smoothing\": 0.8}, \"mode\": \"lines\", \"name\": \"Other\", \"r\": [5.813953488372093, 5.919003115264798, 6.514657980456026, 8.702531645569621, 15.064695009242143, 7.035175879396985, 5.813953488372093], \"showlegend\": true, \"theta\": [\"Business Analyst\", \"Data Analyst\", \"Data Scientist\", \"Data Engineer/DBA\", \"Software Engineer\", \"Statistician/Research Scientist\", \"Business Analyst\"], \"type\": \"scatterpolar\"}, {\"hoverinfo\": \"name+r\", \"hovertemplate\": \"%{r:0.0f}%\", \"line\": {\"shape\": \"spline\", \"smoothing\": 0.8}, \"mode\": \"lines\", \"name\": \"Python\", \"r\": [65.4485049833887, 72.35202492211839, 88.42167604382588, 78.63924050632912, 76.43253234750462, 75.52045944005744, 65.4485049833887], \"showlegend\": true, \"theta\": [\"Business Analyst\", \"Data Analyst\", \"Data Scientist\", \"Data Engineer/DBA\", \"Software Engineer\", \"Statistician/Research Scientist\", \"Business Analyst\"], \"type\": \"scatterpolar\"}, {\"hoverinfo\": \"name+r\", \"hovertemplate\": \"%{r:0.0f}%\", \"line\": {\"shape\": \"spline\", \"smoothing\": 0.8}, \"mode\": \"lines\", \"name\": \"R\", \"r\": [30.23255813953488, 40.42056074766355, 38.49570624814925, 25.4746835443038, 11.922365988909426, 37.76022972002872, 30.23255813953488], \"showlegend\": true, \"theta\": [\"Business Analyst\", \"Data Analyst\", \"Data Scientist\", \"Data Engineer/DBA\", \"Software Engineer\", \"Statistician/Research Scientist\", \"Business Analyst\"], \"type\": \"scatterpolar\"}, {\"hoverinfo\": \"name+r\", \"hovertemplate\": \"%{r:0.0f}%\", \"line\": {\"shape\": \"spline\", \"smoothing\": 0.8}, \"mode\": \"lines\", \"name\": \"SQL\", \"r\": [45.348837209302324, 59.112149532710276, 54.13088540124371, 62.65822784810127, 41.54343807763401, 23.40272792534099, 45.348837209302324], \"showlegend\": true, \"theta\": [\"Business Analyst\", \"Data Analyst\", \"Data Scientist\", \"Data Engineer/DBA\", \"Software Engineer\", \"Statistician/Research Scientist\", \"Business Analyst\"], \"type\": \"scatterpolar\"}, {\"hoverinfo\": \"name+r\", \"hovertemplate\": \"%{r:0.0f}%\", \"line\": {\"shape\": \"spline\", \"smoothing\": 0.8}, \"mode\": \"lines\", \"name\": \"TypeScript\", \"r\": [1.3289036544850499, 0.7009345794392523, 1.2733195143618596, 2.3734177215189876, 9.242144177449168, 1.6511127063890882, 1.3289036544850499], \"showlegend\": true, \"theta\": [\"Business Analyst\", \"Data Analyst\", \"Data Scientist\", \"Data Engineer/DBA\", \"Software Engineer\", \"Statistician/Research Scientist\", \"Business Analyst\"], \"type\": \"scatterpolar\"}],\n",
              "                        {\"height\": 500, \"legend\": {\"itemclick\": \"toggleothers\", \"itemdoubleclick\": \"toggle\"}, \"polar\": {\"radialaxis\": {\"range\": [0, 97.26384364820848], \"tickmode\": \"array\", \"ticktext\": [\"25%\", \"50%\", \"75%\"], \"tickvals\": [25, 50, 75]}}, \"showlegend\": true, \"template\": {\"data\": {\"bar\": [{\"error_x\": {\"color\": \"#2a3f5f\"}, \"error_y\": {\"color\": \"#2a3f5f\"}, \"marker\": {\"line\": {\"color\": \"#E5ECF6\", \"width\": 0.5}}, \"type\": \"bar\"}], \"barpolar\": [{\"marker\": {\"line\": {\"color\": \"#E5ECF6\", \"width\": 0.5}}, \"type\": \"barpolar\"}], \"carpet\": [{\"aaxis\": {\"endlinecolor\": \"#2a3f5f\", \"gridcolor\": \"white\", \"linecolor\": \"white\", \"minorgridcolor\": \"white\", \"startlinecolor\": \"#2a3f5f\"}, \"baxis\": {\"endlinecolor\": \"#2a3f5f\", \"gridcolor\": \"white\", \"linecolor\": \"white\", \"minorgridcolor\": \"white\", \"startlinecolor\": \"#2a3f5f\"}, \"type\": \"carpet\"}], \"choropleth\": [{\"colorbar\": {\"outlinewidth\": 0, \"ticks\": \"\"}, \"type\": \"choropleth\"}], \"contour\": [{\"colorbar\": {\"outlinewidth\": 0, \"ticks\": \"\"}, \"colorscale\": [[0.0, \"#0d0887\"], [0.1111111111111111, \"#46039f\"], [0.2222222222222222, \"#7201a8\"], [0.3333333333333333, \"#9c179e\"], [0.4444444444444444, \"#bd3786\"], [0.5555555555555556, \"#d8576b\"], [0.6666666666666666, \"#ed7953\"], [0.7777777777777778, \"#fb9f3a\"], [0.8888888888888888, \"#fdca26\"], [1.0, \"#f0f921\"]], \"type\": \"contour\"}], \"contourcarpet\": [{\"colorbar\": {\"outlinewidth\": 0, \"ticks\": \"\"}, \"type\": \"contourcarpet\"}], \"heatmap\": [{\"colorbar\": {\"outlinewidth\": 0, \"ticks\": \"\"}, \"colorscale\": [[0.0, \"#0d0887\"], [0.1111111111111111, \"#46039f\"], [0.2222222222222222, \"#7201a8\"], [0.3333333333333333, \"#9c179e\"], [0.4444444444444444, \"#bd3786\"], [0.5555555555555556, \"#d8576b\"], [0.6666666666666666, \"#ed7953\"], [0.7777777777777778, \"#fb9f3a\"], [0.8888888888888888, \"#fdca26\"], [1.0, \"#f0f921\"]], \"type\": \"heatmap\"}], \"heatmapgl\": [{\"colorbar\": {\"outlinewidth\": 0, \"ticks\": \"\"}, \"colorscale\": [[0.0, \"#0d0887\"], [0.1111111111111111, \"#46039f\"], [0.2222222222222222, \"#7201a8\"], [0.3333333333333333, \"#9c179e\"], [0.4444444444444444, \"#bd3786\"], [0.5555555555555556, \"#d8576b\"], [0.6666666666666666, \"#ed7953\"], [0.7777777777777778, \"#fb9f3a\"], [0.8888888888888888, \"#fdca26\"], [1.0, \"#f0f921\"]], \"type\": \"heatmapgl\"}], \"histogram\": [{\"marker\": {\"colorbar\": {\"outlinewidth\": 0, \"ticks\": \"\"}}, \"type\": \"histogram\"}], \"histogram2d\": [{\"colorbar\": {\"outlinewidth\": 0, \"ticks\": \"\"}, \"colorscale\": [[0.0, \"#0d0887\"], [0.1111111111111111, \"#46039f\"], [0.2222222222222222, \"#7201a8\"], [0.3333333333333333, \"#9c179e\"], [0.4444444444444444, \"#bd3786\"], [0.5555555555555556, \"#d8576b\"], [0.6666666666666666, \"#ed7953\"], [0.7777777777777778, \"#fb9f3a\"], [0.8888888888888888, \"#fdca26\"], [1.0, \"#f0f921\"]], \"type\": \"histogram2d\"}], \"histogram2dcontour\": [{\"colorbar\": {\"outlinewidth\": 0, \"ticks\": \"\"}, \"colorscale\": [[0.0, \"#0d0887\"], [0.1111111111111111, \"#46039f\"], [0.2222222222222222, \"#7201a8\"], [0.3333333333333333, \"#9c179e\"], [0.4444444444444444, \"#bd3786\"], [0.5555555555555556, \"#d8576b\"], [0.6666666666666666, \"#ed7953\"], [0.7777777777777778, \"#fb9f3a\"], [0.8888888888888888, \"#fdca26\"], [1.0, \"#f0f921\"]], \"type\": \"histogram2dcontour\"}], \"mesh3d\": [{\"colorbar\": {\"outlinewidth\": 0, \"ticks\": \"\"}, \"type\": \"mesh3d\"}], \"parcoords\": [{\"line\": {\"colorbar\": {\"outlinewidth\": 0, \"ticks\": \"\"}}, \"type\": \"parcoords\"}], \"pie\": [{\"automargin\": true, \"type\": \"pie\"}], \"scatter\": [{\"marker\": {\"colorbar\": {\"outlinewidth\": 0, \"ticks\": \"\"}}, \"type\": \"scatter\"}], \"scatter3d\": [{\"line\": {\"colorbar\": {\"outlinewidth\": 0, \"ticks\": \"\"}}, \"marker\": {\"colorbar\": {\"outlinewidth\": 0, \"ticks\": \"\"}}, \"type\": \"scatter3d\"}], \"scattercarpet\": [{\"marker\": {\"colorbar\": {\"outlinewidth\": 0, \"ticks\": \"\"}}, \"type\": \"scattercarpet\"}], \"scattergeo\": [{\"marker\": {\"colorbar\": {\"outlinewidth\": 0, \"ticks\": \"\"}}, \"type\": \"scattergeo\"}], \"scattergl\": [{\"marker\": {\"colorbar\": {\"outlinewidth\": 0, \"ticks\": \"\"}}, \"type\": \"scattergl\"}], \"scattermapbox\": [{\"marker\": {\"colorbar\": {\"outlinewidth\": 0, \"ticks\": \"\"}}, \"type\": \"scattermapbox\"}], \"scatterpolar\": [{\"marker\": {\"colorbar\": {\"outlinewidth\": 0, \"ticks\": \"\"}}, \"type\": \"scatterpolar\"}], \"scatterpolargl\": [{\"marker\": {\"colorbar\": {\"outlinewidth\": 0, \"ticks\": \"\"}}, \"type\": \"scatterpolargl\"}], \"scatterternary\": [{\"marker\": {\"colorbar\": {\"outlinewidth\": 0, \"ticks\": \"\"}}, \"type\": \"scatterternary\"}], \"surface\": [{\"colorbar\": {\"outlinewidth\": 0, \"ticks\": \"\"}, \"colorscale\": [[0.0, \"#0d0887\"], [0.1111111111111111, \"#46039f\"], [0.2222222222222222, \"#7201a8\"], [0.3333333333333333, \"#9c179e\"], [0.4444444444444444, \"#bd3786\"], [0.5555555555555556, \"#d8576b\"], [0.6666666666666666, \"#ed7953\"], [0.7777777777777778, \"#fb9f3a\"], [0.8888888888888888, \"#fdca26\"], [1.0, \"#f0f921\"]], \"type\": \"surface\"}], \"table\": [{\"cells\": {\"fill\": {\"color\": \"#EBF0F8\"}, \"line\": {\"color\": \"white\"}}, \"header\": {\"fill\": {\"color\": \"#C8D4E3\"}, \"line\": {\"color\": \"white\"}}, \"type\": \"table\"}]}, \"layout\": {\"annotationdefaults\": {\"arrowcolor\": \"#2a3f5f\", \"arrowhead\": 0, \"arrowwidth\": 1}, \"coloraxis\": {\"colorbar\": {\"outlinewidth\": 0, \"ticks\": \"\"}}, \"colorscale\": {\"diverging\": [[0, \"#8e0152\"], [0.1, \"#c51b7d\"], [0.2, \"#de77ae\"], [0.3, \"#f1b6da\"], [0.4, \"#fde0ef\"], [0.5, \"#f7f7f7\"], [0.6, \"#e6f5d0\"], [0.7, \"#b8e186\"], [0.8, \"#7fbc41\"], [0.9, \"#4d9221\"], [1, \"#276419\"]], \"sequential\": [[0.0, \"#0d0887\"], [0.1111111111111111, \"#46039f\"], [0.2222222222222222, \"#7201a8\"], [0.3333333333333333, \"#9c179e\"], [0.4444444444444444, \"#bd3786\"], [0.5555555555555556, \"#d8576b\"], [0.6666666666666666, \"#ed7953\"], [0.7777777777777778, \"#fb9f3a\"], [0.8888888888888888, \"#fdca26\"], [1.0, \"#f0f921\"]], \"sequentialminus\": [[0.0, \"#0d0887\"], [0.1111111111111111, \"#46039f\"], [0.2222222222222222, \"#7201a8\"], [0.3333333333333333, \"#9c179e\"], [0.4444444444444444, \"#bd3786\"], [0.5555555555555556, \"#d8576b\"], [0.6666666666666666, \"#ed7953\"], [0.7777777777777778, \"#fb9f3a\"], [0.8888888888888888, \"#fdca26\"], [1.0, \"#f0f921\"]]}, \"colorway\": [\"#636efa\", \"#EF553B\", \"#00cc96\", \"#ab63fa\", \"#FFA15A\", \"#19d3f3\", \"#FF6692\", \"#B6E880\", \"#FF97FF\", \"#FECB52\"], \"font\": {\"color\": \"#2a3f5f\"}, \"geo\": {\"bgcolor\": \"white\", \"lakecolor\": \"white\", \"landcolor\": \"#E5ECF6\", \"showlakes\": true, \"showland\": true, \"subunitcolor\": \"white\"}, \"hoverlabel\": {\"align\": \"left\"}, \"hovermode\": \"closest\", \"mapbox\": {\"style\": \"light\"}, \"paper_bgcolor\": \"white\", \"plot_bgcolor\": \"#E5ECF6\", \"polar\": {\"angularaxis\": {\"gridcolor\": \"white\", \"linecolor\": \"white\", \"ticks\": \"\"}, \"bgcolor\": \"#E5ECF6\", \"radialaxis\": {\"gridcolor\": \"white\", \"linecolor\": \"white\", \"ticks\": \"\"}}, \"scene\": {\"xaxis\": {\"backgroundcolor\": \"#E5ECF6\", \"gridcolor\": \"white\", \"gridwidth\": 2, \"linecolor\": \"white\", \"showbackground\": true, \"ticks\": \"\", \"zerolinecolor\": \"white\"}, \"yaxis\": {\"backgroundcolor\": \"#E5ECF6\", \"gridcolor\": \"white\", \"gridwidth\": 2, \"linecolor\": \"white\", \"showbackground\": true, \"ticks\": \"\", \"zerolinecolor\": \"white\"}, \"zaxis\": {\"backgroundcolor\": \"#E5ECF6\", \"gridcolor\": \"white\", \"gridwidth\": 2, \"linecolor\": \"white\", \"showbackground\": true, \"ticks\": \"\", \"zerolinecolor\": \"white\"}}, \"shapedefaults\": {\"line\": {\"color\": \"#2a3f5f\"}}, \"ternary\": {\"aaxis\": {\"gridcolor\": \"white\", \"linecolor\": \"white\", \"ticks\": \"\"}, \"baxis\": {\"gridcolor\": \"white\", \"linecolor\": \"white\", \"ticks\": \"\"}, \"bgcolor\": \"#E5ECF6\", \"caxis\": {\"gridcolor\": \"white\", \"linecolor\": \"white\", \"ticks\": \"\"}}, \"title\": {\"x\": 0.05}, \"xaxis\": {\"automargin\": true, \"gridcolor\": \"white\", \"linecolor\": \"white\", \"ticks\": \"\", \"title\": {\"standoff\": 15}, \"zerolinecolor\": \"white\", \"zerolinewidth\": 2}, \"yaxis\": {\"automargin\": true, \"gridcolor\": \"white\", \"linecolor\": \"white\", \"ticks\": \"\", \"title\": {\"standoff\": 15}, \"zerolinecolor\": \"white\", \"zerolinewidth\": 2}}}, \"width\": 800},\n",
              "                        {\"responsive\": true}\n",
              "                    ).then(function(){\n",
              "                            \n",
              "var gd = document.getElementById('3e6d2809-d7da-4e2d-8277-802e288121e5');\n",
              "var x = new MutationObserver(function (mutations, observer) {{\n",
              "        var display = window.getComputedStyle(gd).display;\n",
              "        if (!display || display === 'none') {{\n",
              "            console.log([gd, 'removed!']);\n",
              "            Plotly.purge(gd);\n",
              "            observer.disconnect();\n",
              "        }}\n",
              "}});\n",
              "\n",
              "// Listen for the removal of the full notebook cells\n",
              "var notebookContainer = gd.closest('#notebook-container');\n",
              "if (notebookContainer) {{\n",
              "    x.observe(notebookContainer, {childList: true});\n",
              "}}\n",
              "\n",
              "// Listen for the clearing of the current output cell\n",
              "var outputEl = gd.closest('.output');\n",
              "if (outputEl) {{\n",
              "    x.observe(outputEl, {childList: true});\n",
              "}}\n",
              "\n",
              "                        })\n",
              "                };\n",
              "                \n",
              "            </script>\n",
              "        </div>\n",
              "</body>\n",
              "</html>"
            ]
          },
          "metadata": {
            "tags": []
          }
        }
      ]
    },
    {
      "cell_type": "markdown",
      "metadata": {
        "id": "RQcw4DqN8CFx"
      },
      "source": [
        "#### Popularity of different programming languages in Job Description"
      ]
    },
    {
      "cell_type": "code",
      "metadata": {
        "colab": {
          "base_uri": "https://localhost:8080/",
          "height": 517
        },
        "id": "zcMne7ns_O3x",
        "outputId": "d7d527d4-d405-4ab8-9f7e-374cf222a694"
      },
      "source": [
        "job_desc_polar_plot = PolarPlot()\n",
        "\n",
        "plot_polar(\n",
        "    job_desc_polar_plot, \n",
        "    data=glassdoor,\n",
        "    traces=SKILLS, \n",
        "    x_names=JOB_TITLES, \n",
        "    agg_column='JobDescription', \n",
        "    group_column='JobTitle',\n",
        "    trace_column='JobDescription', \n",
        "    hover_template='%{r:0.0f}%'\n",
        ")\n",
        "\n",
        "job_desc_polar_plot.figure.update_layout(\n",
        "    polar_radialaxis_tickvals=[25, 50, 75],\n",
        "    polar_radialaxis_ticktext=['25%', '50%', '75%'],\n",
        "    polar_radialaxis_tickmode='array',\n",
        ")\n",
        "job_desc_polar_plot.show()"
      ],
      "execution_count": 78,
      "outputs": [
        {
          "output_type": "display_data",
          "data": {
            "text/html": [
              "<html>\n",
              "<head><meta charset=\"utf-8\" /></head>\n",
              "<body>\n",
              "    <div>\n",
              "            <script src=\"https://cdnjs.cloudflare.com/ajax/libs/mathjax/2.7.5/MathJax.js?config=TeX-AMS-MML_SVG\"></script><script type=\"text/javascript\">if (window.MathJax) {MathJax.Hub.Config({SVG: {font: \"STIX-Web\"}});}</script>\n",
              "                <script type=\"text/javascript\">window.PlotlyConfig = {MathJaxConfig: 'local'};</script>\n",
              "        <script src=\"https://cdn.plot.ly/plotly-latest.min.js\"></script>    \n",
              "            <div id=\"f985ca96-aa7b-4f25-bccc-7cfab78bbdec\" class=\"plotly-graph-div\" style=\"height:500px; width:800px;\"></div>\n",
              "            <script type=\"text/javascript\">\n",
              "                \n",
              "                    window.PLOTLYENV=window.PLOTLYENV || {};\n",
              "                    \n",
              "                if (document.getElementById(\"f985ca96-aa7b-4f25-bccc-7cfab78bbdec\")) {\n",
              "                    Plotly.newPlot(\n",
              "                        'f985ca96-aa7b-4f25-bccc-7cfab78bbdec',\n",
              "                        [{\"hoverinfo\": \"name+r\", \"hovertemplate\": \"%{r:0.0f}%\", \"line\": {\"shape\": \"spline\", \"smoothing\": 0.8}, \"mode\": \"lines\", \"name\": \"Bash\", \"r\": [0.05953266855186783, 0.35962598897146963, 0.8331506248629686, 3.662039253231211, 2.5404157043879905, 0.0, 0.05953266855186783], \"showlegend\": true, \"theta\": [\"Business Analyst\", \"Data Analyst\", \"Data Scientist\", \"Data Engineer/DBA\", \"Software Engineer\", \"Statistician/Research Scientist\", \"Business Analyst\"], \"type\": \"scatterpolar\"}, {\"hoverinfo\": \"name+r\", \"hovertemplate\": \"%{r:0.0f}%\", \"line\": {\"shape\": \"spline\", \"smoothing\": 0.8}, \"mode\": \"lines\", \"name\": \"C\", \"r\": [99.97023366572407, 99.06497242867418, 99.86844990133743, 99.80852082336045, 99.79676674364896, 100.0, 99.97023366572407], \"showlegend\": true, \"theta\": [\"Business Analyst\", \"Data Analyst\", \"Data Scientist\", \"Data Engineer/DBA\", \"Software Engineer\", \"Statistician/Research Scientist\", \"Business Analyst\"], \"type\": \"scatterpolar\"}, {\"hoverinfo\": \"name+r\", \"hovertemplate\": \"%{r:0.0f}%\", \"line\": {\"shape\": \"spline\", \"smoothing\": 0.8}, \"mode\": \"lines\", \"name\": \"C++\", \"r\": [0.47626134841494266, 1.3186286262287221, 8.945406709055032, 5.505026328386788, 24.18475750577367, 12.957746478873238, 0.47626134841494266], \"showlegend\": true, \"theta\": [\"Business Analyst\", \"Data Analyst\", \"Data Scientist\", \"Data Engineer/DBA\", \"Software Engineer\", \"Statistician/Research Scientist\", \"Business Analyst\"], \"type\": \"scatterpolar\"}, {\"hoverinfo\": \"name+r\", \"hovertemplate\": \"%{r:0.0f}%\", \"line\": {\"shape\": \"spline\", \"smoothing\": 0.8}, \"mode\": \"lines\", \"name\": \"Java\", \"r\": [4.107754130078881, 6.9527691201150805, 19.447489585617188, 37.09909047391096, 56.20323325635104, 9.15492957746479, 4.107754130078881], \"showlegend\": true, \"theta\": [\"Business Analyst\", \"Data Analyst\", \"Data Scientist\", \"Data Engineer/DBA\", \"Software Engineer\", \"Statistician/Research Scientist\", \"Business Analyst\"], \"type\": \"scatterpolar\"}, {\"hoverinfo\": \"name+r\", \"hovertemplate\": \"%{r:0.0f}%\", \"line\": {\"shape\": \"spline\", \"smoothing\": 0.8}, \"mode\": \"lines\", \"name\": \"Javascript\", \"r\": [1.3692513766929604, 3.955885878686166, 3.1352773514580137, 4.164672091910005, 27.833718244803695, 0.9859154929577465, 1.3692513766929604], \"showlegend\": true, \"theta\": [\"Business Analyst\", \"Data Analyst\", \"Data Scientist\", \"Data Engineer/DBA\", \"Software Engineer\", \"Statistician/Research Scientist\", \"Business Analyst\"], \"type\": \"scatterpolar\"}, {\"hoverinfo\": \"name+r\", \"hovertemplate\": \"%{r:0.0f}%\", \"line\": {\"shape\": \"spline\", \"smoothing\": 0.8}, \"mode\": \"lines\", \"name\": \"MATLAB\", \"r\": [0.3423128441732401, 2.2057060656916807, 8.83578162683622, 1.077070368597415, 1.4041570438799076, 4.084507042253521, 0.3423128441732401], \"showlegend\": true, \"theta\": [\"Business Analyst\", \"Data Analyst\", \"Data Scientist\", \"Data Engineer/DBA\", \"Software Engineer\", \"Statistician/Research Scientist\", \"Business Analyst\"], \"type\": \"scatterpolar\"}, {\"hoverinfo\": \"name+r\", \"hovertemplate\": \"%{r:0.0f}%\", \"line\": {\"shape\": \"spline\", \"smoothing\": 0.8}, \"mode\": \"lines\", \"name\": \"Other\", \"r\": [32.13275785087066, 39.966434907696, 37.27252795439597, 36.14169459071326, 45.8568129330254, 52.95774647887323, 32.13275785087066], \"showlegend\": true, \"theta\": [\"Business Analyst\", \"Data Analyst\", \"Data Scientist\", \"Data Engineer/DBA\", \"Software Engineer\", \"Statistician/Research Scientist\", \"Business Analyst\"], \"type\": \"scatterpolar\"}, {\"hoverinfo\": \"name+r\", \"hovertemplate\": \"%{r:0.0f}%\", \"line\": {\"shape\": \"spline\", \"smoothing\": 0.8}, \"mode\": \"lines\", \"name\": \"Python\", \"r\": [3.125465098973061, 32.67801486454088, 78.27230870423153, 59.43034944949736, 27.242494226327945, 24.929577464788732, 3.125465098973061], \"showlegend\": true, \"theta\": [\"Business Analyst\", \"Data Analyst\", \"Data Scientist\", \"Data Engineer/DBA\", \"Software Engineer\", \"Statistician/Research Scientist\", \"Business Analyst\"], \"type\": \"scatterpolar\"}, {\"hoverinfo\": \"name+r\", \"hovertemplate\": \"%{r:0.0f}%\", \"line\": {\"shape\": \"spline\", \"smoothing\": 0.8}, \"mode\": \"lines\", \"name\": \"R\", \"r\": [99.98511683286203, 99.66434907695995, 99.93422495066872, 100.0, 100.0, 100.0, 99.98511683286203], \"showlegend\": true, \"theta\": [\"Business Analyst\", \"Data Analyst\", \"Data Scientist\", \"Data Engineer/DBA\", \"Software Engineer\", \"Statistician/Research Scientist\", \"Business Analyst\"], \"type\": \"scatterpolar\"}, {\"hoverinfo\": \"name+r\", \"hovertemplate\": \"%{r:0.0f}%\", \"line\": {\"shape\": \"spline\", \"smoothing\": 0.8}, \"mode\": \"lines\", \"name\": \"SQL\", \"r\": [17.41330555142134, 56.82090625749221, 50.42753782065337, 71.61321206318813, 38.133949191685915, 7.323943661971831, 17.41330555142134], \"showlegend\": true, \"theta\": [\"Business Analyst\", \"Data Analyst\", \"Data Scientist\", \"Data Engineer/DBA\", \"Software Engineer\", \"Statistician/Research Scientist\", \"Business Analyst\"], \"type\": \"scatterpolar\"}, {\"hoverinfo\": \"name+r\", \"hovertemplate\": \"%{r:0.0f}%\", \"line\": {\"shape\": \"spline\", \"smoothing\": 0.8}, \"mode\": \"lines\", \"name\": \"TypeScript\", \"r\": [0.0, 0.09590026372572524, 0.15347511510633632, 0.3111536620392532, 5.468822170900693, 0.0, 0.0], \"showlegend\": true, \"theta\": [\"Business Analyst\", \"Data Analyst\", \"Data Scientist\", \"Data Engineer/DBA\", \"Software Engineer\", \"Statistician/Research Scientist\", \"Business Analyst\"], \"type\": \"scatterpolar\"}],\n",
              "                        {\"height\": 500, \"legend\": {\"itemclick\": \"toggleothers\", \"itemdoubleclick\": \"toggle\"}, \"polar\": {\"radialaxis\": {\"range\": [0, 110.00000000000001], \"tickmode\": \"array\", \"ticktext\": [\"25%\", \"50%\", \"75%\"], \"tickvals\": [25, 50, 75]}}, \"showlegend\": true, \"template\": {\"data\": {\"bar\": [{\"error_x\": {\"color\": \"#2a3f5f\"}, \"error_y\": {\"color\": \"#2a3f5f\"}, \"marker\": {\"line\": {\"color\": \"#E5ECF6\", \"width\": 0.5}}, \"type\": \"bar\"}], \"barpolar\": [{\"marker\": {\"line\": {\"color\": \"#E5ECF6\", \"width\": 0.5}}, \"type\": \"barpolar\"}], \"carpet\": [{\"aaxis\": {\"endlinecolor\": \"#2a3f5f\", \"gridcolor\": \"white\", \"linecolor\": \"white\", \"minorgridcolor\": \"white\", \"startlinecolor\": \"#2a3f5f\"}, \"baxis\": {\"endlinecolor\": \"#2a3f5f\", \"gridcolor\": \"white\", \"linecolor\": \"white\", \"minorgridcolor\": \"white\", \"startlinecolor\": \"#2a3f5f\"}, \"type\": \"carpet\"}], \"choropleth\": [{\"colorbar\": {\"outlinewidth\": 0, \"ticks\": \"\"}, \"type\": \"choropleth\"}], \"contour\": [{\"colorbar\": {\"outlinewidth\": 0, \"ticks\": \"\"}, \"colorscale\": [[0.0, \"#0d0887\"], [0.1111111111111111, \"#46039f\"], [0.2222222222222222, \"#7201a8\"], [0.3333333333333333, \"#9c179e\"], [0.4444444444444444, \"#bd3786\"], [0.5555555555555556, \"#d8576b\"], [0.6666666666666666, \"#ed7953\"], [0.7777777777777778, \"#fb9f3a\"], [0.8888888888888888, \"#fdca26\"], [1.0, \"#f0f921\"]], \"type\": \"contour\"}], \"contourcarpet\": [{\"colorbar\": {\"outlinewidth\": 0, \"ticks\": \"\"}, \"type\": \"contourcarpet\"}], \"heatmap\": [{\"colorbar\": {\"outlinewidth\": 0, \"ticks\": \"\"}, \"colorscale\": [[0.0, \"#0d0887\"], [0.1111111111111111, \"#46039f\"], [0.2222222222222222, \"#7201a8\"], [0.3333333333333333, \"#9c179e\"], [0.4444444444444444, \"#bd3786\"], [0.5555555555555556, \"#d8576b\"], [0.6666666666666666, \"#ed7953\"], [0.7777777777777778, \"#fb9f3a\"], [0.8888888888888888, \"#fdca26\"], [1.0, \"#f0f921\"]], \"type\": \"heatmap\"}], \"heatmapgl\": [{\"colorbar\": {\"outlinewidth\": 0, \"ticks\": \"\"}, \"colorscale\": [[0.0, \"#0d0887\"], [0.1111111111111111, \"#46039f\"], [0.2222222222222222, \"#7201a8\"], [0.3333333333333333, \"#9c179e\"], [0.4444444444444444, \"#bd3786\"], [0.5555555555555556, \"#d8576b\"], [0.6666666666666666, \"#ed7953\"], [0.7777777777777778, \"#fb9f3a\"], [0.8888888888888888, \"#fdca26\"], [1.0, \"#f0f921\"]], \"type\": \"heatmapgl\"}], \"histogram\": [{\"marker\": {\"colorbar\": {\"outlinewidth\": 0, \"ticks\": \"\"}}, \"type\": \"histogram\"}], \"histogram2d\": [{\"colorbar\": {\"outlinewidth\": 0, \"ticks\": \"\"}, \"colorscale\": [[0.0, \"#0d0887\"], [0.1111111111111111, \"#46039f\"], [0.2222222222222222, \"#7201a8\"], [0.3333333333333333, \"#9c179e\"], [0.4444444444444444, \"#bd3786\"], [0.5555555555555556, \"#d8576b\"], [0.6666666666666666, \"#ed7953\"], [0.7777777777777778, \"#fb9f3a\"], [0.8888888888888888, \"#fdca26\"], [1.0, \"#f0f921\"]], \"type\": \"histogram2d\"}], \"histogram2dcontour\": [{\"colorbar\": {\"outlinewidth\": 0, \"ticks\": \"\"}, \"colorscale\": [[0.0, \"#0d0887\"], [0.1111111111111111, \"#46039f\"], [0.2222222222222222, \"#7201a8\"], [0.3333333333333333, \"#9c179e\"], [0.4444444444444444, \"#bd3786\"], [0.5555555555555556, \"#d8576b\"], [0.6666666666666666, \"#ed7953\"], [0.7777777777777778, \"#fb9f3a\"], [0.8888888888888888, \"#fdca26\"], [1.0, \"#f0f921\"]], \"type\": \"histogram2dcontour\"}], \"mesh3d\": [{\"colorbar\": {\"outlinewidth\": 0, \"ticks\": \"\"}, \"type\": \"mesh3d\"}], \"parcoords\": [{\"line\": {\"colorbar\": {\"outlinewidth\": 0, \"ticks\": \"\"}}, \"type\": \"parcoords\"}], \"pie\": [{\"automargin\": true, \"type\": \"pie\"}], \"scatter\": [{\"marker\": {\"colorbar\": {\"outlinewidth\": 0, \"ticks\": \"\"}}, \"type\": \"scatter\"}], \"scatter3d\": [{\"line\": {\"colorbar\": {\"outlinewidth\": 0, \"ticks\": \"\"}}, \"marker\": {\"colorbar\": {\"outlinewidth\": 0, \"ticks\": \"\"}}, \"type\": \"scatter3d\"}], \"scattercarpet\": [{\"marker\": {\"colorbar\": {\"outlinewidth\": 0, \"ticks\": \"\"}}, \"type\": \"scattercarpet\"}], \"scattergeo\": [{\"marker\": {\"colorbar\": {\"outlinewidth\": 0, \"ticks\": \"\"}}, \"type\": \"scattergeo\"}], \"scattergl\": [{\"marker\": {\"colorbar\": {\"outlinewidth\": 0, \"ticks\": \"\"}}, \"type\": \"scattergl\"}], \"scattermapbox\": [{\"marker\": {\"colorbar\": {\"outlinewidth\": 0, \"ticks\": \"\"}}, \"type\": \"scattermapbox\"}], \"scatterpolar\": [{\"marker\": {\"colorbar\": {\"outlinewidth\": 0, \"ticks\": \"\"}}, \"type\": \"scatterpolar\"}], \"scatterpolargl\": [{\"marker\": {\"colorbar\": {\"outlinewidth\": 0, \"ticks\": \"\"}}, \"type\": \"scatterpolargl\"}], \"scatterternary\": [{\"marker\": {\"colorbar\": {\"outlinewidth\": 0, \"ticks\": \"\"}}, \"type\": \"scatterternary\"}], \"surface\": [{\"colorbar\": {\"outlinewidth\": 0, \"ticks\": \"\"}, \"colorscale\": [[0.0, \"#0d0887\"], [0.1111111111111111, \"#46039f\"], [0.2222222222222222, \"#7201a8\"], [0.3333333333333333, \"#9c179e\"], [0.4444444444444444, \"#bd3786\"], [0.5555555555555556, \"#d8576b\"], [0.6666666666666666, \"#ed7953\"], [0.7777777777777778, \"#fb9f3a\"], [0.8888888888888888, \"#fdca26\"], [1.0, \"#f0f921\"]], \"type\": \"surface\"}], \"table\": [{\"cells\": {\"fill\": {\"color\": \"#EBF0F8\"}, \"line\": {\"color\": \"white\"}}, \"header\": {\"fill\": {\"color\": \"#C8D4E3\"}, \"line\": {\"color\": \"white\"}}, \"type\": \"table\"}]}, \"layout\": {\"annotationdefaults\": {\"arrowcolor\": \"#2a3f5f\", \"arrowhead\": 0, \"arrowwidth\": 1}, \"coloraxis\": {\"colorbar\": {\"outlinewidth\": 0, \"ticks\": \"\"}}, \"colorscale\": {\"diverging\": [[0, \"#8e0152\"], [0.1, \"#c51b7d\"], [0.2, \"#de77ae\"], [0.3, \"#f1b6da\"], [0.4, \"#fde0ef\"], [0.5, \"#f7f7f7\"], [0.6, \"#e6f5d0\"], [0.7, \"#b8e186\"], [0.8, \"#7fbc41\"], [0.9, \"#4d9221\"], [1, \"#276419\"]], \"sequential\": [[0.0, \"#0d0887\"], [0.1111111111111111, \"#46039f\"], [0.2222222222222222, \"#7201a8\"], [0.3333333333333333, \"#9c179e\"], [0.4444444444444444, \"#bd3786\"], [0.5555555555555556, \"#d8576b\"], [0.6666666666666666, \"#ed7953\"], [0.7777777777777778, \"#fb9f3a\"], [0.8888888888888888, \"#fdca26\"], [1.0, \"#f0f921\"]], \"sequentialminus\": [[0.0, \"#0d0887\"], [0.1111111111111111, \"#46039f\"], [0.2222222222222222, \"#7201a8\"], [0.3333333333333333, \"#9c179e\"], [0.4444444444444444, \"#bd3786\"], [0.5555555555555556, \"#d8576b\"], [0.6666666666666666, \"#ed7953\"], [0.7777777777777778, \"#fb9f3a\"], [0.8888888888888888, \"#fdca26\"], [1.0, \"#f0f921\"]]}, \"colorway\": [\"#636efa\", \"#EF553B\", \"#00cc96\", \"#ab63fa\", \"#FFA15A\", \"#19d3f3\", \"#FF6692\", \"#B6E880\", \"#FF97FF\", \"#FECB52\"], \"font\": {\"color\": \"#2a3f5f\"}, \"geo\": {\"bgcolor\": \"white\", \"lakecolor\": \"white\", \"landcolor\": \"#E5ECF6\", \"showlakes\": true, \"showland\": true, \"subunitcolor\": \"white\"}, \"hoverlabel\": {\"align\": \"left\"}, \"hovermode\": \"closest\", \"mapbox\": {\"style\": \"light\"}, \"paper_bgcolor\": \"white\", \"plot_bgcolor\": \"#E5ECF6\", \"polar\": {\"angularaxis\": {\"gridcolor\": \"white\", \"linecolor\": \"white\", \"ticks\": \"\"}, \"bgcolor\": \"#E5ECF6\", \"radialaxis\": {\"gridcolor\": \"white\", \"linecolor\": \"white\", \"ticks\": \"\"}}, \"scene\": {\"xaxis\": {\"backgroundcolor\": \"#E5ECF6\", \"gridcolor\": \"white\", \"gridwidth\": 2, \"linecolor\": \"white\", \"showbackground\": true, \"ticks\": \"\", \"zerolinecolor\": \"white\"}, \"yaxis\": {\"backgroundcolor\": \"#E5ECF6\", \"gridcolor\": \"white\", \"gridwidth\": 2, \"linecolor\": \"white\", \"showbackground\": true, \"ticks\": \"\", \"zerolinecolor\": \"white\"}, \"zaxis\": {\"backgroundcolor\": \"#E5ECF6\", \"gridcolor\": \"white\", \"gridwidth\": 2, \"linecolor\": \"white\", \"showbackground\": true, \"ticks\": \"\", \"zerolinecolor\": \"white\"}}, \"shapedefaults\": {\"line\": {\"color\": \"#2a3f5f\"}}, \"ternary\": {\"aaxis\": {\"gridcolor\": \"white\", \"linecolor\": \"white\", \"ticks\": \"\"}, \"baxis\": {\"gridcolor\": \"white\", \"linecolor\": \"white\", \"ticks\": \"\"}, \"bgcolor\": \"#E5ECF6\", \"caxis\": {\"gridcolor\": \"white\", \"linecolor\": \"white\", \"ticks\": \"\"}}, \"title\": {\"x\": 0.05}, \"xaxis\": {\"automargin\": true, \"gridcolor\": \"white\", \"linecolor\": \"white\", \"ticks\": \"\", \"title\": {\"standoff\": 15}, \"zerolinecolor\": \"white\", \"zerolinewidth\": 2}, \"yaxis\": {\"automargin\": true, \"gridcolor\": \"white\", \"linecolor\": \"white\", \"ticks\": \"\", \"title\": {\"standoff\": 15}, \"zerolinecolor\": \"white\", \"zerolinewidth\": 2}}}, \"width\": 800},\n",
              "                        {\"responsive\": true}\n",
              "                    ).then(function(){\n",
              "                            \n",
              "var gd = document.getElementById('f985ca96-aa7b-4f25-bccc-7cfab78bbdec');\n",
              "var x = new MutationObserver(function (mutations, observer) {{\n",
              "        var display = window.getComputedStyle(gd).display;\n",
              "        if (!display || display === 'none') {{\n",
              "            console.log([gd, 'removed!']);\n",
              "            Plotly.purge(gd);\n",
              "            observer.disconnect();\n",
              "        }}\n",
              "}});\n",
              "\n",
              "// Listen for the removal of the full notebook cells\n",
              "var notebookContainer = gd.closest('#notebook-container');\n",
              "if (notebookContainer) {{\n",
              "    x.observe(notebookContainer, {childList: true});\n",
              "}}\n",
              "\n",
              "// Listen for the clearing of the current output cell\n",
              "var outputEl = gd.closest('.output');\n",
              "if (outputEl) {{\n",
              "    x.observe(outputEl, {childList: true});\n",
              "}}\n",
              "\n",
              "                        })\n",
              "                };\n",
              "                \n",
              "            </script>\n",
              "        </div>\n",
              "</body>\n",
              "</html>"
            ]
          },
          "metadata": {
            "tags": []
          }
        }
      ]
    },
    {
      "cell_type": "markdown",
      "metadata": {
        "id": "DZR2zcHa_a9c"
      },
      "source": [
        "### How many programming languages should you learn?"
      ]
    },
    {
      "cell_type": "code",
      "metadata": {
        "colab": {
          "base_uri": "https://localhost:8080/",
          "height": 517
        },
        "id": "661uqWpr_soj",
        "outputId": "f3530ed6-5f6c-4a3d-bca5-b3d040cfa504"
      },
      "source": [
        "prog_language_line_plot = LinePlot()\n",
        "\n",
        "traces = list(set(kaggle.TimeWritingCode.tolist()))\n",
        "# traces = []\n",
        "\n",
        "x_names = ['{} languages'.format(x) for x in range(7)]\n",
        "\n",
        "plot_lines(\n",
        "    prog_language_line_plot, \n",
        "    data=kaggle,\n",
        "    traces=traces, \n",
        "    x_names=x_names, \n",
        "    agg_column='Salary', \n",
        "    group_column='QtyProgLang',\n",
        "    trace_column='TimeWritingCode', \n",
        "    hover_template='U$%{y:,.2r}'\n",
        ")\n",
        "\n",
        "# Adding Averarage\n",
        "plot_data = kaggle.groupby(['QtyProgLang'], as_index=False).agg({'Salary': 'mean'})\n",
        "plot_data = plot_data.Salary.tolist()\n",
        "prog_language_line_plot.add_data(x_names, plot_data, 'Average', hover_template='U$%{y:,.2r}')\n",
        "\n",
        "\n",
        "xaxis_title='Quantity of programming languages'\n",
        "yaxis_title='Average Salary (USD per Year)'\n",
        "prog_language_line_plot.update_axis_title(xaxis_title, yaxis_title)\n",
        "prog_language_line_plot.show()"
      ],
      "execution_count": 79,
      "outputs": [
        {
          "output_type": "display_data",
          "data": {
            "text/html": [
              "<html>\n",
              "<head><meta charset=\"utf-8\" /></head>\n",
              "<body>\n",
              "    <div>\n",
              "            <script src=\"https://cdnjs.cloudflare.com/ajax/libs/mathjax/2.7.5/MathJax.js?config=TeX-AMS-MML_SVG\"></script><script type=\"text/javascript\">if (window.MathJax) {MathJax.Hub.Config({SVG: {font: \"STIX-Web\"}});}</script>\n",
              "                <script type=\"text/javascript\">window.PlotlyConfig = {MathJaxConfig: 'local'};</script>\n",
              "        <script src=\"https://cdn.plot.ly/plotly-latest.min.js\"></script>    \n",
              "            <div id=\"88298ebf-773c-490c-a6ce-02c9d38bac94\" class=\"plotly-graph-div\" style=\"height:500px; width:800px;\"></div>\n",
              "            <script type=\"text/javascript\">\n",
              "                \n",
              "                    window.PLOTLYENV=window.PLOTLYENV || {};\n",
              "                    \n",
              "                if (document.getElementById(\"88298ebf-773c-490c-a6ce-02c9d38bac94\")) {\n",
              "                    Plotly.newPlot(\n",
              "                        '88298ebf-773c-490c-a6ce-02c9d38bac94',\n",
              "                        [{\"hoverinfo\": \"name+y\", \"hovertemplate\": \"U$%{y:,.2r}\", \"line\": {\"shape\": \"spline\", \"smoothing\": 0.8, \"width\": 1.6}, \"mode\": \"lines\", \"name\": \"nan\", \"type\": \"scatter\", \"x\": [\"0 languages\", \"1 languages\", \"2 languages\", \"3 languages\", \"4 languages\", \"5 languages\", \"6 languages\"], \"y\": []}, {\"hoverinfo\": \"name+y\", \"hovertemplate\": \"U$%{y:,.2r}\", \"line\": {\"shape\": \"spline\", \"smoothing\": 0.8, \"width\": 1.6}, \"mode\": \"lines\", \"name\": \"1-2 years\", \"type\": \"scatter\", \"x\": [\"0 languages\", \"1 languages\", \"2 languages\", \"3 languages\", \"4 languages\", \"5 languages\", \"6 languages\"], \"y\": [11139.074525000002, 11886.454471014427, 13982.734607092278, 13412.144981167537, 11378.97923198194, 17320.959405660342, 11484.05631818183]}, {\"hoverinfo\": \"name+y\", \"hovertemplate\": \"U$%{y:,.2r}\", \"line\": {\"shape\": \"spline\", \"smoothing\": 0.8, \"width\": 1.6}, \"mode\": \"lines\", \"name\": \"I have never written code\", \"type\": \"scatter\", \"x\": [\"0 languages\", \"1 languages\", \"2 languages\", \"3 languages\", \"4 languages\", \"5 languages\", \"6 languages\"], \"y\": [11737.121062068918]}, {\"hoverinfo\": \"name+y\", \"hovertemplate\": \"U$%{y:,.2r}\", \"line\": {\"shape\": \"spline\", \"smoothing\": 0.8, \"width\": 1.6}, \"mode\": \"lines\", \"name\": \"3-5 years\", \"type\": \"scatter\", \"x\": [\"0 languages\", \"1 languages\", \"2 languages\", \"3 languages\", \"4 languages\", \"5 languages\", \"6 languages\"], \"y\": [17227.05832352941, 20201.96515653154, 20944.24847469256, 23014.369085139693, 23314.00291808867, 19703.60496874996, 15405.04064556962]}, {\"hoverinfo\": \"name+y\", \"hovertemplate\": \"U$%{y:,.2r}\", \"line\": {\"shape\": \"spline\", \"smoothing\": 0.8, \"width\": 1.6}, \"mode\": \"lines\", \"name\": \"5-10 years\", \"type\": \"scatter\", \"x\": [\"0 languages\", \"1 languages\", \"2 languages\", \"3 languages\", \"4 languages\", \"5 languages\", \"6 languages\"], \"y\": [26866.282833333327, 31472.220534334694, 29939.17807500026, 32780.72009294148, 32527.82932159618, 34045.66972340421, 18930.928880434793]}, {\"hoverinfo\": \"name+y\", \"hovertemplate\": \"U$%{y:,.2r}\", \"line\": {\"shape\": \"spline\", \"smoothing\": 0.8, \"width\": 1.6}, \"mode\": \"lines\", \"name\": \"< 1 years\", \"type\": \"scatter\", \"x\": [\"0 languages\", \"1 languages\", \"2 languages\", \"3 languages\", \"4 languages\", \"5 languages\", \"6 languages\"], \"y\": [6218.044954545456, 9585.15271128312, 9029.131047618992, 9224.238321086215, 11170.397459183654, 9882.032108695643, 8140.89723863636]}, {\"hoverinfo\": \"name+y\", \"hovertemplate\": \"U$%{y:,.2r}\", \"line\": {\"shape\": \"spline\", \"smoothing\": 0.8, \"width\": 1.6}, \"mode\": \"lines\", \"name\": \"20+ years\", \"type\": \"scatter\", \"x\": [\"0 languages\", \"1 languages\", \"2 languages\", \"3 languages\", \"4 languages\", \"5 languages\", \"6 languages\"], \"y\": [33917.499625000004, 52268.1289821428, 47519.92616304342, 48202.911136363575, 48982.81201785709, 41130.23390624997, 43499.26802777773]}, {\"hoverinfo\": \"name+y\", \"hovertemplate\": \"U$%{y:,.2r}\", \"line\": {\"shape\": \"spline\", \"smoothing\": 0.8, \"width\": 1.6}, \"mode\": \"lines\", \"name\": \"10-20 years\", \"type\": \"scatter\", \"x\": [\"0 languages\", \"1 languages\", \"2 languages\", \"3 languages\", \"4 languages\", \"5 languages\", \"6 languages\"], \"y\": [26814.1245625, 33949.78755978256, 40294.79035396033, 45369.0811025106, 45164.98832462681, 43690.66618253963, 33307.253614754074]}, {\"hoverinfo\": \"name+y\", \"hovertemplate\": \"U$%{y:,.2r}\", \"line\": {\"shape\": \"spline\", \"smoothing\": 0.8, \"width\": 1.6}, \"mode\": \"lines\", \"name\": \"Average\", \"type\": \"scatter\", \"x\": [\"0 languages\", \"1 languages\", \"2 languages\", \"3 languages\", \"4 languages\", \"5 languages\", \"6 languages\"], \"y\": [13163.410186575262, 18424.28529971553, 21029.62810233401, 24155.97986418048, 25091.791760563152, 25525.589565945163, 21670.48879714279]}],\n",
              "                        {\"height\": 500, \"legend\": {\"font\": {\"color\": \"gray\"}, \"itemclick\": \"toggleothers\", \"itemdoubleclick\": \"toggle\"}, \"showlegend\": true, \"template\": {\"data\": {\"bar\": [{\"error_x\": {\"color\": \"#2a3f5f\"}, \"error_y\": {\"color\": \"#2a3f5f\"}, \"marker\": {\"line\": {\"color\": \"#E5ECF6\", \"width\": 0.5}}, \"type\": \"bar\"}], \"barpolar\": [{\"marker\": {\"line\": {\"color\": \"#E5ECF6\", \"width\": 0.5}}, \"type\": \"barpolar\"}], \"carpet\": [{\"aaxis\": {\"endlinecolor\": \"#2a3f5f\", \"gridcolor\": \"white\", \"linecolor\": \"white\", \"minorgridcolor\": \"white\", \"startlinecolor\": \"#2a3f5f\"}, \"baxis\": {\"endlinecolor\": \"#2a3f5f\", \"gridcolor\": \"white\", \"linecolor\": \"white\", \"minorgridcolor\": \"white\", \"startlinecolor\": \"#2a3f5f\"}, \"type\": \"carpet\"}], \"choropleth\": [{\"colorbar\": {\"outlinewidth\": 0, \"ticks\": \"\"}, \"type\": \"choropleth\"}], \"contour\": [{\"colorbar\": {\"outlinewidth\": 0, \"ticks\": \"\"}, \"colorscale\": [[0.0, \"#0d0887\"], [0.1111111111111111, \"#46039f\"], [0.2222222222222222, \"#7201a8\"], [0.3333333333333333, \"#9c179e\"], [0.4444444444444444, \"#bd3786\"], [0.5555555555555556, \"#d8576b\"], [0.6666666666666666, \"#ed7953\"], [0.7777777777777778, \"#fb9f3a\"], [0.8888888888888888, \"#fdca26\"], [1.0, \"#f0f921\"]], \"type\": \"contour\"}], \"contourcarpet\": [{\"colorbar\": {\"outlinewidth\": 0, \"ticks\": \"\"}, \"type\": \"contourcarpet\"}], \"heatmap\": [{\"colorbar\": {\"outlinewidth\": 0, \"ticks\": \"\"}, \"colorscale\": [[0.0, \"#0d0887\"], [0.1111111111111111, \"#46039f\"], [0.2222222222222222, \"#7201a8\"], [0.3333333333333333, \"#9c179e\"], [0.4444444444444444, \"#bd3786\"], [0.5555555555555556, \"#d8576b\"], [0.6666666666666666, \"#ed7953\"], [0.7777777777777778, \"#fb9f3a\"], [0.8888888888888888, \"#fdca26\"], [1.0, \"#f0f921\"]], \"type\": \"heatmap\"}], \"heatmapgl\": [{\"colorbar\": {\"outlinewidth\": 0, \"ticks\": \"\"}, \"colorscale\": [[0.0, \"#0d0887\"], [0.1111111111111111, \"#46039f\"], [0.2222222222222222, \"#7201a8\"], [0.3333333333333333, \"#9c179e\"], [0.4444444444444444, \"#bd3786\"], [0.5555555555555556, \"#d8576b\"], [0.6666666666666666, \"#ed7953\"], [0.7777777777777778, \"#fb9f3a\"], [0.8888888888888888, \"#fdca26\"], [1.0, \"#f0f921\"]], \"type\": \"heatmapgl\"}], \"histogram\": [{\"marker\": {\"colorbar\": {\"outlinewidth\": 0, \"ticks\": \"\"}}, \"type\": \"histogram\"}], \"histogram2d\": [{\"colorbar\": {\"outlinewidth\": 0, \"ticks\": \"\"}, \"colorscale\": [[0.0, \"#0d0887\"], [0.1111111111111111, \"#46039f\"], [0.2222222222222222, \"#7201a8\"], [0.3333333333333333, \"#9c179e\"], [0.4444444444444444, \"#bd3786\"], [0.5555555555555556, \"#d8576b\"], [0.6666666666666666, \"#ed7953\"], [0.7777777777777778, \"#fb9f3a\"], [0.8888888888888888, \"#fdca26\"], [1.0, \"#f0f921\"]], \"type\": \"histogram2d\"}], \"histogram2dcontour\": [{\"colorbar\": {\"outlinewidth\": 0, \"ticks\": \"\"}, \"colorscale\": [[0.0, \"#0d0887\"], [0.1111111111111111, \"#46039f\"], [0.2222222222222222, \"#7201a8\"], [0.3333333333333333, \"#9c179e\"], [0.4444444444444444, \"#bd3786\"], [0.5555555555555556, \"#d8576b\"], [0.6666666666666666, \"#ed7953\"], [0.7777777777777778, \"#fb9f3a\"], [0.8888888888888888, \"#fdca26\"], [1.0, \"#f0f921\"]], \"type\": \"histogram2dcontour\"}], \"mesh3d\": [{\"colorbar\": {\"outlinewidth\": 0, \"ticks\": \"\"}, \"type\": \"mesh3d\"}], \"parcoords\": [{\"line\": {\"colorbar\": {\"outlinewidth\": 0, \"ticks\": \"\"}}, \"type\": \"parcoords\"}], \"pie\": [{\"automargin\": true, \"type\": \"pie\"}], \"scatter\": [{\"marker\": {\"colorbar\": {\"outlinewidth\": 0, \"ticks\": \"\"}}, \"type\": \"scatter\"}], \"scatter3d\": [{\"line\": {\"colorbar\": {\"outlinewidth\": 0, \"ticks\": \"\"}}, \"marker\": {\"colorbar\": {\"outlinewidth\": 0, \"ticks\": \"\"}}, \"type\": \"scatter3d\"}], \"scattercarpet\": [{\"marker\": {\"colorbar\": {\"outlinewidth\": 0, \"ticks\": \"\"}}, \"type\": \"scattercarpet\"}], \"scattergeo\": [{\"marker\": {\"colorbar\": {\"outlinewidth\": 0, \"ticks\": \"\"}}, \"type\": \"scattergeo\"}], \"scattergl\": [{\"marker\": {\"colorbar\": {\"outlinewidth\": 0, \"ticks\": \"\"}}, \"type\": \"scattergl\"}], \"scattermapbox\": [{\"marker\": {\"colorbar\": {\"outlinewidth\": 0, \"ticks\": \"\"}}, \"type\": \"scattermapbox\"}], \"scatterpolar\": [{\"marker\": {\"colorbar\": {\"outlinewidth\": 0, \"ticks\": \"\"}}, \"type\": \"scatterpolar\"}], \"scatterpolargl\": [{\"marker\": {\"colorbar\": {\"outlinewidth\": 0, \"ticks\": \"\"}}, \"type\": \"scatterpolargl\"}], \"scatterternary\": [{\"marker\": {\"colorbar\": {\"outlinewidth\": 0, \"ticks\": \"\"}}, \"type\": \"scatterternary\"}], \"surface\": [{\"colorbar\": {\"outlinewidth\": 0, \"ticks\": \"\"}, \"colorscale\": [[0.0, \"#0d0887\"], [0.1111111111111111, \"#46039f\"], [0.2222222222222222, \"#7201a8\"], [0.3333333333333333, \"#9c179e\"], [0.4444444444444444, \"#bd3786\"], [0.5555555555555556, \"#d8576b\"], [0.6666666666666666, \"#ed7953\"], [0.7777777777777778, \"#fb9f3a\"], [0.8888888888888888, \"#fdca26\"], [1.0, \"#f0f921\"]], \"type\": \"surface\"}], \"table\": [{\"cells\": {\"fill\": {\"color\": \"#EBF0F8\"}, \"line\": {\"color\": \"white\"}}, \"header\": {\"fill\": {\"color\": \"#C8D4E3\"}, \"line\": {\"color\": \"white\"}}, \"type\": \"table\"}]}, \"layout\": {\"annotationdefaults\": {\"arrowcolor\": \"#2a3f5f\", \"arrowhead\": 0, \"arrowwidth\": 1}, \"coloraxis\": {\"colorbar\": {\"outlinewidth\": 0, \"ticks\": \"\"}}, \"colorscale\": {\"diverging\": [[0, \"#8e0152\"], [0.1, \"#c51b7d\"], [0.2, \"#de77ae\"], [0.3, \"#f1b6da\"], [0.4, \"#fde0ef\"], [0.5, \"#f7f7f7\"], [0.6, \"#e6f5d0\"], [0.7, \"#b8e186\"], [0.8, \"#7fbc41\"], [0.9, \"#4d9221\"], [1, \"#276419\"]], \"sequential\": [[0.0, \"#0d0887\"], [0.1111111111111111, \"#46039f\"], [0.2222222222222222, \"#7201a8\"], [0.3333333333333333, \"#9c179e\"], [0.4444444444444444, \"#bd3786\"], [0.5555555555555556, \"#d8576b\"], [0.6666666666666666, \"#ed7953\"], [0.7777777777777778, \"#fb9f3a\"], [0.8888888888888888, \"#fdca26\"], [1.0, \"#f0f921\"]], \"sequentialminus\": [[0.0, \"#0d0887\"], [0.1111111111111111, \"#46039f\"], [0.2222222222222222, \"#7201a8\"], [0.3333333333333333, \"#9c179e\"], [0.4444444444444444, \"#bd3786\"], [0.5555555555555556, \"#d8576b\"], [0.6666666666666666, \"#ed7953\"], [0.7777777777777778, \"#fb9f3a\"], [0.8888888888888888, \"#fdca26\"], [1.0, \"#f0f921\"]]}, \"colorway\": [\"#636efa\", \"#EF553B\", \"#00cc96\", \"#ab63fa\", \"#FFA15A\", \"#19d3f3\", \"#FF6692\", \"#B6E880\", \"#FF97FF\", \"#FECB52\"], \"font\": {\"color\": \"#2a3f5f\"}, \"geo\": {\"bgcolor\": \"white\", \"lakecolor\": \"white\", \"landcolor\": \"#E5ECF6\", \"showlakes\": true, \"showland\": true, \"subunitcolor\": \"white\"}, \"hoverlabel\": {\"align\": \"left\"}, \"hovermode\": \"closest\", \"mapbox\": {\"style\": \"light\"}, \"paper_bgcolor\": \"white\", \"plot_bgcolor\": \"#E5ECF6\", \"polar\": {\"angularaxis\": {\"gridcolor\": \"white\", \"linecolor\": \"white\", \"ticks\": \"\"}, \"bgcolor\": \"#E5ECF6\", \"radialaxis\": {\"gridcolor\": \"white\", \"linecolor\": \"white\", \"ticks\": \"\"}}, \"scene\": {\"xaxis\": {\"backgroundcolor\": \"#E5ECF6\", \"gridcolor\": \"white\", \"gridwidth\": 2, \"linecolor\": \"white\", \"showbackground\": true, \"ticks\": \"\", \"zerolinecolor\": \"white\"}, \"yaxis\": {\"backgroundcolor\": \"#E5ECF6\", \"gridcolor\": \"white\", \"gridwidth\": 2, \"linecolor\": \"white\", \"showbackground\": true, \"ticks\": \"\", \"zerolinecolor\": \"white\"}, \"zaxis\": {\"backgroundcolor\": \"#E5ECF6\", \"gridcolor\": \"white\", \"gridwidth\": 2, \"linecolor\": \"white\", \"showbackground\": true, \"ticks\": \"\", \"zerolinecolor\": \"white\"}}, \"shapedefaults\": {\"line\": {\"color\": \"#2a3f5f\"}}, \"ternary\": {\"aaxis\": {\"gridcolor\": \"white\", \"linecolor\": \"white\", \"ticks\": \"\"}, \"baxis\": {\"gridcolor\": \"white\", \"linecolor\": \"white\", \"ticks\": \"\"}, \"bgcolor\": \"#E5ECF6\", \"caxis\": {\"gridcolor\": \"white\", \"linecolor\": \"white\", \"ticks\": \"\"}}, \"title\": {\"x\": 0.05}, \"xaxis\": {\"automargin\": true, \"gridcolor\": \"white\", \"linecolor\": \"white\", \"ticks\": \"\", \"title\": {\"standoff\": 15}, \"zerolinecolor\": \"white\", \"zerolinewidth\": 2}, \"yaxis\": {\"automargin\": true, \"gridcolor\": \"white\", \"linecolor\": \"white\", \"ticks\": \"\", \"title\": {\"standoff\": 15}, \"zerolinecolor\": \"white\", \"zerolinewidth\": 2}}}, \"width\": 800, \"xaxis\": {\"color\": \"grey\", \"title\": {\"font\": {\"color\": \"grey\"}, \"text\": \"Quantity of programming languages\"}}, \"yaxis\": {\"color\": \"grey\", \"title\": {\"font\": {\"color\": \"grey\"}, \"text\": \"Average Salary (USD per Year)\"}}},\n",
              "                        {\"responsive\": true}\n",
              "                    ).then(function(){\n",
              "                            \n",
              "var gd = document.getElementById('88298ebf-773c-490c-a6ce-02c9d38bac94');\n",
              "var x = new MutationObserver(function (mutations, observer) {{\n",
              "        var display = window.getComputedStyle(gd).display;\n",
              "        if (!display || display === 'none') {{\n",
              "            console.log([gd, 'removed!']);\n",
              "            Plotly.purge(gd);\n",
              "            observer.disconnect();\n",
              "        }}\n",
              "}});\n",
              "\n",
              "// Listen for the removal of the full notebook cells\n",
              "var notebookContainer = gd.closest('#notebook-container');\n",
              "if (notebookContainer) {{\n",
              "    x.observe(notebookContainer, {childList: true});\n",
              "}}\n",
              "\n",
              "// Listen for the clearing of the current output cell\n",
              "var outputEl = gd.closest('.output');\n",
              "if (outputEl) {{\n",
              "    x.observe(outputEl, {childList: true});\n",
              "}}\n",
              "\n",
              "                        })\n",
              "                };\n",
              "                \n",
              "            </script>\n",
              "        </div>\n",
              "</body>\n",
              "</html>"
            ]
          },
          "metadata": {
            "tags": []
          }
        }
      ]
    }
  ]
}